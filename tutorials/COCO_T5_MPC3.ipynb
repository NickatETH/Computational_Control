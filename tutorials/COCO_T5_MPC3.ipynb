{
 "cells": [
  {
   "cell_type": "markdown",
   "metadata": {
    "id": "yhy-jT-CQ0G8"
   },
   "source": [
    "# Robust MPC\n",
    "\n",
    "We want to implement the worst-case robust MPC example from the lecture from Slide 6. We have the following LTI dynamics\n",
    "\n",
    "$$ x_{k+1} = x_k + u_k + w_k$$\n",
    "\n",
    "with $x_k \\in \\mathbb{R}$ and $u_k \\in \\mathbb{R}$.\n",
    "Solve the following optimal control problem (OPC)\n",
    "\n",
    "\\begin{array}{ll} \\mbox{min}_{u,x} & \\sum_{k=0}^{K-1} x_k^2 + u_k^2\\\\\n",
    "\\mbox{s.t.} & x_{k+1} = x_k + u_k + w_k\\\\%, \\quad k=0, \\ldots, K-1\\\\\n",
    "& | x_k|\\leq 1, \\quad x_0 = 1.\n",
    "\\end{array}\n",
    "\n",
    "It is enough to implement the constraints for the worst-case noise realizations, so $w_{max} = [0.5,0.5, 0.5, 0.5....]$ and $w_{min} = [-0.5,-0.5, -0.5, -0.5....]$."
   ]
  },
  {
   "cell_type": "code",
   "execution_count": 1,
   "metadata": {
    "id": "BFHWIHpFEl49"
   },
   "outputs": [],
   "source": [
    "import numpy as np\n",
    "import cvxpy as cp\n",
    "import matplotlib.pyplot as plt\n",
    "import random\n",
    "\n",
    "# WTF? Wait for printouts or solutions, else very hard to solve!"
   ]
  },
  {
   "cell_type": "code",
   "execution_count": 2,
   "metadata": {
    "id": "TUtbv5t3Ur4r"
   },
   "outputs": [
    {
     "name": "stderr",
     "output_type": "stream",
     "text": [
      "(CVXPY) Aug 13 07:12:56 PM: Your problem has 23 variables, 27 constraints, and 0 parameters.\n",
      "(CVXPY) Aug 13 07:12:56 PM: It is compliant with the following grammars: DCP, DQCP\n",
      "(CVXPY) Aug 13 07:12:56 PM: (If you need to solve this problem multiple times, but with different data, consider using parameters.)\n",
      "(CVXPY) Aug 13 07:12:56 PM: CVXPY will first compile your problem; then, it will invoke a numerical solver to obtain a solution.\n",
      "(CVXPY) Aug 13 07:12:56 PM: Your problem is compiled with the CPP canonicalization backend.\n",
      "(CVXPY) Aug 13 07:12:56 PM: Compiling problem (target solver=OSQP).\n",
      "(CVXPY) Aug 13 07:12:56 PM: Reduction chain: CvxAttr2Constr -> Qp2SymbolicQp -> QpMatrixStuffing -> OSQP\n",
      "(CVXPY) Aug 13 07:12:56 PM: Applying reduction CvxAttr2Constr\n",
      "(CVXPY) Aug 13 07:12:56 PM: Applying reduction Qp2SymbolicQp\n",
      "(CVXPY) Aug 13 07:12:56 PM: Applying reduction QpMatrixStuffing\n",
      "(CVXPY) Aug 13 07:12:56 PM: Applying reduction OSQP\n",
      "(CVXPY) Aug 13 07:12:56 PM: Finished problem compilation (took 2.770e-02 seconds).\n",
      "(CVXPY) Aug 13 07:12:56 PM: Invoking solver OSQP  to obtain a solution.\n",
      "(CVXPY) Aug 13 07:12:56 PM: Problem status: infeasible\n",
      "(CVXPY) Aug 13 07:12:56 PM: Optimal value: inf\n",
      "(CVXPY) Aug 13 07:12:56 PM: Compilation took 2.770e-02 seconds\n",
      "(CVXPY) Aug 13 07:12:56 PM: Solver (including time spent in interface) took 2.286e-03 seconds\n"
     ]
    },
    {
     "name": "stdout",
     "output_type": "stream",
     "text": [
      "===============================================================================\n",
      "                                     CVXPY                                     \n",
      "                                     v1.7.1                                    \n",
      "===============================================================================\n",
      "-------------------------------------------------------------------------------\n",
      "                                  Compilation                                  \n",
      "-------------------------------------------------------------------------------\n",
      "-------------------------------------------------------------------------------\n",
      "                                Numerical solver                               \n",
      "-------------------------------------------------------------------------------\n",
      "-----------------------------------------------------------------\n",
      "           OSQP v1.0.0  -  Operator Splitting QP Solver\n",
      "              (c) The OSQP Developer Team\n",
      "-----------------------------------------------------------------\n",
      "problem:  variables n = 43, constraints m = 57\n",
      "          nnz(P) + nnz(A) = 127\n",
      "settings: algebra = Built-in,\n",
      "          OSQPInt = 4 bytes, OSQPFloat = 8 bytes,\n",
      "          linear system solver = QDLDL v0.1.8,\n",
      "          eps_abs = 1.0e-05, eps_rel = 1.0e-05,\n",
      "          eps_prim_inf = 1.0e-04, eps_dual_inf = 1.0e-04,\n",
      "          rho = 1.00e-01 (adaptive: 50 iterations),\n",
      "          sigma = 1.00e-06, alpha = 1.60, max_iter = 10000\n",
      "          check_termination: on (interval 25, duality gap: on),\n",
      "          time_limit: 1.00e+10 sec,\n",
      "          scaling: on (10 iterations), scaled_termination: off\n",
      "          warm starting: on, polishing: on, \n",
      "iter   objective    prim res   dual res   gap        rel kkt    rho         time\n",
      "   1   0.0000e+00   1.00e+00   1.50e+02  -4.50e+02   1.50e+02   1.00e-01    1.04e-04s\n",
      "  50   1.1917e+00   5.04e-01   1.99e-04  -1.04e+01   5.04e-01   2.67e+00*   1.86e-04s\n",
      " 100   1.2825e+00   4.98e-01   9.15e-05  -2.76e+02   4.98e-01   1.06e+02*   2.70e-04s\n",
      " 125   1.0000e+30   4.98e-01   8.66e-04  -5.54e+03   4.98e-01   1.06e+02    3.27e-04s\n",
      "\n",
      "status:               primal infeasible\n",
      "number of iterations: 125\n",
      "run time:             3.62e-04s\n",
      "optimal rho estimate: 1.36e+03\n",
      "\n",
      "-------------------------------------------------------------------------------\n",
      "                                    Summary                                    \n",
      "-------------------------------------------------------------------------------\n"
     ]
    },
    {
     "ename": "TypeError",
     "evalue": "unsupported operand type(s) for *: 'int' and 'NoneType'",
     "output_type": "error",
     "traceback": [
      "\u001b[31m---------------------------------------------------------------------------\u001b[39m",
      "\u001b[31mTypeError\u001b[39m                                 Traceback (most recent call last)",
      "\u001b[36mCell\u001b[39m\u001b[36m \u001b[39m\u001b[32mIn[2]\u001b[39m\u001b[32m, line 50\u001b[39m\n\u001b[32m     47\u001b[39m     \u001b[38;5;28;01mbreak\u001b[39;00m\n\u001b[32m     49\u001b[39m w_realized = random.uniform(w_min, w_max)\n\u001b[32m---> \u001b[39m\u001b[32m50\u001b[39m x_0 = A * x_0 + \u001b[43mB\u001b[49m\u001b[43m \u001b[49m\u001b[43m*\u001b[49m\u001b[43m \u001b[49m\u001b[43mu\u001b[49m\u001b[43m[\u001b[49m\u001b[43m:\u001b[49m\u001b[43m,\u001b[49m\u001b[32;43m0\u001b[39;49m\u001b[43m]\u001b[49m\u001b[43m.\u001b[49m\u001b[43mvalue\u001b[49m + w_realized\n\u001b[32m     52\u001b[39m u_traj[:, t] = u[:,\u001b[32m0\u001b[39m].value\n\u001b[32m     53\u001b[39m x_realized_traj[:, t+\u001b[32m1\u001b[39m] = x_0\n",
      "\u001b[31mTypeError\u001b[39m: unsupported operand type(s) for *: 'int' and 'NoneType'"
     ]
    }
   ],
   "source": [
    "\n",
    "\n",
    "#%% Feedback MPC\n",
    "n_x, n_u = 1, 1\n",
    "K = 5\n",
    "A = 1\n",
    "B = 1\n",
    "q = 1\n",
    "r = 1\n",
    "T = 30\n",
    "\n",
    "\n",
    "# Maximum disturbance values, as the set is not time-varying these are constant for all k = 0,..., K\n",
    "w_min = -0.5\n",
    "w_max = 0.5\n",
    "\n",
    "x_0 = np.array(1)\n",
    "\n",
    "x_realized_traj = np.zeros([n_x, T+1])\n",
    "x_realized_traj[:, 0] = x_0\n",
    "u_traj =  np.zeros([n_u, T])\n",
    "\n",
    "for t in range(T):\n",
    "\n",
    "    x_nom = cp.Variable((1, K + 1))\n",
    "    x_min = cp.Variable((1, K + 1))\n",
    "    x_max = cp.Variable((1, K + 1))\n",
    "    u = cp.Variable((1, K))\n",
    "\n",
    "    cost = 0\n",
    "    constr = []\n",
    "    for k in range(K):\n",
    "        cost += cp.quad_form(x_nom[:,k],q*np.eye(n_x)) + cp.quad_form(u[:,k],r*np.eye(n_u))\n",
    "\n",
    "        constr += [x_nom[:, k + 1] == A * x_nom[:, k] +  B * u[:, k] ,\n",
    "                   x_min[:, k + 1] == A * x_min[:, k] + B * u[:, k] + w_min ,\n",
    "                   cp.norm(x_min[:, k], 1) <= 1,\n",
    "                   x_max[:, k + 1] == A * x_max[:, k]+  B * u[:, k] + w_max,\n",
    "                   cp.norm(x_max[:, k], 1) <= 1]\n",
    "    # sums problem objectives and concatenates constraints.\n",
    "    constr += [x_min[:, 0] == x_0, x_max[:, 0] == x_0]\n",
    "    problem = cp.Problem(cp.Minimize(cost), constr)\n",
    "    problem.solve(verbose = True)\n",
    "\n",
    "    if problem.status == \"infeasible_inaccurate\":\n",
    "        print(\"###################\")\n",
    "        print(\"Problem is infeasible.\")\n",
    "        print(\"###################\")\n",
    "        break\n",
    "\n",
    "    w_realized = random.uniform(w_min, w_max)\n",
    "    x_0 = A * x_0 + B * u[:,0].value + w_realized\n",
    "\n",
    "    u_traj[:, t] = u[:,0].value\n",
    "    x_realized_traj[:, t+1] = x_0\n",
    "\n",
    "\n",
    "\n"
   ]
  },
  {
   "cell_type": "markdown",
   "metadata": {
    "id": "9tSR6ol-U0Wx"
   },
   "source": [
    "**Question 1:**\n",
    "\n",
    "Can you find an initial state for which the robust MPC problem above is feasible? Why not? Why can the MPC not solve this simple problem?\n",
    "\n",
    "**Answer 1:**\n",
    "No, the disturbance is too much "
   ]
  },
  {
   "cell_type": "markdown",
   "metadata": {
    "id": "QKLMZUd3WOiQ"
   },
   "source": [
    "# Feedback MPC\n",
    "\n",
    "Now using the same example from the lecture, we want to design a feedback MPC policy\n",
    "\\begin{equation}\n",
    "\\pi_k(x_k, \\mathbf{v})=v_k + L x_k\n",
    "\\end{equation}\n",
    "wich renders the optimal control problem above feasible.\n",
    "\n",
    "We use the same worst-case approach, but cancel some of the effect of the disturbance using the state-feedback."
   ]
  },
  {
   "cell_type": "code",
   "execution_count": 3,
   "metadata": {
    "id": "GvKY1tuaXjlG"
   },
   "outputs": [],
   "source": [
    "#%% Feedback MPC\n",
    "n_x, n_u = 1, 1\n",
    "\n",
    "K = 5\n",
    "A = 1\n",
    "B = 1\n",
    "q = 1\n",
    "r = 1\n",
    "L = -1\n",
    "\n",
    "\n",
    "# Maximum disturbance values, as the set is not time-varying these are constant for all k = 0,..., K\n",
    "w_min = -0.5\n",
    "w_max = 0.5\n",
    "\n",
    "x_0 = np.array(1)\n",
    "\n",
    "x_realized_traj = np.zeros([n_x, T+1])\n",
    "x_realized_traj[:, 0] = x_0\n",
    "v_traj =  np.zeros([n_u, T])\n",
    "\n",
    "\n",
    "for t in range(T):\n",
    "\n",
    "    x_min = cp.Variable((1, K + 1))\n",
    "    x_max = cp.Variable((1, K + 1))\n",
    "    v = cp.Variable((1, K))\n",
    "\n",
    "    cost = 0\n",
    "    constr = []\n",
    "    for k in range(K):\n",
    "        #policy\n",
    "        pi_min = v[:,k] + L*x_min[:,k]\n",
    "        pi_max = v[:,k] + L*x_max[:,k]\n",
    "        pi_nom = v[:,k] + L*x_nom[:,k]\n",
    "\n",
    "        cost += cp.quad_form(x_nom[:,k],q*np.eye(n_x)) + cp.quad_form(pi_nom,r*np.eye(n_u))\n",
    "        constr += [x_nom[:, k + 1] == A * x_nom[:, k] +  B * pi_nom ,\n",
    "                   x_min[:, k + 1] == A * x_min[:, k] +  B * pi_min + w_min ,\n",
    "                   cp.norm(x_min[:, k], 1) <= 1,\n",
    "                   x_max[:, k + 1] == A * x_max[:, k]+ B * pi_max + w_max,\n",
    "                   cp.norm(x_max[:, k], 1) <= 1]\n",
    "    # sums problem objectives and concatenates constraints.\n",
    "    constr += [x_min[:, 0] == x_0, x_max[:, 0] == x_0, x_nom[:, 0] == x_0]\n",
    "    problem = cp.Problem(cp.Minimize(cost), constr)\n",
    "    problem.solve(verbose = False)\n",
    "\n",
    "    if problem.status == \"infeasible\":\n",
    "        print(\"###################\")\n",
    "        print(\"Problem is infeasible.\")\n",
    "        print(\"###################\")\n",
    "        break\n",
    "\n",
    "    w_realized = random.uniform(w_min, w_max)\n",
    "    x_0 = (A + B*L) * x_0 + B * v[:,0].value + w_realized\n",
    "\n",
    "    v_traj[:, t] = v[:,0].value\n",
    "    x_realized_traj[:, t+1] = x_0"
   ]
  },
  {
   "cell_type": "markdown",
   "metadata": {
    "id": "PBNJy8A7ddB2"
   },
   "source": [
    "**Question 2:**\n",
    "\n",
    "For which values of the state-feedback gain $L$ and initial values $x_0$ is the Feedback MPC problem above feasible? Explain, why is it not feasible, for $L= 0.25$ and $x_0 = 0$ ?\n",
    "\n",
    "You can plot the outputs below.\n",
    "\n",
    "\n",
    "**Asnwer 2:**\n",
    "\n",
    "See solution"
   ]
  },
  {
   "cell_type": "code",
   "execution_count": 4,
   "metadata": {
    "id": "7IFK9UpJdpu8"
   },
   "outputs": [
    {
     "data": {
      "text/plain": [
       "Text(0.5, 0, '$t$')"
      ]
     },
     "execution_count": 4,
     "metadata": {},
     "output_type": "execute_result"
    },
    {
     "data": {
      "image/png": "[encoded data removed]",
      "text/plain": [
       "<Figure size 640x480 with 1 Axes>"
      ]
     },
     "metadata": {},
     "output_type": "display_data"
    },
    {
     "data": {
      "image/png": "[encoded data removed]",
      "text/plain": [
       "<Figure size 640x480 with 1 Axes>"
      ]
     },
     "metadata": {},
     "output_type": "display_data"
    }
   ],
   "source": [
    "# Plotting\n",
    "f1 = plt.figure()\n",
    "plt.plot(x_realized_traj[0,:], marker = 'x')\n",
    "\n",
    "\n",
    "plt.plot()\n",
    "plt.grid(color='lightgrey', linestyle='--', linewidth=0.5)\n",
    "plt.xlabel(\"$t$\", fontsize=16)\n",
    "plt.ylabel(\"$x_t$\", fontsize=16)\n",
    "\n",
    "\n",
    "\n",
    "\n",
    "f2 = plt.figure()\n",
    "\n",
    "plt.plot(v_traj[0,:].round(4), marker = 'x')\n",
    "\n",
    "plt.plot()\n",
    "plt.grid(color='lightgrey', linestyle='--', linewidth=0.5)\n",
    "plt.ylabel(\"$v_t$\", fontsize=16)\n",
    "plt.xlabel(\"$t$\", fontsize=16)"
   ]
  },
  {
   "cell_type": "markdown",
   "metadata": {
    "id": "LxW2jHrBzmmu"
   },
   "source": [
    "General note if the disturbances come from a probability distribution:\n",
    "\n",
    "This \"worst-case\" robust approach only works for disturbances coming from bounded distributions, where you would take the the max and min bounds of the distribution and apply the same procedure. Note however that such a robust approach does not take into account the likelihood of disturbance realizations at the boundary but rather ensures constraint satisfaction at all times but which will lead to conservatism of the solution and feasibility issues as we have seen in the exercises aboce. In some applications it is preferable to work with probabilistic constraints (\"chance constraints\") but this is not covered in the course. See this article for further reading:\n",
    "\n",
    "A. Mesbah, \"Stochastic Model Predictive Control: An Overview and Perspectives for Future Research,\" in IEEE Control Systems Magazine, vol. 36, no. 6, pp. 30-44, Dec. 2016, doi: 10.1109/MCS.2016.2602087."
   ]
  },
  {
   "cell_type": "markdown",
   "metadata": {
    "id": "Pas_2PSkERMc"
   },
   "source": [
    "# Economic MPC vs Tracking MPC"
   ]
  },
  {
   "cell_type": "markdown",
   "metadata": {
    "id": "uG452k62Gpd_"
   },
   "source": [
    "We have the following LTI dynamics\n",
    "\n",
    "$$ x_{k+1} = A\\, x_k + B \\,u_k  = \\left[\\begin{smallmatrix} 0.857 & 0.884 \\\\ -0.0147& -0.0151 \\end{smallmatrix}\\right] x_k + \\left[\\begin{smallmatrix}  8.57\\\\ 0.884\\end{smallmatrix}\\right] u_k.$$\n",
    "\n",
    "with $x_k \\in \\mathbb{R}^2$ and $u_k \\in \\mathbb{R}$.\n",
    "Solve the following optimal control problem (OPC)\n",
    "\n",
    "\\begin{array}{ll} \\mbox{minimize} & \\sum_{k=0}^{K-1} g(x_k, u_k)\\\\\n",
    "\\mbox{subject to} & x_{k+1} = Ax_k + Bu_k\\\\%, \\quad k=0, \\ldots, K-1\\\\\n",
    "& \\| u_k\\|_{\\infty}\\leq 1, \\quad x_0 = \\left[\\begin{smallmatrix} 80 \\\\ 10 \\end{smallmatrix}\\right].\n",
    "\\end{array}\n",
    "\n",
    "Where the tracking MPC has the following cost function:\n",
    "\\begin{equation}\n",
    "g_{tr}(x_k, u_k) = \\|x_k -x_s \\|^2_Q + \\| u_k -u_s\\|_R^2\n",
    "\\end{equation}\n",
    "with $Q = \\left[\\begin{smallmatrix} 2& 0 \\\\ 0 & 2 \\end{smallmatrix}\\right]$ and $R = 2$.\n",
    "\n",
    "The economic MPC has the following economic cost function:\n",
    "\n",
    "\\begin{equation}\n",
    "g_{e}(x_k, u_k) = q^T x_k + r\\, u_K\n",
    "\\end{equation}\n",
    "\n",
    "with $q =  \\left[\\begin{smallmatrix}  -3\\\\-2\\end{smallmatrix}\\right]$ and $r = -2$."
   ]
  },
  {
   "cell_type": "code",
   "execution_count": 3,
   "metadata": {
    "id": "KAggSpEBQoMv"
   },
   "outputs": [],
   "source": [
    "import numpy as np\n",
    "import cvxpy as cp\n",
    "import matplotlib.pyplot as plt\n",
    "\n",
    "\n",
    "n_x, n_u = 2,1\n",
    "\n",
    "A = np.array([[0.857, 0.884], [-0.0147, -0.0151]])\n",
    "B = np.array([[8.57], [0.884]])\n",
    "T = 30\n",
    "K= 7"
   ]
  },
  {
   "cell_type": "markdown",
   "metadata": {
    "id": "7IPGAZVxOXwH"
   },
   "source": [
    "### Exercise 1:\n",
    "\n",
    "Compute the economically optimal steady state and input pair $x_s$ and $u_s$."
   ]
  },
  {
   "cell_type": "code",
   "execution_count": 4,
   "metadata": {
    "id": "CJhsUId5Opxk"
   },
   "outputs": [
    {
     "name": "stdout",
     "output_type": "stream",
     "text": [
      "The economically optimal steady-state input is:[1.]\n",
      "The economically optimal steady state is:[60.  0.]\n"
     ]
    },
    {
     "name": "stderr",
     "output_type": "stream",
     "text": [
      "/opt/conda/lib/python3.12/site-packages/cvxpy/expressions/expression.py:683: UserWarning: \n",
      "This use of ``*`` has resulted in matrix multiplication.\n",
      "Using ``*`` for matrix multiplication has been deprecated since CVXPY 1.1.\n",
      "    Use ``*`` for matrix-scalar and vector-scalar multiplication.\n",
      "    Use ``@`` for matrix-matrix and matrix-vector multiplication.\n",
      "    Use ``multiply`` for elementwise multiplication.\n",
      "This code path has been hit 1 times so far.\n",
      "\n",
      "  warnings.warn(msg, UserWarning)\n"
     ]
    }
   ],
   "source": [
    "#%% Solve steady-state problem with economic cost and input constraints\n",
    "\n",
    "x_s = cp.Variable((n_x, 1))\n",
    "u_s = cp.Variable((n_u, 1))\n",
    "\n",
    "r = -2\n",
    "q = np.array([-3,-2])\n",
    "\n",
    "cost = 0\n",
    "constr = []\n",
    "\n",
    "cost +=  q @ x_s[:, 0] + r * u_s[:, 0]\n",
    "constr += [x_s[:, 0] == A @ x_s[:,0] + B * u_s[:, 0], cp.norm(u_s[:, 0], 'inf') <= 1]\n",
    "\n",
    "# sums problem objectives and concatenates constraints.\n",
    "\n",
    "problem = cp.Problem(cp.Minimize(cost), constr)\n",
    "problem.solve(verbose = False)\n",
    "\n",
    "x_s = x_s.value.round().reshape(-1,)\n",
    "u_s = u_s.value.round().reshape(-1,)\n",
    "\n",
    "print('The economically optimal steady-state input is:'+ str(u_s))\n",
    "print('The economically optimal steady state is:'+ str(x_s))"
   ]
  },
  {
   "cell_type": "markdown",
   "metadata": {
    "id": "4-2QVdVJPg-2"
   },
   "source": [
    "### Exercise 2:\n",
    "\n",
    "Fill in the lines of code below for the tracking MPC and the economic MPC. Compare the two outputs and answer the questions."
   ]
  },
  {
   "cell_type": "code",
   "execution_count": 5,
   "metadata": {
    "id": "kMQ8dtEAFMZx"
   },
   "outputs": [
    {
     "name": "stderr",
     "output_type": "stream",
     "text": [
      "/opt/conda/lib/python3.12/site-packages/cvxpy/expressions/expression.py:683: UserWarning: \n",
      "This use of ``*`` has resulted in matrix multiplication.\n",
      "Using ``*`` for matrix multiplication has been deprecated since CVXPY 1.1.\n",
      "    Use ``*`` for matrix-scalar and vector-scalar multiplication.\n",
      "    Use ``@`` for matrix-matrix and matrix-vector multiplication.\n",
      "    Use ``multiply`` for elementwise multiplication.\n",
      "This code path has been hit 2 times so far.\n",
      "\n",
      "  warnings.warn(msg, UserWarning)\n",
      "/opt/conda/lib/python3.12/site-packages/cvxpy/expressions/expression.py:683: UserWarning: \n",
      "This use of ``*`` has resulted in matrix multiplication.\n",
      "Using ``*`` for matrix multiplication has been deprecated since CVXPY 1.1.\n",
      "    Use ``*`` for matrix-scalar and vector-scalar multiplication.\n",
      "    Use ``@`` for matrix-matrix and matrix-vector multiplication.\n",
      "    Use ``multiply`` for elementwise multiplication.\n",
      "This code path has been hit 3 times so far.\n",
      "\n",
      "  warnings.warn(msg, UserWarning)\n",
      "/opt/conda/lib/python3.12/site-packages/cvxpy/expressions/expression.py:683: UserWarning: \n",
      "This use of ``*`` has resulted in matrix multiplication.\n",
      "Using ``*`` for matrix multiplication has been deprecated since CVXPY 1.1.\n",
      "    Use ``*`` for matrix-scalar and vector-scalar multiplication.\n",
      "    Use ``@`` for matrix-matrix and matrix-vector multiplication.\n",
      "    Use ``multiply`` for elementwise multiplication.\n",
      "This code path has been hit 4 times so far.\n",
      "\n",
      "  warnings.warn(msg, UserWarning)\n",
      "/opt/conda/lib/python3.12/site-packages/cvxpy/expressions/expression.py:683: UserWarning: \n",
      "This use of ``*`` has resulted in matrix multiplication.\n",
      "Using ``*`` for matrix multiplication has been deprecated since CVXPY 1.1.\n",
      "    Use ``*`` for matrix-scalar and vector-scalar multiplication.\n",
      "    Use ``@`` for matrix-matrix and matrix-vector multiplication.\n",
      "    Use ``multiply`` for elementwise multiplication.\n",
      "This code path has been hit 5 times so far.\n",
      "\n",
      "  warnings.warn(msg, UserWarning)\n",
      "/opt/conda/lib/python3.12/site-packages/cvxpy/expressions/expression.py:683: UserWarning: \n",
      "This use of ``*`` has resulted in matrix multiplication.\n",
      "Using ``*`` for matrix multiplication has been deprecated since CVXPY 1.1.\n",
      "    Use ``*`` for matrix-scalar and vector-scalar multiplication.\n",
      "    Use ``@`` for matrix-matrix and matrix-vector multiplication.\n",
      "    Use ``multiply`` for elementwise multiplication.\n",
      "This code path has been hit 6 times so far.\n",
      "\n",
      "  warnings.warn(msg, UserWarning)\n",
      "/opt/conda/lib/python3.12/site-packages/cvxpy/expressions/expression.py:683: UserWarning: \n",
      "This use of ``*`` has resulted in matrix multiplication.\n",
      "Using ``*`` for matrix multiplication has been deprecated since CVXPY 1.1.\n",
      "    Use ``*`` for matrix-scalar and vector-scalar multiplication.\n",
      "    Use ``@`` for matrix-matrix and matrix-vector multiplication.\n",
      "    Use ``multiply`` for elementwise multiplication.\n",
      "This code path has been hit 7 times so far.\n",
      "\n",
      "  warnings.warn(msg, UserWarning)\n",
      "/opt/conda/lib/python3.12/site-packages/cvxpy/expressions/expression.py:683: UserWarning: \n",
      "This use of ``*`` has resulted in matrix multiplication.\n",
      "Using ``*`` for matrix multiplication has been deprecated since CVXPY 1.1.\n",
      "    Use ``*`` for matrix-scalar and vector-scalar multiplication.\n",
      "    Use ``@`` for matrix-matrix and matrix-vector multiplication.\n",
      "    Use ``multiply`` for elementwise multiplication.\n",
      "This code path has been hit 8 times so far.\n",
      "\n",
      "  warnings.warn(msg, UserWarning)\n"
     ]
    },
    {
     "ename": "ValueError",
     "evalue": "could not broadcast input array from shape (2,2) into shape (2,)",
     "output_type": "error",
     "traceback": [
      "\u001b[31m---------------------------------------------------------------------------\u001b[39m",
      "\u001b[31mValueError\u001b[39m                                Traceback (most recent call last)",
      "\u001b[36mCell\u001b[39m\u001b[36m \u001b[39m\u001b[32mIn[5]\u001b[39m\u001b[32m, line 31\u001b[39m\n\u001b[32m     28\u001b[39m     x_0 = A @ x_0 + B * u[:,\u001b[32m0\u001b[39m].value\n\u001b[32m     30\u001b[39m     u_traj[:, t] = u[:,\u001b[32m0\u001b[39m].value\n\u001b[32m---> \u001b[39m\u001b[32m31\u001b[39m     \u001b[43mx_traj\u001b[49m\u001b[43m[\u001b[49m\u001b[43m:\u001b[49m\u001b[43m,\u001b[49m\u001b[43m \u001b[49m\u001b[43mt\u001b[49m\u001b[43m+\u001b[49m\u001b[32;43m1\u001b[39;49m\u001b[43m]\u001b[49m = x_0\n\u001b[32m     33\u001b[39m u_tra = u_traj.copy()\n\u001b[32m     34\u001b[39m x_tra = x_traj.copy()\n",
      "\u001b[31mValueError\u001b[39m: could not broadcast input array from shape (2,2) into shape (2,)"
     ]
    }
   ],
   "source": [
    "#%%\n",
    "n_x, n_u = 2,1\n",
    "Q = 2*np.eye(n_x)\n",
    "R = 2\n",
    "\n",
    "x_0 = np.array([80,10])\n",
    "\n",
    "x_traj = np.zeros([n_x, T+1])\n",
    "u_traj =  np.zeros([n_u, T])\n",
    "\n",
    "x_traj[:, 0] = x_0\n",
    "\n",
    "for t in range(T):\n",
    "\n",
    "    x = cp.Variable((n_x, K + 1))\n",
    "    u = cp.Variable((n_u, K))\n",
    "\n",
    "    cost = 0\n",
    "    constr = []\n",
    "    for k in range(K):\n",
    "        cost +=  cp.quad_form(x[:, k] - x_s,Q) + R * (u[:, k]- u_s)**2\n",
    "        constr += [x[:, k + 1] == A @ x[:, k] + B * u[:, k], cp.norm(u[:, k], 'inf') <= 1]\n",
    "    # sums problem objectives and concatenates constraints.\n",
    "    constr += [x[:, 0] == x_0]\n",
    "    problem = cp.Problem(cp.Minimize(cost), constr)\n",
    "    problem.solve(verbose = False,solver=cp.SCS )\n",
    "\n",
    "    x_0 = A @ x_0 + B * u[:,0].value\n",
    "\n",
    "    u_traj[:, t] = u[:,0].value\n",
    "    x_traj[:, t+1] = x_0\n",
    "\n",
    "u_tra = u_traj.copy()\n",
    "x_tra = x_traj.copy()"
   ]
  },
  {
   "cell_type": "code",
   "execution_count": null,
   "metadata": {
    "id": "IVBxBV1nFNnq"
   },
   "outputs": [],
   "source": [
    "r = ### FILL IN HERE\n",
    "q = ### FILL IN HERE\n",
    "\n",
    "x_0 = ### FILL IN HERE\n",
    "\n",
    "x_traj = np.zeros([n_x, T+1])\n",
    "u_traj =  np.zeros([n_u, T])\n",
    "\n",
    "x_traj[:, 0] = x_0\n",
    "\n",
    "for t in range(T):\n",
    "\n",
    "    x = cp.Variable((n_x, K + 1))\n",
    "    u = cp.Variable((n_u, K))\n",
    "\n",
    "    cost = 0\n",
    "    constr = []\n",
    "    for k in range(K):\n",
    "        cost +=  ### FILL IN HERE\n",
    "        constr += [### FILL IN HERE, ### FILL IN HERE]\n",
    "    # sums problem objectives and concatenates constraints.\n",
    "    constr += [### FILL IN HERE]\n",
    "    problem = cp.Problem(cp.Minimize(cost), constr)\n",
    "    problem.solve(verbose = False)\n",
    "\n",
    "    x_0 = A @ x_0 + B * u[:,0].value\n",
    "\n",
    "    u_traj[:, t] = u[:,0].value\n",
    "    x_traj[:, t+1] = x_0\n",
    "\n",
    "u_eco = u_traj.copy()\n",
    "x_eco = x_traj.copy()"
   ]
  },
  {
   "cell_type": "code",
   "execution_count": null,
   "metadata": {
    "id": "LoGGWO6oFNY6"
   },
   "outputs": [],
   "source": [
    "%config InlineBackend.figure_format = 'svg'\n",
    "\n",
    "f1 = plt.figure()\n",
    "\n",
    "plt.plot(x_tra[0,:], x_tra[1,:], marker = 'x')\n",
    "plt.plot(x_eco[0,:], x_eco[1,:], marker = 'x')\n",
    "\n",
    "plt.plot()\n",
    "plt.grid(color='lightgrey', linestyle='--', linewidth=0.5)\n",
    "plt.xlabel(\"$(x_k)_1$\", fontsize=16)\n",
    "plt.ylabel(\"$(x_k)_2$\", fontsize=16)\n",
    "plt.legend(['Tracking MPC', 'Economic MPC'])\n",
    "\n",
    "f2 = plt.figure()\n",
    "\n",
    "plt.plot(u_tra[0,:], marker = 'x')\n",
    "plt.plot(u_eco[0,:], marker = 'x')\n",
    "\n",
    "plt.plot()\n",
    "plt.grid(color='lightgrey', linestyle='--', linewidth=0.5)\n",
    "plt.ylabel(\"$u_k$\", fontsize=16)\n",
    "plt.xlabel(\"$t$\", fontsize=16)\n",
    "plt.legend(['Tracking MPC', 'Economic MPC'])"
   ]
  },
  {
   "cell_type": "markdown",
   "metadata": {
    "id": "LPxcTZ8lP3au"
   },
   "source": [
    "**Question 3:**\n",
    "\n",
    "Why is the output of the economic MPC different to the tracking MPC?\n",
    "\n",
    "\n",
    "\n",
    "**Question 4:**\n",
    "\n",
    "Which of the two controllers gives the lower **economic** cost? You can either compute it above in code or make cost function arguments.\n",
    "\n",
    "\n",
    "\n",
    "**Question 5:**\n",
    "\n",
    "Why does the economic MPC converge to the optimal steady state of the system if there is no terminal state constraint to do so?\n",
    "\n",
    "\n",
    "\n",
    "**Question 6:**\n",
    "\n",
    "Can you modifiy the cost matrices of the tracking MPC problem such that the two outputs match?"
   ]
  }
 ],
 "metadata": {
  "colab": {
   "provenance": []
  },
  "kernelspec": {
   "display_name": "Python 3 (ipykernel)",
   "language": "python",
   "name": "python3"
  },
  "language_info": {
   "codemirror_mode": {
    "name": "ipython",
    "version": 3
   },
   "file_extension": ".py",
   "mimetype": "text/x-python",
   "name": "python",
   "nbconvert_exporter": "python",
   "pygments_lexer": "ipython3",
   "version": "3.12.10"
  }
 },
 "nbformat": 4,
 "nbformat_minor": 4
}
