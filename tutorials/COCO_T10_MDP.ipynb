{
 "cells": [
  {
   "cell_type": "markdown",
   "metadata": {
    "id": "HuJwpRzvQfzu"
   },
   "source": [
    "## Environment Settings (do not change)"
   ]
  },
  {
   "cell_type": "markdown",
   "metadata": {
    "id": "PWG9sOzMIBGM"
   },
   "source": [
    "Please do **not** change this part."
   ]
  },
  {
   "cell_type": "code",
   "execution_count": 1,
   "metadata": {},
   "outputs": [
    {
     "name": "stdout",
     "output_type": "stream",
     "text": [
      "Requirement already satisfied: gymnasium in /opt/conda/lib/python3.12/site-packages (1.1.1)\n",
      "Requirement already satisfied: numpy>=1.21.0 in /opt/conda/lib/python3.12/site-packages (from gymnasium) (2.1.3)\n",
      "Requirement already satisfied: cloudpickle>=1.2.0 in /opt/conda/lib/python3.12/site-packages (from gymnasium) (3.1.1)\n",
      "Requirement already satisfied: typing-extensions>=4.3.0 in /opt/conda/lib/python3.12/site-packages (from gymnasium) (4.12.2)\n",
      "Requirement already satisfied: farama-notifications>=0.0.1 in /opt/conda/lib/python3.12/site-packages (from gymnasium) (0.0.4)\n",
      "Requirement already satisfied: gymnasium[other] in /opt/conda/lib/python3.12/site-packages (1.1.1)\n",
      "Requirement already satisfied: numpy>=1.21.0 in /opt/conda/lib/python3.12/site-packages (from gymnasium[other]) (2.1.3)\n",
      "Requirement already satisfied: cloudpickle>=1.2.0 in /opt/conda/lib/python3.12/site-packages (from gymnasium[other]) (3.1.1)\n",
      "Requirement already satisfied: typing-extensions>=4.3.0 in /opt/conda/lib/python3.12/site-packages (from gymnasium[other]) (4.12.2)\n",
      "Requirement already satisfied: farama-notifications>=0.0.1 in /opt/conda/lib/python3.12/site-packages (from gymnasium[other]) (0.0.4)\n",
      "Requirement already satisfied: moviepy>=1.0.0 in /opt/conda/lib/python3.12/site-packages (from gymnasium[other]) (2.1.2)\n",
      "Requirement already satisfied: matplotlib>=3.0 in /opt/conda/lib/python3.12/site-packages (from gymnasium[other]) (3.10.1)\n",
      "Requirement already satisfied: opencv-python>=3.0 in /opt/conda/lib/python3.12/site-packages (from gymnasium[other]) (4.11.0.86)\n",
      "Requirement already satisfied: seaborn>=0.13 in /opt/conda/lib/python3.12/site-packages (from gymnasium[other]) (0.13.2)\n",
      "Requirement already satisfied: contourpy>=1.0.1 in /opt/conda/lib/python3.12/site-packages (from matplotlib>=3.0->gymnasium[other]) (1.3.1)\n",
      "Requirement already satisfied: cycler>=0.10 in /opt/conda/lib/python3.12/site-packages (from matplotlib>=3.0->gymnasium[other]) (0.12.1)\n",
      "Requirement already satisfied: fonttools>=4.22.0 in /opt/conda/lib/python3.12/site-packages (from matplotlib>=3.0->gymnasium[other]) (4.56.0)\n",
      "Requirement already satisfied: kiwisolver>=1.3.1 in /opt/conda/lib/python3.12/site-packages (from matplotlib>=3.0->gymnasium[other]) (1.4.8)\n",
      "Requirement already satisfied: packaging>=20.0 in /opt/conda/lib/python3.12/site-packages (from matplotlib>=3.0->gymnasium[other]) (24.2)\n",
      "Requirement already satisfied: pillow>=8 in /opt/conda/lib/python3.12/site-packages (from matplotlib>=3.0->gymnasium[other]) (10.4.0)\n",
      "Requirement already satisfied: pyparsing>=2.3.1 in /opt/conda/lib/python3.12/site-packages (from matplotlib>=3.0->gymnasium[other]) (3.2.1)\n",
      "Requirement already satisfied: python-dateutil>=2.7 in /opt/conda/lib/python3.12/site-packages (from matplotlib>=3.0->gymnasium[other]) (2.9.0.post0)\n",
      "Requirement already satisfied: decorator<6.0,>=4.0.2 in /opt/conda/lib/python3.12/site-packages (from moviepy>=1.0.0->gymnasium[other]) (5.2.1)\n",
      "Requirement already satisfied: imageio<3.0,>=2.5 in /opt/conda/lib/python3.12/site-packages (from moviepy>=1.0.0->gymnasium[other]) (2.37.0)\n",
      "Requirement already satisfied: imageio_ffmpeg>=0.2.0 in /opt/conda/lib/python3.12/site-packages (from moviepy>=1.0.0->gymnasium[other]) (0.6.0)\n",
      "Requirement already satisfied: proglog<=1.0.0 in /opt/conda/lib/python3.12/site-packages (from moviepy>=1.0.0->gymnasium[other]) (0.1.11)\n",
      "Requirement already satisfied: python-dotenv>=0.10 in /opt/conda/lib/python3.12/site-packages (from moviepy>=1.0.0->gymnasium[other]) (1.1.0)\n",
      "Requirement already satisfied: pandas>=1.2 in /opt/conda/lib/python3.12/site-packages (from seaborn>=0.13->gymnasium[other]) (2.2.3)\n",
      "Requirement already satisfied: pytz>=2020.1 in /opt/conda/lib/python3.12/site-packages (from pandas>=1.2->seaborn>=0.13->gymnasium[other]) (2024.1)\n",
      "Requirement already satisfied: tzdata>=2022.7 in /opt/conda/lib/python3.12/site-packages (from pandas>=1.2->seaborn>=0.13->gymnasium[other]) (2025.1)\n",
      "Requirement already satisfied: tqdm in /opt/conda/lib/python3.12/site-packages (from proglog<=1.0.0->moviepy>=1.0.0->gymnasium[other]) (4.67.1)\n",
      "Requirement already satisfied: six>=1.5 in /opt/conda/lib/python3.12/site-packages (from python-dateutil>=2.7->matplotlib>=3.0->gymnasium[other]) (1.17.0)\n",
      "Requirement already satisfied: gymnasium[toy-text] in /opt/conda/lib/python3.12/site-packages (1.1.1)\n",
      "Requirement already satisfied: numpy>=1.21.0 in /opt/conda/lib/python3.12/site-packages (from gymnasium[toy-text]) (2.1.3)\n",
      "Requirement already satisfied: cloudpickle>=1.2.0 in /opt/conda/lib/python3.12/site-packages (from gymnasium[toy-text]) (3.1.1)\n",
      "Requirement already satisfied: typing-extensions>=4.3.0 in /opt/conda/lib/python3.12/site-packages (from gymnasium[toy-text]) (4.12.2)\n",
      "Requirement already satisfied: farama-notifications>=0.0.1 in /opt/conda/lib/python3.12/site-packages (from gymnasium[toy-text]) (0.0.4)\n",
      "Requirement already satisfied: pygame>=2.1.3 in /opt/conda/lib/python3.12/site-packages (from gymnasium[toy-text]) (2.6.1)\n"
     ]
    }
   ],
   "source": [
    "!pip install gymnasium\n",
    "!pip install gymnasium[other]\n",
    "!pip install gymnasium[toy-text]"
   ]
  },
  {
   "cell_type": "code",
   "execution_count": 2,
   "metadata": {
    "colab": {
     "base_uri": "https://localhost:8080/"
    },
    "id": "vOSpQvM3sXIP",
    "outputId": "1c302dd3-fb83-4660-eec7-04c0ed0eec21"
   },
   "outputs": [],
   "source": [
    "import numpy as np\n",
    "from typing import List, Tuple\n",
    "import gymnasium as gym\n",
    "\n",
    "from gymnasium.wrappers import RecordVideo\n",
    "from base64 import b64encode\n",
    "from IPython.display import HTML\n",
    "\n",
    "def render_mp4(videopath: str) -> str:\n",
    "  \"\"\"\n",
    "  Gets a string containing a b4-encoded version of the MP4 video\n",
    "  at the specified path.\n",
    "  \"\"\"\n",
    "  mp4 = open(videopath, 'rb').read()\n",
    "  base64_encoded_mp4 = b64encode(mp4).decode()\n",
    "  return f'<video width=400 controls><source src=\"data:video/mp4;' \\\n",
    "         f'base64,{base64_encoded_mp4}\" type=\"video/mp4\"></video>'"
   ]
  },
  {
   "cell_type": "markdown",
   "metadata": {
    "id": "afa7Ngm0QuSU"
   },
   "source": [
    "## Basics"
   ]
  },
  {
   "cell_type": "markdown",
   "metadata": {
    "id": "xt0rrPLuQ8kL"
   },
   "source": [
    "Setup environment:"
   ]
  },
  {
   "cell_type": "code",
   "execution_count": 3,
   "metadata": {
    "colab": {
     "base_uri": "https://localhost:8080/"
    },
    "id": "-8A5Vd-hQ0KH",
    "outputId": "25ea74a6-ede3-4226-a623-ffeebdf84237"
   },
   "outputs": [],
   "source": [
    "# Discount factor (in [0,1))\n",
    "gamma = 0.95\n",
    "\n",
    "# Simulation\n",
    "n_episodes = 200\n",
    "max_length_episode = 100\n",
    "\n",
    "# Decide whether to generate a video or not\n",
    "generate_video = True # leave it to True (or delete the rendering)\n",
    "video_dir = 'vid'\n",
    "video_name = 'FrozenLake'\n",
    "n_episodes_video = 2 # episode which end up in the video\n",
    "\n",
    "# Environment\n",
    "env = gym.make('FrozenLake-v1', map_name=\"4x4\", is_slippery=True, render_mode='rgb_array')\n",
    "env = env.unwrapped\n",
    "\n",
    "# The tutorial will be on FrozenLake, but feel free to play with other enviroments too\n",
    "#env = gym.make('Taxi-v3', render_mode='rgb_array')\n",
    "#env = gym.make('CliffWalking-v0', render_mode='rgb_array')"
   ]
  },
  {
   "cell_type": "markdown",
   "metadata": {
    "id": "47a_QewIWRcz"
   },
   "source": [
    "States and actions (for the environment FrozenLake, 4x4):\n",
    "\n",
    "*   The state is the position on the 4x4 grid (i.e., between 0 and 15);\n",
    "*   The action is left (0), down (1), right (2), up (3).\n",
    "\n",
    "\n"
   ]
  },
  {
   "cell_type": "code",
   "execution_count": 4,
   "metadata": {
    "colab": {
     "base_uri": "https://localhost:8080/"
    },
    "id": "ZSnoAYuaVMCX",
    "outputId": "ff59e08f-e0c2-43c6-856d-d8a31632f220"
   },
   "outputs": [
    {
     "data": {
      "text/plain": [
       "Discrete(4)"
      ]
     },
     "execution_count": 4,
     "metadata": {},
     "output_type": "execute_result"
    }
   ],
   "source": [
    "env.action_space"
   ]
  },
  {
   "cell_type": "code",
   "execution_count": 5,
   "metadata": {
    "colab": {
     "base_uri": "https://localhost:8080/"
    },
    "id": "kd21IRa8AiKo",
    "outputId": "d5e6498a-1bb3-4072-9bc6-26d96ef6e3ac"
   },
   "outputs": [
    {
     "data": {
      "text/plain": [
       "np.int64(4)"
      ]
     },
     "execution_count": 5,
     "metadata": {},
     "output_type": "execute_result"
    }
   ],
   "source": [
    "env.action_space.n"
   ]
  },
  {
   "cell_type": "code",
   "execution_count": 6,
   "metadata": {
    "colab": {
     "base_uri": "https://localhost:8080/"
    },
    "id": "2bThY6qpWU0l",
    "outputId": "58de1c94-c0f1-4e9b-92b5-0564a6fc5c6b"
   },
   "outputs": [
    {
     "data": {
      "text/plain": [
       "Discrete(16)"
      ]
     },
     "execution_count": 6,
     "metadata": {},
     "output_type": "execute_result"
    }
   ],
   "source": [
    "env.observation_space"
   ]
  },
  {
   "cell_type": "code",
   "execution_count": 7,
   "metadata": {
    "colab": {
     "base_uri": "https://localhost:8080/"
    },
    "id": "-NXt_7P6Akjh",
    "outputId": "6307c43c-2e34-4455-e397-cc98bf08f1b4"
   },
   "outputs": [
    {
     "data": {
      "text/plain": [
       "np.int64(16)"
      ]
     },
     "execution_count": 7,
     "metadata": {},
     "output_type": "execute_result"
    }
   ],
   "source": [
    "env.observation_space.n"
   ]
  },
  {
   "cell_type": "markdown",
   "metadata": {
    "id": "9jQlin-jWxkn"
   },
   "source": [
    "Probability matrix, for instance here the probabilities when at state 0 and action 1 is played."
   ]
  },
  {
   "cell_type": "code",
   "execution_count": 8,
   "metadata": {
    "colab": {
     "base_uri": "https://localhost:8080/"
    },
    "id": "6JPMAEYYW4H4",
    "outputId": "3f2e0d49-b703-4727-9fac-24edfedea612"
   },
   "outputs": [
    {
     "data": {
      "text/plain": [
       "[(0.3333333333333333, 0, 0.0, False),\n",
       " (0.3333333333333333, 4, 0.0, False),\n",
       " (0.3333333333333333, 1, 0.0, False)]"
      ]
     },
     "execution_count": 8,
     "metadata": {},
     "output_type": "execute_result"
    }
   ],
   "source": [
    "env.unwrapped.P[0][1] # p_state, state, reward of that transition, done (ignore the last output)"
   ]
  },
  {
   "cell_type": "markdown",
   "metadata": {
    "id": "knkzoEQlXglM"
   },
   "source": [
    "## Our First Policy: A Random Policy"
   ]
  },
  {
   "cell_type": "markdown",
   "metadata": {
    "id": "xVlS_2se6JZ7"
   },
   "source": [
    "We start with the semantics: For us, a policy is Python list of length $n_\\mathrm{states}$ and each entry of this list is a vector of size $n_\\mathrm{actions}$. To sample an action at a given state, which will be helpful later, the following function can be used.\n",
    "\n",
    "*Note*: this is not the most efficient way, just for illustration purposes."
   ]
  },
  {
   "cell_type": "code",
   "execution_count": 22,
   "metadata": {
    "id": "1dobfoV83SiY"
   },
   "outputs": [],
   "source": [
    "def sample_action(policy: List[np.ndarray], state: int) -> int:\n",
    "  if isinstance(state, tuple):\n",
    "    state = state[0]\n",
    "  return np.random.choice(np.arange(start=0, stop=env.action_space.n), size=1, p=policy[state])[0]"
   ]
  },
  {
   "cell_type": "markdown",
   "metadata": {
    "id": "xcoxF1pd3Vr6"
   },
   "source": [
    "We start with a simply random policy. We will later experiment other policies.\n",
    "\n",
    "For us, a policy is list of arrays. In particular:\n",
    "- `pi` is list whose dimension is the number of states;\n",
    "- `pi[s]` is numpy array whose dimension is the number of actions which represents a probability distribution over the action space;\n",
    "- `pi[s][a]` is the probability of playing action `a` when at state `s`.\n",
    "\n",
    "\n"
   ]
  },
  {
   "cell_type": "code",
   "execution_count": 23,
   "metadata": {
    "id": "WYhwJPIuXiDZ"
   },
   "outputs": [],
   "source": [
    "pi_random = []\n",
    "for x in range(env.observation_space.n):\n",
    "    probability_actions = np.ones(env.action_space.n) / env.action_space.n\n",
    "    pi_random.append(probability_actions)"
   ]
  },
  {
   "cell_type": "markdown",
   "metadata": {
    "id": "jDt2FnLW6Foe"
   },
   "source": [
    "Check your result by inspecting the probability distribution at the first state.  "
   ]
  },
  {
   "cell_type": "code",
   "execution_count": 24,
   "metadata": {
    "colab": {
     "base_uri": "https://localhost:8080/"
    },
    "id": "cyfcLELQYEQy",
    "outputId": "6d9bb464-ae55-4ed5-84b8-9da3d732e236"
   },
   "outputs": [
    {
     "data": {
      "text/plain": [
       "array([0.25, 0.25, 0.25, 0.25])"
      ]
     },
     "execution_count": 24,
     "metadata": {},
     "output_type": "execute_result"
    }
   ],
   "source": [
    "pi_random[0]"
   ]
  },
  {
   "cell_type": "markdown",
   "metadata": {
    "id": "ZVWJdIb633j1"
   },
   "source": [
    "Finally, we test our sampling method."
   ]
  },
  {
   "cell_type": "code",
   "execution_count": 25,
   "metadata": {
    "colab": {
     "base_uri": "https://localhost:8080/"
    },
    "id": "cR2vV6zaaOS4",
    "outputId": "e211609d-2ee4-42ee-e5f5-e136b7eb1bb3"
   },
   "outputs": [
    {
     "data": {
      "text/plain": [
       "np.int64(0)"
      ]
     },
     "execution_count": 25,
     "metadata": {},
     "output_type": "execute_result"
    }
   ],
   "source": [
    "sample_action(policy=pi_random,\n",
    "              state=1)"
   ]
  },
  {
   "cell_type": "markdown",
   "metadata": {
    "id": "FjmaUKnVYd4k"
   },
   "source": [
    "## Simulation environment\n",
    "We now write a function that simulates a policy."
   ]
  },
  {
   "cell_type": "code",
   "execution_count": 26,
   "metadata": {
    "id": "LnhYAw3PYypo"
   },
   "outputs": [],
   "source": [
    "def simulate_environment(env, policy:List[np.ndarray], sim_video_name: str) -> float:\n",
    "  # Setup video\n",
    "  if generate_video:\n",
    "    env = RecordVideo(env, video_dir, name_prefix=sim_video_name, episode_trigger=lambda e: e < n_episodes_video)\n",
    "\n",
    "  total_reward = 0.0\n",
    "\n",
    "  for e in range(n_episodes):\n",
    "    reward_episode = 0.0\n",
    "\n",
    "    # Reset\n",
    "    observation = env.reset()\n",
    "\n",
    "    # Simulate an episode\n",
    "    for t in range(max_length_episode):\n",
    "      action = sample_action(policy=policy,\n",
    "                             state=observation)\n",
    "      observation, reward, terminated, _, _ = env.step(action)\n",
    "\n",
    "      # Compute reward\n",
    "      reward_episode += gamma**t * reward\n",
    "\n",
    "      if terminated:\n",
    "        break\n",
    "\n",
    "    # Increase reward\n",
    "    total_reward += reward_episode\n",
    "\n",
    "  env.close()\n",
    "\n",
    "  return total_reward/n_episodes"
   ]
  },
  {
   "cell_type": "markdown",
   "metadata": {
    "id": "u0wXXmMlcaRo"
   },
   "source": [
    "We can now simulate our random policy. The simulations parameters are listed at the top of the file."
   ]
  },
  {
   "cell_type": "code",
   "execution_count": 27,
   "metadata": {
    "colab": {
     "base_uri": "https://localhost:8080/"
    },
    "id": "wgFL5xsbb9C1",
    "outputId": "aa594ee7-5674-4438-a4e0-53ae3ef0df45"
   },
   "outputs": [
    {
     "name": "stdout",
     "output_type": "stream",
     "text": [
      "Average reward: 0.0046213641854315765\n"
     ]
    },
    {
     "name": "stderr",
     "output_type": "stream",
     "text": [
      "/opt/conda/lib/python3.12/site-packages/gymnasium/wrappers/rendering.py:283: UserWarning: \u001b[33mWARN: Overwriting existing videos at /home/jovyan/coco2025_jupytercontent.git/tutorials/vid folder (try specifying a different `video_folder` for the `RecordVideo` wrapper if this is not desired)\u001b[0m\n",
      "  logger.warn(\n"
     ]
    }
   ],
   "source": [
    "average_reward_random = simulate_environment(\n",
    "    env,\n",
    "    policy=pi_random,\n",
    "    sim_video_name=video_name + '_random_policy')\n",
    "print('Average reward: ' + str(average_reward_random))"
   ]
  },
  {
   "cell_type": "markdown",
   "metadata": {
    "id": "P-lGrtX3PfxT"
   },
   "source": [
    "Display video:"
   ]
  },
  {
   "cell_type": "code",
   "execution_count": 28,
   "metadata": {
    "colab": {
     "base_uri": "https://localhost:8080/",
     "height": 475
    },
    "id": "j4lWsRI_RWZ2",
    "outputId": "e5cd8984-57be-471e-9369-9cf9a7674360"
   },
   "outputs": [
    {
     "data": {
      "text/html": [
       "<video width=400 controls><source src=\"data:video/mp4;base64,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\" type=\"video/mp4\"></video>"
      ],
      "text/plain": [
       "<IPython.core.display.HTML object>"
      ]
     },
     "metadata": {},
     "output_type": "display_data"
    },
    {
     "data": {
      "text/html": [
       "<video width=400 controls><source src=\"data:video/mp4;base64,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\" type=\"video/mp4\"></video>"
      ],
      "text/plain": [
       "<IPython.core.display.HTML object>"
      ]
     },
     "metadata": {},
     "output_type": "display_data"
    }
   ],
   "source": [
    "for episode in range(n_episodes_video):\n",
    "    vid = HTML(render_mp4(f'{video_dir}/{video_name}_random_policy-episode-{episode}.mp4'))\n",
    "    display(vid)"
   ]
  },
  {
   "cell_type": "markdown",
   "metadata": {
    "id": "Oc5s6D8sQZQj"
   },
   "source": [
    "## Value function of a policy"
   ]
  },
  {
   "cell_type": "markdown",
   "metadata": {
    "id": "YUmU4p1TWlo8"
   },
   "source": [
    "Now, we can write a function that computes the value/cost-to-go of a given policy. We will do it in three ways:\n",
    "\n",
    "1.   Solving the (linear) Bellman equation:\n",
    "$$V^\\pi(x)=\\sum_{a}\\pi(x,a)\\left(R_x^a+\\sum_{x'}P_{xx'}^aV^\\pi(x')\\right);$$\n",
    "\n",
    "2.   Using the contractivity \"Bellman equation\": Update $V_t^\\pi$ to $V_{t+1}^\\pi$ via\n",
    "$$V_{t+1}^\\pi(x)=\\sum_a\\pi(x,a)\\left(R_x^a+\\sum_{x'}P_{xx'}^aV_t^\\pi(x')\\right);$$\n",
    "note that you also need to define an initial condition and an adequate stopping  criterium;\n",
    "\n",
    "3.   Via numerical simulations.\n",
    "\n",
    "*Note*: This is not the optimal value/cost-to-go, but just the reward/cost incurred when using the policy $\\pi$. After that, we will look into methods to compute the optimal policy $\\pi^\\ast$.\n",
    "\n",
    "First, let's write a function that computes the expected reward $R_x^a$ and the probability vector $P_{xx'}^a$ when playing action $a$ at state $x$.\n",
    "\n",
    "\n",
    "\n",
    "\n"
   ]
  },
  {
   "cell_type": "code",
   "execution_count": 29,
   "metadata": {
    "id": "t8ZLdebQ5gY7"
   },
   "outputs": [],
   "source": [
    "def get_reward_probability_vector_state_action(state: int, action: int) -> Tuple[float, np.ndarray]:\n",
    "    expected_reward = None\n",
    "    probability_vector = None\n",
    "    # IMPLEMENT HERE\n",
    "    transitions = env.P[state][action]  # List of (prob, next_state, reward, done)\n",
    "    \n",
    "    n_states = env.observation_space.n\n",
    "    probability_vector = np.zeros(n_states)\n",
    "    expected_reward = 0.0\n",
    "\n",
    "    for prob, next_state, reward, done in transitions:\n",
    "        probability_vector[next_state] += prob\n",
    "        expected_reward += prob * reward\n",
    "\n",
    "        \n",
    "    return expected_reward, probability_vector"
   ]
  },
  {
   "cell_type": "markdown",
   "metadata": {
    "id": "mrKuFTjW5g10"
   },
   "source": [
    "We can now start with 1. We split the task in two pieces:\n",
    "\n",
    "\n",
    "1.   Implement a function `get_reward_probability_matrix` that outputs the reward vector (numpy array whose dimension is the number of states) whose entry $x$ is\n",
    "$$\\sum_{u}\\pi(x,u)R_x^u$$\n",
    "and the probability matrix (two-dimensional numpy array whose dimension is the number of states) whose entry $(x,x')$ is\n",
    "$$\\sum_{u}\\pi(x,u)P_{xx'}^u.$$\n",
    "2.   Use these two quantities to solve the linear equation. The output should be $V(x)$ as a numpy array (whose dimension is the number of states).\n",
    "\n",
    "*Hint:* Use the function `get_reward_probability_vector_state_action` you wrote above.\n",
    "\n"
   ]
  },
  {
   "cell_type": "code",
   "execution_count": 30,
   "metadata": {
    "colab": {
     "base_uri": "https://localhost:8080/"
    },
    "id": "-STlLKNOVN6q",
    "outputId": "87d61c83-0265-486b-bcb0-9853fd17255f"
   },
   "outputs": [
    {
     "name": "stdout",
     "output_type": "stream",
     "text": [
      "State 14, Action 1 -> Reward: 0.3333333333333333, Transition Prob Sum: 1.0\n",
      "State 14, Action 2 -> Reward: 0.3333333333333333, Transition Prob Sum: 1.0\n",
      "State 14, Action 3 -> Reward: 0.3333333333333333, Transition Prob Sum: 1.0\n",
      "[ 7.76738424e-03  6.86813641e-03  1.42829484e-02  6.46133382e-03\n",
      "  1.03018709e-02 -3.33746163e-16  3.25263116e-02 -1.42577884e-16\n",
      "  2.53070433e-02  7.09470575e-02  1.22669943e-01  5.72937812e-16\n",
      "  1.52886650e-16  1.50747467e-01  4.13031652e-01  0.00000000e+00]\n"
     ]
    }
   ],
   "source": [
    "def get_reward_probability_matrix(policy: List[np.ndarray]) -> Tuple[np.ndarray, np.ndarray]:\n",
    "    expected_reward = None\n",
    "    probability_matrix = None\n",
    "    # IMPLEMENT HERE\n",
    "    n_states = env.observation_space.n\n",
    "    r_pi = np.zeros(n_states)\n",
    "    P_pi = np.zeros((n_states, n_states))\n",
    "\n",
    "    for s in range(n_states):\n",
    "        for a in range(env.action_space.n):\n",
    "            pi_s_a = policy[s][a]  # probability of taking action a in state s\n",
    "            r_sa, p_sa = get_reward_probability_vector_state_action(s, a)\n",
    "            if r_sa != 0:\n",
    "                print(f\"State {s}, Action {a} -> Reward: {r_sa}, Transition Prob Sum: {np.sum(p_sa)}\")\n",
    "\n",
    "            r_pi[s] += pi_s_a * r_sa\n",
    "            P_pi[s] += pi_s_a * p_sa  # weighted sum of transition probs\n",
    "    expected_reward = r_pi\n",
    "    probability_matrix = P_pi\n",
    "\n",
    "    return expected_reward, probability_matrix\n",
    "\n",
    "def compute_value_policy(policy: List[np.ndarray]) -> np.ndarray:\n",
    "    r, p = get_reward_probability_matrix(policy=policy)\n",
    "    I = np.eye(len(r))\n",
    "    V = np.linalg.solve(I - gamma * p, r)\n",
    "    return V\n",
    "\n",
    "value_random_policy = compute_value_policy(pi_random)\n",
    "print(value_random_policy)"
   ]
  },
  {
   "cell_type": "markdown",
   "metadata": {
    "id": "uYcwXKwlxwAr"
   },
   "source": [
    "We now use 2.\n",
    "\n",
    "*Hint:* You can start with a zero initial condition."
   ]
  },
  {
   "cell_type": "code",
   "execution_count": 41,
   "metadata": {
    "colab": {
     "base_uri": "https://localhost:8080/"
    },
    "id": "7f6tUe1fxvIM",
    "outputId": "fde2ae47-0603-447c-a8dc-61d5eb71f4aa"
   },
   "outputs": [
    {
     "name": "stdout",
     "output_type": "stream",
     "text": [
      "[0.01235356 0.01042298 0.01933735 0.00947697 0.01478582 0.\n",
      " 0.03889412 0.         0.0326019  0.08433739 0.13781067 0.\n",
      " 0.         0.17034467 0.43357932 0.        ]\n"
     ]
    }
   ],
   "source": [
    "def compute_value_policy_iterative(\n",
    "    policy: List[np.ndarray] | np.ndarray,\n",
    "    gamma: float = 0.99,\n",
    "    theta: float = 1e-6\n",
    ") -> np.ndarray:\n",
    "    \"\"\"\n",
    "    Robust iterative policy evaluation:\n",
    "      V(s) ← Σ_a π(a|s)[ R(s,a) + γ Σ_{s'} P(s'|s,a) V(s') ]\n",
    "    \"\"\"\n",
    "\n",
    "    # 1) Build a plain (n_states × n_actions) float array\n",
    "    n_states = env.observation_space.n\n",
    "    n_actions = env.action_space.n\n",
    "    policy_arr = np.zeros((n_states, n_actions), dtype=float)\n",
    "    for s in range(n_states):\n",
    "        row = np.asarray(policy[s], dtype=float).flatten()\n",
    "        if row.size != n_actions:\n",
    "            raise ValueError(f\"policy[{s}] has length {row.size}, expected {n_actions}\")\n",
    "        policy_arr[s] = row\n",
    "\n",
    "    # 2) Now do the usual iterative sweep\n",
    "    value_pi = np.zeros(n_states, dtype=float)\n",
    "    while True:\n",
    "        delta = 0.0\n",
    "        for s in range(n_states):\n",
    "            v_s = 0.0\n",
    "            for a in range(n_actions):\n",
    "                pi_s_a = policy_arr[s, a]                 # guaranteed scalar float\n",
    "                r_sa, p_sa = get_reward_probability_vector_state_action(s, a)\n",
    "                # collapse the transition×value back to a scalar\n",
    "                v_s += pi_s_a * (r_sa + gamma * np.dot(p_sa, value_pi))\n",
    "\n",
    "            delta = max(delta, abs(v_s - value_pi[s]))\n",
    "            value_pi[s] = v_s\n",
    "\n",
    "        if delta < theta:\n",
    "            break\n",
    "\n",
    "    return value_pi\n",
    "\n",
    "value_iterative_random_policy = compute_value_policy_iterative(pi_random)\n",
    "print(value_iterative_random_policy)"
   ]
  },
  {
   "cell_type": "markdown",
   "metadata": {
    "id": "0SgNGyLtV5kg"
   },
   "source": [
    "Finally, we check the value at the first cell and check your result numerically (use the simulation done above)"
   ]
  },
  {
   "cell_type": "code",
   "execution_count": 42,
   "metadata": {
    "colab": {
     "base_uri": "https://localhost:8080/"
    },
    "id": "KTdoUixcV7ws",
    "outputId": "0f97a13d-6d65-4485-95c8-e6195ed8c9e6"
   },
   "outputs": [
    {
     "name": "stdout",
     "output_type": "stream",
     "text": [
      "0.0046213641854315765\n"
     ]
    }
   ],
   "source": [
    "# Print value at the starting cell (note: for other environment it might not be the first cell)\n",
    "print(average_reward_random)"
   ]
  },
  {
   "cell_type": "markdown",
   "metadata": {
    "id": "9pMeTtP_26KR"
   },
   "source": [
    "## Optimal policies"
   ]
  },
  {
   "cell_type": "markdown",
   "metadata": {
    "id": "WOxpnKX13IVx"
   },
   "source": [
    "Now, we look into methods to find the optimal policy. In the lecture, you learned about the two main algorithms: Value iteration and policy iteration."
   ]
  },
  {
   "cell_type": "markdown",
   "metadata": {},
   "source": [
    "First, we need a function that computes the greedy policy. It consists of two ingredients:\n",
    "\n",
    "*   A function that evaluates\n",
    "$$x\\mapsto\\max_{u\\in U}R_x^u + \\gamma\\sum_{x'} P_{xx'}^u V(x')$$\n",
    "\n",
    "*   A second function that computes\n",
    "$$\\arg\\max_{\\pi}\\sum_{u}\\pi(x,u)\\left(R_x^u + \\gamma\\sum_{x'} P_{xx'}^u V(x')\\right)$$\n",
    "Here, note that the minimum always is a deterministic policy.\n"
   ]
  },
  {
   "cell_type": "code",
   "execution_count": 45,
   "metadata": {},
   "outputs": [],
   "source": [
    "def compute_bellman_operator(state: int, value_function: np.ndarray) -> Tuple[float, int]:\n",
    "    best_value = -np.inf\n",
    "    best_action = 0\n",
    "\n",
    "    # loop over all actions to find the maximal Q\n",
    "    for a in range(env.action_space.n):\n",
    "        r_sa, p_sa = get_reward_probability_vector_state_action(state, a)\n",
    "        q_sa = r_sa + gamma * np.dot(p_sa, value_function)\n",
    "        if q_sa > best_value:\n",
    "            best_value = q_sa\n",
    "            best_action = a\n",
    "\n",
    "    return best_value, best_action\n",
    "\n",
    "def compute_greedy_policy(value_function: np.ndarray) -> List[np.ndarray]:\n",
    "    n_states = env.observation_space.n\n",
    "    n_actions = env.action_space.n\n",
    "    pi_greedy: List[np.ndarray] = []\n",
    "\n",
    "    for s in range(n_states):\n",
    "        _, best_a = compute_bellman_operator(s, value_function)\n",
    "        # build one-hot distribution\n",
    "        dist = np.zeros(n_actions, dtype=float)\n",
    "        dist[best_a] = 1.0\n",
    "        pi_greedy.append(dist)\n",
    "\n",
    "    return pi_greedy"
   ]
  },
  {
   "cell_type": "markdown",
   "metadata": {
    "id": "t8livCFxbK-5"
   },
   "source": [
    "### Value Iteration"
   ]
  },
  {
   "cell_type": "markdown",
   "metadata": {
    "id": "KUwThQKMeAeg"
   },
   "source": [
    "We now perform value iteration. We run the algortihm for at most a maximum number of iterations and we stop when the difference between the value functions of consecutive steps (measured via $\\|\\cdot\\|_\\infty$) is smaller than some given tolerance."
   ]
  },
  {
   "cell_type": "code",
   "execution_count": 49,
   "metadata": {
    "colab": {
     "base_uri": "https://localhost:8080/"
    },
    "id": "mTyik9glbM7F",
    "outputId": "fdc290a7-5d95-4f0a-b61d-ed0e14406949"
   },
   "outputs": [
    {
     "name": "stdout",
     "output_type": "stream",
     "text": [
      "0.1804715783972009\n"
     ]
    }
   ],
   "source": [
    "# Maximum number of iterations\n",
    "max_number_iterations = 1000\n",
    "n_states = env.observation_space.n\n",
    "\n",
    "# 1) Initialize V arbitrarily (e.g. zeros)\n",
    "value_value_iteration = np.zeros(n_states, dtype=float)\n",
    "\n",
    "# 2) Value-iteration sweeps\n",
    "for i in range(max_number_iterations):\n",
    "    # compute a fresh copy so we don’t mix updates in one sweep\n",
    "    new_V = np.zeros_like(value_value_iteration)\n",
    "\n",
    "    for s in range(n_states):\n",
    "        # uses your Bellman operator to get the optimal value at state s\n",
    "        best_value, _ = compute_bellman_operator(s, value_value_iteration)\n",
    "        new_V[s] = best_value\n",
    "    value_value_iteration = new_V\n",
    "\n",
    "\n",
    "# 3) Extract the greedy policy from the converged V*\n",
    "pi_value_iteration = compute_greedy_policy(value_value_iteration)\n",
    "\n",
    "# 4) Print value at the starting cell (state 0)\n",
    "print(value_value_iteration[0])"
   ]
  },
  {
   "cell_type": "markdown",
   "metadata": {
    "id": "lAw7gcdZaN7a"
   },
   "source": [
    "Simulate policy"
   ]
  },
  {
   "cell_type": "code",
   "execution_count": 50,
   "metadata": {
    "colab": {
     "base_uri": "https://localhost:8080/"
    },
    "id": "xpFgdeunbe3j",
    "outputId": "a344cf3a-ef2a-48f5-a980-b7881b39f2e7"
   },
   "outputs": [
    {
     "name": "stdout",
     "output_type": "stream",
     "text": [
      "Average reward: 0.18401481590605873\n"
     ]
    }
   ],
   "source": [
    "average_reward_value_iteration = simulate_environment(env,\n",
    "                                                      policy=pi_value_iteration,\n",
    "                                                      sim_video_name=video_name + '_value_iteration')\n",
    "print('Average reward: ' + str(average_reward_value_iteration))"
   ]
  },
  {
   "cell_type": "markdown",
   "metadata": {
    "id": "GWh_CSCc3qJy"
   },
   "source": [
    "Display video"
   ]
  },
  {
   "cell_type": "code",
   "execution_count": 51,
   "metadata": {
    "colab": {
     "base_uri": "https://localhost:8080/",
     "height": 475
    },
    "id": "zFyJHqpV3rvN",
    "outputId": "2db4ad86-5ada-417d-9d8b-afbdee370e6d"
   },
   "outputs": [
    {
     "data": {
      "text/html": [
       "<video width=400 controls><source src=\"data:video/mp4;base64,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\" type=\"video/mp4\"></video>"
      ],
      "text/plain": [
       "<IPython.core.display.HTML object>"
      ]
     },
     "metadata": {},
     "output_type": "display_data"
    },
    {
     "data": {
      "text/html": [
       "<video width=400 controls><source src=\"data:video/mp4;base64,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\" type=\"video/mp4\"></video>"
      ],
      "text/plain": [
       "<IPython.core.display.HTML object>"
      ]
     },
     "metadata": {},
     "output_type": "display_data"
    }
   ],
   "source": [
    "for episode in range(n_episodes_video):\n",
    "    vid = HTML(render_mp4(f'{video_dir}/{video_name}_value_iteration-episode-{episode}.mp4'))\n",
    "    display(vid)"
   ]
  },
  {
   "cell_type": "markdown",
   "metadata": {
    "id": "P92zlJuSYC08"
   },
   "source": [
    "### BONUS: Policy Iteration\n",
    "\n",
    "If you have time left, try to implement policy iteration to obtain an optimal policy."
   ]
  },
  {
   "cell_type": "markdown",
   "metadata": {
    "id": "N1oAmCVYapOb"
   },
   "source": [
    "We can now implement policy iteration. We initialize the algorithm with the random policy and stop at convergence (or when a given number of iterations is reached)."
   ]
  },
  {
   "cell_type": "code",
   "execution_count": null,
   "metadata": {
    "colab": {
     "base_uri": "https://localhost:8080/"
    },
    "id": "6UqXnvysYG_6",
    "outputId": "b556b0ed-93a6-400d-a26f-34d64b745f93"
   },
   "outputs": [],
   "source": [
    "# Maximum number of iterations\n",
    "max_number_iterations = 100 # will converge in finitely many steps anyway\n",
    "tol = 1e-5\n",
    "\n",
    "# IMPLEMENT POLICY ITERATION HERE\n",
    "\n",
    "# Final result\n",
    "pi_policy_iteration = None\n",
    "value_policy_iteration = None\n",
    "\n",
    "# Print value at the starting cell\n",
    "print(value_policy_iteration[0])"
   ]
  },
  {
   "cell_type": "markdown",
   "metadata": {
    "id": "7F-yGPFG2grl"
   },
   "source": [
    "Simulate policy"
   ]
  },
  {
   "cell_type": "code",
   "execution_count": null,
   "metadata": {
    "colab": {
     "base_uri": "https://localhost:8080/"
    },
    "id": "OXjzNygC2jjU",
    "outputId": "2819f04d-a077-497c-dec4-d4e998e912af"
   },
   "outputs": [],
   "source": [
    "average_reward_policy_iteration = simulate_environment(env,\n",
    "                                                       policy=pi_policy_iteration,\n",
    "                                                       sim_video_name=video_name + '_policy_iteration')\n",
    "print('Average reward: ' + str(average_reward_policy_iteration))"
   ]
  },
  {
   "cell_type": "markdown",
   "metadata": {
    "id": "Fw24ZCN62v1c"
   },
   "source": [
    "Display video"
   ]
  },
  {
   "cell_type": "code",
   "execution_count": null,
   "metadata": {
    "colab": {
     "base_uri": "https://localhost:8080/",
     "height": 475
    },
    "id": "9m7Qa-LW2xG1",
    "outputId": "8994507d-1413-4b75-f10d-ba4928966240",
    "scrolled": true
   },
   "outputs": [],
   "source": [
    "for episode in range(n_episodes_video):\n",
    "    vid = HTML(render_mp4(f'{video_dir}/{video_name}_policy_iteration-episode-{episode}.mp4'))\n",
    "    display(vid)"
   ]
  }
 ],
 "metadata": {
  "colab": {
   "collapsed_sections": [
    "HuJwpRzvQfzu"
   ],
   "provenance": []
  },
  "kernelspec": {
   "display_name": "Python 3 (ipykernel)",
   "language": "python",
   "name": "python3"
  },
  "language_info": {
   "codemirror_mode": {
    "name": "ipython",
    "version": 3
   },
   "file_extension": ".py",
   "mimetype": "text/x-python",
   "name": "python",
   "nbconvert_exporter": "python",
   "pygments_lexer": "ipython3",
   "version": "3.12.10"
  }
 },
 "nbformat": 4,
 "nbformat_minor": 4
}
