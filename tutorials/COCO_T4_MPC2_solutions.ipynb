{
  "nbformat": 4,
  "nbformat_minor": 0,
  "metadata": {
    "colab": {
      "provenance": []
    },
    "kernelspec": {
      "name": "python3",
      "display_name": "Python 3"
    },
    "language_info": {
      "name": "python"
    }
  },
  "cells": [
    {
      "cell_type": "markdown",
      "source": [
        "# Stability with terminal state constraint\n",
        "We have the following LTI dynamics\n",
        "\n",
        "$$ x_{k+1} = A\\, x_k + B \\,u_k  = \\left[\\begin{smallmatrix} 1 & 0.05 \\\\ 0.2 & 1.2 \\end{smallmatrix}\\right] x_k + \\left[\\begin{smallmatrix}  0.3 & 0\\\\ 0 & 1\\end{smallmatrix}\\right] u_k.$$\n",
        "\n",
        "Solve the following optimal control problem (OPC)\n",
        "\n",
        "\\begin{array}{ll} \\mbox{minimize} & \\sum_{k=0}^{K-1} x_k^T Q x_k +  \\, u_k^T R u_k\\\\\n",
        "\\mbox{subject to} & x_{k+1} = Ax_k + Bu_k\\\\%, \\quad k=0, \\ldots, K-1\\\\\n",
        "& \\| u_k\\|_{2}\\leq 6, \\quad x_K= 0,\n",
        "%, \\quad \\quad k=0, \\ldots, K\n",
        "\\end{array}\n",
        "\n",
        "with $Q = \\left[\\begin{smallmatrix} 0.2 & 0 \\\\ 0 & 0.15 \\end{smallmatrix}\\right]$ and $R = \\left[\\begin{smallmatrix} 2 & 0 \\\\ 0 & 1.1 \\end{smallmatrix}\\right]$."
      ],
      "metadata": {
        "id": "g0u-0yu-J35c"
      }
    },
    {
      "cell_type": "code",
      "source": [
        "import numpy as np\n",
        "import cvxpy as cp\n",
        "\n",
        "# Generate data for control problem.\n",
        "\n",
        "n_x, n_u = 2,2\n",
        "\n",
        "A = np.array([[1,0.05], [0.2,1.2]])\n",
        "B = np.array([[0.3, 0], [0, 1]])\n",
        "\n",
        "Q = np.array([[0.2,0], [0,0.15]])\n",
        "R = np.array([[2,0], [0,1.1]])\n",
        "\n",
        "\n",
        "# Initial condition x_t\n",
        "\n",
        "x_t = np.array([5,-8])\n",
        "\n",
        "# Prediction horizon length\n",
        "\n",
        "K = 10"
      ],
      "metadata": {
        "id": "mcO-ZiqChhiY"
      },
      "execution_count": 1,
      "outputs": []
    },
    {
      "cell_type": "markdown",
      "source": [
        "**Step 1:**\n",
        "\n",
        "Solve for the MPC problem at $x(t)= \\left[\\begin{smallmatrix} 5  \\\\ -8 \\end{smallmatrix}\\right]$ and store the optimal input sequence $\\{u_k^*\\}_{k=0}^{K-1}$ and $\\{x_k^*\\}_{k=0}^{K}$ and compute the optimal cost $J^*(x(t))$."
      ],
      "metadata": {
        "id": "Lp-wHDZBidvl"
      }
    },
    {
      "cell_type": "code",
      "source": [
        "x = cp.Variable((n_x, K + 1))\n",
        "u = cp.Variable((n_u, K))\n",
        "\n",
        "cost = 0\n",
        "constr = []\n",
        "for k in range(K):\n",
        "  cost +=  cp.quad_form(x[:, k],Q) + cp.quad_form(u[:, k],R)\n",
        "  constr += [x[:, k + 1] == A @ x[:, k] + B @ u[:, k], cp.norm(u[:, k], 2) <= 6]\n",
        "\n",
        "# sums problem objectives and concatenates constraints.\n",
        "constr += [x[:, K] == 0, x[:, 0] == x_t]\n",
        "problem = cp.Problem(cp.Minimize(cost), constr)\n",
        "problem.solve()\n",
        "\n",
        "print(\"The optimal state trajectory is: \", str(x.value))\n",
        "print(\"The optimal input trajectory is: \", str(u.value))\n",
        "print(\"The optimal cost is: \" + str(problem.value))\n",
        "\n",
        "J_star_t = problem.value"
      ],
      "metadata": {
        "colab": {
          "base_uri": "https://localhost:8080/"
        },
        "id": "x1lTB5QsxAKv",
        "outputId": "832dd404-5cca-422d-82a5-c48f6c97c369"
      },
      "execution_count": 2,
      "outputs": [
        {
          "output_type": "stream",
          "name": "stdout",
          "text": [
            "The optimal state trajectory is:  [[ 5.00000000e+00  4.19912908e+00  3.51565331e+00  2.92035532e+00\n",
            "   2.39209483e+00  1.91537049e+00  1.47871793e+00  1.07369947e+00\n",
            "   6.94334383e-01  3.36888637e-01 -3.99392552e-15]\n",
            " [-8.00000000e+00 -6.06221036e+00 -4.68871668e+00 -3.69729043e+00\n",
            "  -2.96207115e+00 -2.39387666e+00 -1.92631760e+00 -1.50550303e+00\n",
            "  -1.08169691e+00 -6.01596210e-01  6.13851397e-16]]\n",
            "The optimal input trajectory is:  [[-1.33623641 -1.26788417 -1.20287386 -1.1446532  -1.09540262 -1.0565291\n",
            "  -1.0290086  -1.01363312 -1.011203   -1.02269609]\n",
            " [ 2.53778964  1.74610993  1.22603892  0.8906063   0.68218975  0.56326029\n",
            "   0.51033451  0.51016683  0.55757321  0.65453772]]\n",
            "The optimal cost is: 79.5854067580401\n"
          ]
        }
      ]
    },
    {
      "cell_type": "markdown",
      "source": [
        "**Step 2:**\n",
        "\n",
        "Generate the shifted sequence which is feasible but suboptimal sequence as\n",
        "$\\tilde{U}= \\{u_1^*,\\dots,u_{K-1}^*, 0\\}$ and $\\tilde{X}=\\{x_1^*,\\dots,x_{K}^*, 0\\}$. Compute the suboptimal cost for this shifted sequence $\\tilde{J}$."
      ],
      "metadata": {
        "id": "3-_PaYwuxBEB"
      }
    },
    {
      "cell_type": "code",
      "source": [
        "x_tilde = np.hstack([x.value[:,1:],np.zeros([2,1])])\n",
        "u_tilde = np.hstack([u.value[:,1:],np.zeros([2,1])])\n",
        "\n",
        "#%% Compute J_tilde, suboptimal cost for shifted sequence\n",
        "\n",
        "J_tilde = 0\n",
        "\n",
        "for k in range(K):\n",
        "\n",
        "    J_tilde += x_tilde[:,k].T @ Q @ x_tilde[:,k] + u_tilde[:,k].T @ R @ u_tilde[:,k]\n",
        "\n",
        "print(\"The suboptimal cost for the shifted sequence is: \" + str(J_tilde))\n",
        "\n",
        "# Check the value of g(x_0,u_0) = x.value[:,0].T@ Q @ x.value[:,0]+ u.value[:,0].T @ R @ u.value[:,0].T\n",
        "\n",
        "g_x0_u0 = x.value[:,0].T@ Q @ x.value[:,0]+ u.value[:,0].T @ R @ u.value[:,0].T\n",
        "\n",
        "print(\"The stage cost of the previous step is: \" + str(g_x0_u0))"
      ],
      "metadata": {
        "colab": {
          "base_uri": "https://localhost:8080/"
        },
        "id": "_I9ZN99gx01o",
        "outputId": "b80182ce-42d2-41c1-b61c-b6e44fe4d7b2"
      },
      "execution_count": 3,
      "outputs": [
        {
          "output_type": "stream",
          "name": "stdout",
          "text": [
            "The suboptimal cost for the shifted sequence is: 54.32993733855213\n",
            "The stage cost of the previous step is: 25.25546941948797\n"
          ]
        }
      ]
    },
    {
      "cell_type": "markdown",
      "source": [
        "**Step 3:**\n",
        "\n",
        "Apply the optimal input $u_0^*$ to compute the next system state: $x(t+1) = A\\,x(t) + B\\,u_0^*$. In reality the new state $x(t+1)$ would be a measurement from the plant/system and would not be computed."
      ],
      "metadata": {
        "id": "3Srm3qEvx1sl"
      }
    },
    {
      "cell_type": "code",
      "source": [
        "\n",
        "x_next = A @ x_t + B @ u.value[:,0]\n",
        "\n",
        "\n",
        "#Sanity check, our state at the next time step t+1 should equal to the optimal state sequence at step 1\n",
        "print(x_next)\n",
        "\n",
        "x.value[:,1]"
      ],
      "metadata": {
        "colab": {
          "base_uri": "https://localhost:8080/"
        },
        "id": "pp0xiQtzx8CU",
        "outputId": "21bafc0f-35e7-4b33-d934-e959e5f6ee9f"
      },
      "execution_count": 4,
      "outputs": [
        {
          "output_type": "stream",
          "name": "stdout",
          "text": [
            "[ 4.19912908 -6.06221036]\n"
          ]
        },
        {
          "output_type": "execute_result",
          "data": {
            "text/plain": [
              "array([ 4.19912908, -6.06221036])"
            ]
          },
          "metadata": {},
          "execution_count": 4
        }
      ]
    },
    {
      "cell_type": "markdown",
      "source": [
        "**Step 4:**\n",
        "\n",
        "Solve the optimal input and state sequence at $x(t+1)$ and get the optimal cost $J^*(x(t))$"
      ],
      "metadata": {
        "id": "BilqQF8JycAM"
      }
    },
    {
      "cell_type": "code",
      "source": [
        "x = cp.Variable((n_x, K + 1))\n",
        "u = cp.Variable((n_u, K))\n",
        "\n",
        "cost = 0\n",
        "constr = []\n",
        "for k in range(K):\n",
        "  cost +=  cp.quad_form(x[:, k],Q) + cp.quad_form(u[:, k],R)\n",
        "  constr += [x[:, k + 1] == A @ x[:, k] + B @ u[:, k], cp.norm(u[:, k], 2) <= 6]\n",
        "\n",
        "# sums problem objectives and concatenates constraints.\n",
        "constr += [x[:, K] == 0, x[:, 0] == x_next]\n",
        "problem = cp.Problem(cp.Minimize(cost), constr)\n",
        "problem.solve()\n",
        "\n",
        "print(\"The optimal state trajectory is: \", str(x.value))\n",
        "print(\"The optimal input trajectory is: \", str(u.value))\n",
        "print(\"The optimal cost is: \" + str(problem.value))\n",
        "\n",
        "J_star_next = problem.value"
      ],
      "metadata": {
        "colab": {
          "base_uri": "https://localhost:8080/"
        },
        "id": "FKH9TZvpyyQL",
        "outputId": "e7cc9089-8fa4-4cef-d895-5ad250965efd"
      },
      "execution_count": 5,
      "outputs": [
        {
          "output_type": "stream",
          "name": "stdout",
          "text": [
            "The optimal state trajectory is:  [[ 4.19912908e+00  3.54461337e+00  2.97976879e+00  2.48317697e+00\n",
            "   2.03914751e+00  1.63601937e+00  1.26505035e+00  9.19726865e-01\n",
            "   5.95392908e-01  2.89147130e-01 -1.33072914e-15]\n",
            " [-6.06221036e+00 -4.66437000e+00 -3.66383635e+00 -2.93278603e+00\n",
            "  -2.38243070e+00 -1.94919102e+00 -1.58485057e+00 -1.24912108e+00\n",
            "  -9.03434946e-01 -5.04976316e-01  1.83895744e-16]]\n",
            "The optimal input trajectory is:  [[-1.17135064 -1.10542024 -1.04466669 -0.99130052 -0.94668868 -0.91169826\n",
            "  -0.88693651 -0.87292634 -0.87024677 -0.87966105]\n",
            " [ 1.77045661  1.22448499  0.86786383  0.64027714  0.50189632  0.42697478\n",
            "   0.39968953  0.41156498  0.46006704  0.54814215]]\n",
            "The optimal cost is: 51.994961095952476\n"
          ]
        }
      ]
    },
    {
      "cell_type": "markdown",
      "source": [
        "**Note that:**\n",
        "\n",
        "At $x(t+1)$ the optimal input for prediction step $k=K-1$ is not zero, which shows that the previous sequence $\\tilde{U}$ was suboptimal."
      ],
      "metadata": {
        "id": "PqwHMW-J91oc"
      }
    },
    {
      "cell_type": "code",
      "source": [
        "print(u_tilde[:,-1])\n",
        "print(u.value[:,-1])"
      ],
      "metadata": {
        "colab": {
          "base_uri": "https://localhost:8080/"
        },
        "id": "E2C4AAch-ORj",
        "outputId": "3f51afbd-51df-4452-e3c4-1307893ffa5e"
      },
      "execution_count": 6,
      "outputs": [
        {
          "output_type": "stream",
          "name": "stdout",
          "text": [
            "[0. 0.]\n",
            "[-0.87966105  0.54814215]\n"
          ]
        }
      ]
    },
    {
      "cell_type": "markdown",
      "source": [
        "**Step 5:**\n",
        "\n",
        "Compare the costs $J^*(x(t)), \\tilde{J}, J^*(x(t+1))$.\n",
        "\n",
        "Can you verify that the optimal cost of the MPC problem fulfills the following inequality: $J^*(x(t+1))\\leq \\tilde{J} < J^*(x(t)),\\quad \\forall x(t)\\not= 0 $?."
      ],
      "metadata": {
        "id": "cMgsfd-LyzDv"
      }
    },
    {
      "cell_type": "code",
      "source": [
        "# Let's check with the code\n",
        "\n",
        "print(J_star_t)\n",
        "print(J_tilde)\n",
        "print(J_star_next)\n",
        "\n",
        "#Yes, the inequality is verfied"
      ],
      "metadata": {
        "colab": {
          "base_uri": "https://localhost:8080/"
        },
        "id": "te1-_Urn9Tfg",
        "outputId": "bb324a9d-9945-4391-a619-4f726b291781"
      },
      "execution_count": 7,
      "outputs": [
        {
          "output_type": "stream",
          "name": "stdout",
          "text": [
            "79.5854067580401\n",
            "54.32993733855213\n",
            "51.994961095952476\n"
          ]
        }
      ]
    },
    {
      "cell_type": "markdown",
      "source": [
        "### Exercise 1\n",
        "Solve the OPC above in a receding-horizon fashion (MPC) and compare the outputs to first the open-loop trajectories inititalized at $x(t)$ for a control horizon of $T=100$.\n",
        "\n",
        "Start with the initial condition $x(t) = \\left[\\begin{smallmatrix} 5  \\\\ -8 \\end{smallmatrix}\\right]$ and compare the outputs for different prediction horizon lengths of $K = 3, 5, 7, 10 $.\n",
        "\n",
        "For implementing the cost the follwoing cvxpy function might be helpful:\n",
        "\n",
        "\n",
        "\n",
        "```\n",
        "cp.quad_form(...,Q)\n",
        "```\n",
        "\n",
        "\n",
        "\n",
        "For plotting the open-loop and closed-loop MPC trajectories you can use the following lines of code:\n",
        "\n",
        "```\n",
        "fig, axs = plt.subplots(nrows=1, ncols=2)\n",
        "axs[0].plot(x_open[0,:], x_open[1,:], marker = 'x')\n",
        "axs[1].plot(x_traj[0,:], x_traj[1,:], marker = 'x')\n",
        "```\n",
        "\n"
      ],
      "metadata": {
        "id": "_gcC3KXvLz9r"
      }
    },
    {
      "cell_type": "code",
      "source": [
        "import matplotlib.pyplot as plt\n",
        "\n",
        "%config InlineBackend.figure_format = 'svg'\n",
        "#%% Closed-loop\n",
        "\n",
        "T = 20 # Control horizon\n",
        "K_all = 3,5,7,10\n",
        "\n",
        "fig, axs = plt.subplots(nrows=1, ncols=2)\n",
        "\n",
        "cost_closed = {}\n",
        "cost_open = {}\n",
        "\n",
        "for K in K_all:\n",
        "\n",
        "    x_0 = np.array([5,-8])\n",
        "\n",
        "    x_traj = np.zeros([n_x, T+1])\n",
        "    u_traj =  np.zeros([n_u, T])\n",
        "\n",
        "    x_traj[:, 0] = x_0\n",
        "\n",
        "    cost_closed[K] = 0\n",
        "\n",
        "    for t in range(T):\n",
        "\n",
        "        x = cp.Variable((n_x, K + 1))\n",
        "        u = cp.Variable((n_u, K))\n",
        "\n",
        "        cost = 0\n",
        "        constr = []\n",
        "        for k in range(K):\n",
        "            cost +=  cp.quad_form(x[:, k],Q) + cp.quad_form(u[:, k],R)\n",
        "            constr += [x[:, k + 1] == A @ x[:, k] + B @ u[:, k], cp.norm(u[:, k], 2) <= 6]\n",
        "        # sums problem objectives and concatenates constraints.\n",
        "        constr += [x[:, K] == 0, x[:, 0] == x_0]\n",
        "        problem = cp.Problem(cp.Minimize(cost), constr)\n",
        "        problem.solve()\n",
        "\n",
        "        if t == 0:\n",
        "            cost_open[K] = problem.value\n",
        "            x_open = x.value.copy()\n",
        "            u_open = u.value.copy()\n",
        "\n",
        "        cost_closed[K] +=  x_0.T @ Q @ x_0 + u[:,0].value.T @ R @ u[:,0].value\n",
        "\n",
        "        x_0 = A @ x_0 + B @ u[:,0].value\n",
        "\n",
        "        u_traj[:, t] = u[:,0].value\n",
        "        x_traj[:, t+1] = x_0\n",
        "\n",
        "\n",
        "\n",
        "    axs[0].plot(x_open[0,:], x_open[1,:], marker = 'x')\n",
        "    axs[1].plot(x_traj[0,:], x_traj[1,:], marker = 'x')\n",
        "\n",
        "\n",
        "axs[0].set_ylim([-8.25,0.25])\n",
        "axs[0].set_xlim([-0.25,5.25])\n",
        "axs[1].set_ylim([-8.25,0.25])\n",
        "axs[1].set_xlim([-0.25,5.25])\n",
        "\n",
        "axs[0].grid(which='both', axis='both',color='lightgrey', linestyle='--', linewidth=0.5)\n",
        "axs[0].set_ylabel(r\"$(x_k)_2$\", fontsize=12)\n",
        "axs[0].set_xlabel(r\"$(x_k)_1$\", fontsize=12)\n",
        "axs[0].set_title('Open-loop', fontsize=12)\n",
        "axs[0].legend(['K = ' + str(K_all[0]), 'K = ' + str(K_all[1]), 'K = ' + str(K_all[2]),'K = ' + str(K_all[3])]\n",
        "              ,fontsize=10)\n",
        "\n",
        "axs[1].grid(which='both', axis='both',color='lightgrey', linestyle='--', linewidth=0.5)\n",
        "axs[1].set_xlabel(r\"$(x_t)_1$\", fontsize=12)\n",
        "axs[1].set_title('Closed-loop', fontsize=12)\n"
      ],
      "metadata": {
        "id": "DdY7C3kIPR2y",
        "colab": {
          "base_uri": "https://localhost:8080/",
          "height": 476
        },
        "outputId": "4ad1fd8d-5226-4e24-aaa0-f9146b7285b1"
      },
      "execution_count": 8,
      "outputs": [
        {
          "output_type": "execute_result",
          "data": {
            "text/plain": [
              "Text(0.5, 1.0, 'Closed-loop')"
            ]
          },
          "metadata": {},
          "execution_count": 8
        },
        {
          "output_type": "display_data",
          "data": {
            "text/plain": [
              "<Figure size 640x480 with 2 Axes>"
            ],
            "image/svg+xml": "<?xml version=\"1.0\" encoding=\"utf-8\" standalone=\"no\"?>\n<!DOCTYPE svg PUBLIC \"-//W3C//DTD SVG 1.1//EN\"\n  \"http://www.w3.org/Graphics/SVG/1.1/DTD/svg11.dtd\">\n<svg xmlns:xlink=\"http://www.w3.org/1999/xlink\" width=\"408.875937pt\" height=\"327.922pt\" viewBox=\"0 0 408.875937 327.922\" xmlns=\"http://www.w3.org/2000/svg\" version=\"1.1\">\n <metadata>\n  <rdf:RDF xmlns:dc=\"http://purl.org/dc/elements/1.1/\" xmlns:cc=\"http://creativecommons.org/ns#\" xmlns:rdf=\"http://www.w3.org/1999/02/22-rdf-syntax-ns#\">\n   <cc:Work>\n    <dc:type rdf:resource=\"http://purl.org/dc/dcmitype/StillImage\"/>\n    <dc:date>2025-04-01T13:34:26.483297</dc:date>\n    <dc:format>image/svg+xml</dc:format>\n    <dc:creator>\n     <cc:Agent>\n      <dc:title>Matplotlib v3.10.0, https://matplotlib.org/</dc:title>\n     </cc:Agent>\n    </dc:creator>\n   </cc:Work>\n  </rdf:RDF>\n </metadata>\n <defs>\n  <style type=\"text/css\">*{stroke-linejoin: round; stroke-linecap: butt}</style>\n </defs>\n <g id=\"figure_1\">\n  <g id=\"patch_1\">\n   <path d=\"M 0 327.922 \nL 408.875937 327.922 \nL 408.875937 0 \nL 0 0 \nz\n\" style=\"fill: #ffffff\"/>\n  </g>\n  <g id=\"axes_1\">\n   <g id=\"patch_2\">\n    <path d=\"M 44.555937 288.430125 \nL 206.88321 288.430125 \nL 206.88321 22.318125 \nL 44.555937 22.318125 \nz\n\" style=\"fill: #ffffff\"/>\n   </g>\n   <g id=\"matplotlib.axis_1\">\n    <g id=\"xtick_1\">\n     <g id=\"line2d_1\">\n      <path d=\"M 51.93445 288.430125 \nL 51.93445 22.318125 \n\" clip-path=\"url(#pb8dff94c50)\" style=\"fill: none; stroke-dasharray: 1.85,0.8; stroke-dashoffset: 0; stroke: #d3d3d3; stroke-width: 0.5\"/>\n     </g>\n     <g id=\"line2d_2\">\n      <defs>\n       <path id=\"m5889b87de0\" d=\"M 0 0 \nL 0 3.5 \n\" style=\"stroke: #000000; stroke-width: 0.8\"/>\n      </defs>\n      <g>\n       <use xlink:href=\"#m5889b87de0\" x=\"51.93445\" y=\"288.430125\" style=\"stroke: #000000; stroke-width: 0.8\"/>\n      </g>\n     </g>\n     <g id=\"text_1\">\n      <!-- 0 -->\n      <g transform=\"translate(48.7532 303.028562) scale(0.1 -0.1)\">\n       <defs>\n        <path id=\"DejaVuSans-30\" d=\"M 2034 4250 \nQ 1547 4250 1301 3770 \nQ 1056 3291 1056 2328 \nQ 1056 1369 1301 889 \nQ 1547 409 2034 409 \nQ 2525 409 2770 889 \nQ 3016 1369 3016 2328 \nQ 3016 3291 2770 3770 \nQ 2525 4250 2034 4250 \nz\nM 2034 4750 \nQ 2819 4750 3233 4129 \nQ 3647 3509 3647 2328 \nQ 3647 1150 3233 529 \nQ 2819 -91 2034 -91 \nQ 1250 -91 836 529 \nQ 422 1150 422 2328 \nQ 422 3509 836 4129 \nQ 1250 4750 2034 4750 \nz\n\" transform=\"scale(0.015625)\"/>\n       </defs>\n       <use xlink:href=\"#DejaVuSans-30\"/>\n      </g>\n     </g>\n    </g>\n    <g id=\"xtick_2\">\n     <g id=\"line2d_3\">\n      <path d=\"M 110.962549 288.430125 \nL 110.962549 22.318125 \n\" clip-path=\"url(#pb8dff94c50)\" style=\"fill: none; stroke-dasharray: 1.85,0.8; stroke-dashoffset: 0; stroke: #d3d3d3; stroke-width: 0.5\"/>\n     </g>\n     <g id=\"line2d_4\">\n      <g>\n       <use xlink:href=\"#m5889b87de0\" x=\"110.962549\" y=\"288.430125\" style=\"stroke: #000000; stroke-width: 0.8\"/>\n      </g>\n     </g>\n     <g id=\"text_2\">\n      <!-- 2 -->\n      <g transform=\"translate(107.781299 303.028562) scale(0.1 -0.1)\">\n       <defs>\n        <path id=\"DejaVuSans-32\" d=\"M 1228 531 \nL 3431 531 \nL 3431 0 \nL 469 0 \nL 469 531 \nQ 828 903 1448 1529 \nQ 2069 2156 2228 2338 \nQ 2531 2678 2651 2914 \nQ 2772 3150 2772 3378 \nQ 2772 3750 2511 3984 \nQ 2250 4219 1831 4219 \nQ 1534 4219 1204 4116 \nQ 875 4013 500 3803 \nL 500 4441 \nQ 881 4594 1212 4672 \nQ 1544 4750 1819 4750 \nQ 2544 4750 2975 4387 \nQ 3406 4025 3406 3419 \nQ 3406 3131 3298 2873 \nQ 3191 2616 2906 2266 \nQ 2828 2175 2409 1742 \nQ 1991 1309 1228 531 \nz\n\" transform=\"scale(0.015625)\"/>\n       </defs>\n       <use xlink:href=\"#DejaVuSans-32\"/>\n      </g>\n     </g>\n    </g>\n    <g id=\"xtick_3\">\n     <g id=\"line2d_5\">\n      <path d=\"M 169.990648 288.430125 \nL 169.990648 22.318125 \n\" clip-path=\"url(#pb8dff94c50)\" style=\"fill: none; stroke-dasharray: 1.85,0.8; stroke-dashoffset: 0; stroke: #d3d3d3; stroke-width: 0.5\"/>\n     </g>\n     <g id=\"line2d_6\">\n      <g>\n       <use xlink:href=\"#m5889b87de0\" x=\"169.990648\" y=\"288.430125\" style=\"stroke: #000000; stroke-width: 0.8\"/>\n      </g>\n     </g>\n     <g id=\"text_3\">\n      <!-- 4 -->\n      <g transform=\"translate(166.809398 303.028562) scale(0.1 -0.1)\">\n       <defs>\n        <path id=\"DejaVuSans-34\" d=\"M 2419 4116 \nL 825 1625 \nL 2419 1625 \nL 2419 4116 \nz\nM 2253 4666 \nL 3047 4666 \nL 3047 1625 \nL 3713 1625 \nL 3713 1100 \nL 3047 1100 \nL 3047 0 \nL 2419 0 \nL 2419 1100 \nL 313 1100 \nL 313 1709 \nL 2253 4666 \nz\n\" transform=\"scale(0.015625)\"/>\n       </defs>\n       <use xlink:href=\"#DejaVuSans-34\"/>\n      </g>\n     </g>\n    </g>\n    <g id=\"text_4\">\n     <!-- $(x_k)_1$ -->\n     <g transform=\"translate(111.979574 318.226375) scale(0.12 -0.12)\">\n      <defs>\n       <path id=\"DejaVuSans-28\" d=\"M 1984 4856 \nQ 1566 4138 1362 3434 \nQ 1159 2731 1159 2009 \nQ 1159 1288 1364 580 \nQ 1569 -128 1984 -844 \nL 1484 -844 \nQ 1016 -109 783 600 \nQ 550 1309 550 2009 \nQ 550 2706 781 3412 \nQ 1013 4119 1484 4856 \nL 1984 4856 \nz\n\" transform=\"scale(0.015625)\"/>\n       <path id=\"DejaVuSans-Oblique-78\" d=\"M 3841 3500 \nL 2234 1784 \nL 3219 0 \nL 2559 0 \nL 1819 1388 \nL 531 0 \nL -166 0 \nL 1556 1844 \nL 641 3500 \nL 1300 3500 \nL 1972 2234 \nL 3144 3500 \nL 3841 3500 \nz\n\" transform=\"scale(0.015625)\"/>\n       <path id=\"DejaVuSans-Oblique-6b\" d=\"M 1172 4863 \nL 1747 4863 \nL 1197 2028 \nL 3169 3500 \nL 3916 3500 \nL 1716 1825 \nL 3322 0 \nL 2625 0 \nL 1131 1709 \nL 800 0 \nL 225 0 \nL 1172 4863 \nz\n\" transform=\"scale(0.015625)\"/>\n       <path id=\"DejaVuSans-29\" d=\"M 513 4856 \nL 1013 4856 \nQ 1481 4119 1714 3412 \nQ 1947 2706 1947 2009 \nQ 1947 1309 1714 600 \nQ 1481 -109 1013 -844 \nL 513 -844 \nQ 928 -128 1133 580 \nQ 1338 1288 1338 2009 \nQ 1338 2731 1133 3434 \nQ 928 4138 513 4856 \nz\n\" transform=\"scale(0.015625)\"/>\n       <path id=\"DejaVuSans-31\" d=\"M 794 531 \nL 1825 531 \nL 1825 4091 \nL 703 3866 \nL 703 4441 \nL 1819 4666 \nL 2450 4666 \nL 2450 531 \nL 3481 531 \nL 3481 0 \nL 794 0 \nL 794 531 \nz\n\" transform=\"scale(0.015625)\"/>\n      </defs>\n      <use xlink:href=\"#DejaVuSans-28\" transform=\"translate(0 0.125)\"/>\n      <use xlink:href=\"#DejaVuSans-Oblique-78\" transform=\"translate(39.013672 0.125)\"/>\n      <use xlink:href=\"#DejaVuSans-Oblique-6b\" transform=\"translate(98.193359 -16.28125) scale(0.7)\"/>\n      <use xlink:href=\"#DejaVuSans-29\" transform=\"translate(141.464844 0.125)\"/>\n      <use xlink:href=\"#DejaVuSans-31\" transform=\"translate(181.435547 -16.28125) scale(0.7)\"/>\n     </g>\n    </g>\n   </g>\n   <g id=\"matplotlib.axis_2\">\n    <g id=\"ytick_1\">\n     <g id=\"line2d_7\">\n      <path d=\"M 44.555937 280.603301 \nL 206.88321 280.603301 \n\" clip-path=\"url(#pb8dff94c50)\" style=\"fill: none; stroke-dasharray: 1.85,0.8; stroke-dashoffset: 0; stroke: #d3d3d3; stroke-width: 0.5\"/>\n     </g>\n     <g id=\"line2d_8\">\n      <defs>\n       <path id=\"m41f9b2d620\" d=\"M 0 0 \nL -3.5 0 \n\" style=\"stroke: #000000; stroke-width: 0.8\"/>\n      </defs>\n      <g>\n       <use xlink:href=\"#m41f9b2d620\" x=\"44.555937\" y=\"280.603301\" style=\"stroke: #000000; stroke-width: 0.8\"/>\n      </g>\n     </g>\n     <g id=\"text_5\">\n      <!-- −8 -->\n      <g transform=\"translate(22.81375 284.40252) scale(0.1 -0.1)\">\n       <defs>\n        <path id=\"DejaVuSans-2212\" d=\"M 678 2272 \nL 4684 2272 \nL 4684 1741 \nL 678 1741 \nL 678 2272 \nz\n\" transform=\"scale(0.015625)\"/>\n        <path id=\"DejaVuSans-38\" d=\"M 2034 2216 \nQ 1584 2216 1326 1975 \nQ 1069 1734 1069 1313 \nQ 1069 891 1326 650 \nQ 1584 409 2034 409 \nQ 2484 409 2743 651 \nQ 3003 894 3003 1313 \nQ 3003 1734 2745 1975 \nQ 2488 2216 2034 2216 \nz\nM 1403 2484 \nQ 997 2584 770 2862 \nQ 544 3141 544 3541 \nQ 544 4100 942 4425 \nQ 1341 4750 2034 4750 \nQ 2731 4750 3128 4425 \nQ 3525 4100 3525 3541 \nQ 3525 3141 3298 2862 \nQ 3072 2584 2669 2484 \nQ 3125 2378 3379 2068 \nQ 3634 1759 3634 1313 \nQ 3634 634 3220 271 \nQ 2806 -91 2034 -91 \nQ 1263 -91 848 271 \nQ 434 634 434 1313 \nQ 434 1759 690 2068 \nQ 947 2378 1403 2484 \nz\nM 1172 3481 \nQ 1172 3119 1398 2916 \nQ 1625 2713 2034 2713 \nQ 2441 2713 2670 2916 \nQ 2900 3119 2900 3481 \nQ 2900 3844 2670 4047 \nQ 2441 4250 2034 4250 \nQ 1625 4250 1398 4047 \nQ 1172 3844 1172 3481 \nz\n\" transform=\"scale(0.015625)\"/>\n       </defs>\n       <use xlink:href=\"#DejaVuSans-2212\"/>\n       <use xlink:href=\"#DejaVuSans-38\" transform=\"translate(83.789062 0)\"/>\n      </g>\n     </g>\n    </g>\n    <g id=\"ytick_2\">\n     <g id=\"line2d_9\">\n      <path d=\"M 44.555937 249.296007 \nL 206.88321 249.296007 \n\" clip-path=\"url(#pb8dff94c50)\" style=\"fill: none; stroke-dasharray: 1.85,0.8; stroke-dashoffset: 0; stroke: #d3d3d3; stroke-width: 0.5\"/>\n     </g>\n     <g id=\"line2d_10\">\n      <g>\n       <use xlink:href=\"#m41f9b2d620\" x=\"44.555937\" y=\"249.296007\" style=\"stroke: #000000; stroke-width: 0.8\"/>\n      </g>\n     </g>\n     <g id=\"text_6\">\n      <!-- −7 -->\n      <g transform=\"translate(22.81375 253.095226) scale(0.1 -0.1)\">\n       <defs>\n        <path id=\"DejaVuSans-37\" d=\"M 525 4666 \nL 3525 4666 \nL 3525 4397 \nL 1831 0 \nL 1172 0 \nL 2766 4134 \nL 525 4134 \nL 525 4666 \nz\n\" transform=\"scale(0.015625)\"/>\n       </defs>\n       <use xlink:href=\"#DejaVuSans-2212\"/>\n       <use xlink:href=\"#DejaVuSans-37\" transform=\"translate(83.789062 0)\"/>\n      </g>\n     </g>\n    </g>\n    <g id=\"ytick_3\">\n     <g id=\"line2d_11\">\n      <path d=\"M 44.555937 217.988713 \nL 206.88321 217.988713 \n\" clip-path=\"url(#pb8dff94c50)\" style=\"fill: none; stroke-dasharray: 1.85,0.8; stroke-dashoffset: 0; stroke: #d3d3d3; stroke-width: 0.5\"/>\n     </g>\n     <g id=\"line2d_12\">\n      <g>\n       <use xlink:href=\"#m41f9b2d620\" x=\"44.555937\" y=\"217.988713\" style=\"stroke: #000000; stroke-width: 0.8\"/>\n      </g>\n     </g>\n     <g id=\"text_7\">\n      <!-- −6 -->\n      <g transform=\"translate(22.81375 221.787932) scale(0.1 -0.1)\">\n       <defs>\n        <path id=\"DejaVuSans-36\" d=\"M 2113 2584 \nQ 1688 2584 1439 2293 \nQ 1191 2003 1191 1497 \nQ 1191 994 1439 701 \nQ 1688 409 2113 409 \nQ 2538 409 2786 701 \nQ 3034 994 3034 1497 \nQ 3034 2003 2786 2293 \nQ 2538 2584 2113 2584 \nz\nM 3366 4563 \nL 3366 3988 \nQ 3128 4100 2886 4159 \nQ 2644 4219 2406 4219 \nQ 1781 4219 1451 3797 \nQ 1122 3375 1075 2522 \nQ 1259 2794 1537 2939 \nQ 1816 3084 2150 3084 \nQ 2853 3084 3261 2657 \nQ 3669 2231 3669 1497 \nQ 3669 778 3244 343 \nQ 2819 -91 2113 -91 \nQ 1303 -91 875 529 \nQ 447 1150 447 2328 \nQ 447 3434 972 4092 \nQ 1497 4750 2381 4750 \nQ 2619 4750 2861 4703 \nQ 3103 4656 3366 4563 \nz\n\" transform=\"scale(0.015625)\"/>\n       </defs>\n       <use xlink:href=\"#DejaVuSans-2212\"/>\n       <use xlink:href=\"#DejaVuSans-36\" transform=\"translate(83.789062 0)\"/>\n      </g>\n     </g>\n    </g>\n    <g id=\"ytick_4\">\n     <g id=\"line2d_13\">\n      <path d=\"M 44.555937 186.681419 \nL 206.88321 186.681419 \n\" clip-path=\"url(#pb8dff94c50)\" style=\"fill: none; stroke-dasharray: 1.85,0.8; stroke-dashoffset: 0; stroke: #d3d3d3; stroke-width: 0.5\"/>\n     </g>\n     <g id=\"line2d_14\">\n      <g>\n       <use xlink:href=\"#m41f9b2d620\" x=\"44.555937\" y=\"186.681419\" style=\"stroke: #000000; stroke-width: 0.8\"/>\n      </g>\n     </g>\n     <g id=\"text_8\">\n      <!-- −5 -->\n      <g transform=\"translate(22.81375 190.480638) scale(0.1 -0.1)\">\n       <defs>\n        <path id=\"DejaVuSans-35\" d=\"M 691 4666 \nL 3169 4666 \nL 3169 4134 \nL 1269 4134 \nL 1269 2991 \nQ 1406 3038 1543 3061 \nQ 1681 3084 1819 3084 \nQ 2600 3084 3056 2656 \nQ 3513 2228 3513 1497 \nQ 3513 744 3044 326 \nQ 2575 -91 1722 -91 \nQ 1428 -91 1123 -41 \nQ 819 9 494 109 \nL 494 744 \nQ 775 591 1075 516 \nQ 1375 441 1709 441 \nQ 2250 441 2565 725 \nQ 2881 1009 2881 1497 \nQ 2881 1984 2565 2268 \nQ 2250 2553 1709 2553 \nQ 1456 2553 1204 2497 \nQ 953 2441 691 2322 \nL 691 4666 \nz\n\" transform=\"scale(0.015625)\"/>\n       </defs>\n       <use xlink:href=\"#DejaVuSans-2212\"/>\n       <use xlink:href=\"#DejaVuSans-35\" transform=\"translate(83.789062 0)\"/>\n      </g>\n     </g>\n    </g>\n    <g id=\"ytick_5\">\n     <g id=\"line2d_15\">\n      <path d=\"M 44.555937 155.374125 \nL 206.88321 155.374125 \n\" clip-path=\"url(#pb8dff94c50)\" style=\"fill: none; stroke-dasharray: 1.85,0.8; stroke-dashoffset: 0; stroke: #d3d3d3; stroke-width: 0.5\"/>\n     </g>\n     <g id=\"line2d_16\">\n      <g>\n       <use xlink:href=\"#m41f9b2d620\" x=\"44.555937\" y=\"155.374125\" style=\"stroke: #000000; stroke-width: 0.8\"/>\n      </g>\n     </g>\n     <g id=\"text_9\">\n      <!-- −4 -->\n      <g transform=\"translate(22.81375 159.173344) scale(0.1 -0.1)\">\n       <use xlink:href=\"#DejaVuSans-2212\"/>\n       <use xlink:href=\"#DejaVuSans-34\" transform=\"translate(83.789062 0)\"/>\n      </g>\n     </g>\n    </g>\n    <g id=\"ytick_6\">\n     <g id=\"line2d_17\">\n      <path d=\"M 44.555937 124.066831 \nL 206.88321 124.066831 \n\" clip-path=\"url(#pb8dff94c50)\" style=\"fill: none; stroke-dasharray: 1.85,0.8; stroke-dashoffset: 0; stroke: #d3d3d3; stroke-width: 0.5\"/>\n     </g>\n     <g id=\"line2d_18\">\n      <g>\n       <use xlink:href=\"#m41f9b2d620\" x=\"44.555937\" y=\"124.066831\" style=\"stroke: #000000; stroke-width: 0.8\"/>\n      </g>\n     </g>\n     <g id=\"text_10\">\n      <!-- −3 -->\n      <g transform=\"translate(22.81375 127.86605) scale(0.1 -0.1)\">\n       <defs>\n        <path id=\"DejaVuSans-33\" d=\"M 2597 2516 \nQ 3050 2419 3304 2112 \nQ 3559 1806 3559 1356 \nQ 3559 666 3084 287 \nQ 2609 -91 1734 -91 \nQ 1441 -91 1130 -33 \nQ 819 25 488 141 \nL 488 750 \nQ 750 597 1062 519 \nQ 1375 441 1716 441 \nQ 2309 441 2620 675 \nQ 2931 909 2931 1356 \nQ 2931 1769 2642 2001 \nQ 2353 2234 1838 2234 \nL 1294 2234 \nL 1294 2753 \nL 1863 2753 \nQ 2328 2753 2575 2939 \nQ 2822 3125 2822 3475 \nQ 2822 3834 2567 4026 \nQ 2313 4219 1838 4219 \nQ 1578 4219 1281 4162 \nQ 984 4106 628 3988 \nL 628 4550 \nQ 988 4650 1302 4700 \nQ 1616 4750 1894 4750 \nQ 2613 4750 3031 4423 \nQ 3450 4097 3450 3541 \nQ 3450 3153 3228 2886 \nQ 3006 2619 2597 2516 \nz\n\" transform=\"scale(0.015625)\"/>\n       </defs>\n       <use xlink:href=\"#DejaVuSans-2212\"/>\n       <use xlink:href=\"#DejaVuSans-33\" transform=\"translate(83.789062 0)\"/>\n      </g>\n     </g>\n    </g>\n    <g id=\"ytick_7\">\n     <g id=\"line2d_19\">\n      <path d=\"M 44.555937 92.759537 \nL 206.88321 92.759537 \n\" clip-path=\"url(#pb8dff94c50)\" style=\"fill: none; stroke-dasharray: 1.85,0.8; stroke-dashoffset: 0; stroke: #d3d3d3; stroke-width: 0.5\"/>\n     </g>\n     <g id=\"line2d_20\">\n      <g>\n       <use xlink:href=\"#m41f9b2d620\" x=\"44.555937\" y=\"92.759537\" style=\"stroke: #000000; stroke-width: 0.8\"/>\n      </g>\n     </g>\n     <g id=\"text_11\">\n      <!-- −2 -->\n      <g transform=\"translate(22.81375 96.558756) scale(0.1 -0.1)\">\n       <use xlink:href=\"#DejaVuSans-2212\"/>\n       <use xlink:href=\"#DejaVuSans-32\" transform=\"translate(83.789062 0)\"/>\n      </g>\n     </g>\n    </g>\n    <g id=\"ytick_8\">\n     <g id=\"line2d_21\">\n      <path d=\"M 44.555937 61.452243 \nL 206.88321 61.452243 \n\" clip-path=\"url(#pb8dff94c50)\" style=\"fill: none; stroke-dasharray: 1.85,0.8; stroke-dashoffset: 0; stroke: #d3d3d3; stroke-width: 0.5\"/>\n     </g>\n     <g id=\"line2d_22\">\n      <g>\n       <use xlink:href=\"#m41f9b2d620\" x=\"44.555937\" y=\"61.452243\" style=\"stroke: #000000; stroke-width: 0.8\"/>\n      </g>\n     </g>\n     <g id=\"text_12\">\n      <!-- −1 -->\n      <g transform=\"translate(22.81375 65.251461) scale(0.1 -0.1)\">\n       <use xlink:href=\"#DejaVuSans-2212\"/>\n       <use xlink:href=\"#DejaVuSans-31\" transform=\"translate(83.789062 0)\"/>\n      </g>\n     </g>\n    </g>\n    <g id=\"ytick_9\">\n     <g id=\"line2d_23\">\n      <path d=\"M 44.555937 30.144949 \nL 206.88321 30.144949 \n\" clip-path=\"url(#pb8dff94c50)\" style=\"fill: none; stroke-dasharray: 1.85,0.8; stroke-dashoffset: 0; stroke: #d3d3d3; stroke-width: 0.5\"/>\n     </g>\n     <g id=\"line2d_24\">\n      <g>\n       <use xlink:href=\"#m41f9b2d620\" x=\"44.555937\" y=\"30.144949\" style=\"stroke: #000000; stroke-width: 0.8\"/>\n      </g>\n     </g>\n     <g id=\"text_13\">\n      <!-- 0 -->\n      <g transform=\"translate(31.193437 33.944167) scale(0.1 -0.1)\">\n       <use xlink:href=\"#DejaVuSans-30\"/>\n      </g>\n     </g>\n    </g>\n    <g id=\"text_14\">\n     <!-- $(x_k)_2$ -->\n     <g transform=\"translate(16.318125 169.114125) rotate(-90) scale(0.12 -0.12)\">\n      <use xlink:href=\"#DejaVuSans-28\" transform=\"translate(0 0.125)\"/>\n      <use xlink:href=\"#DejaVuSans-Oblique-78\" transform=\"translate(39.013672 0.125)\"/>\n      <use xlink:href=\"#DejaVuSans-Oblique-6b\" transform=\"translate(98.193359 -16.28125) scale(0.7)\"/>\n      <use xlink:href=\"#DejaVuSans-29\" transform=\"translate(141.464844 0.125)\"/>\n      <use xlink:href=\"#DejaVuSans-32\" transform=\"translate(181.435547 -16.28125) scale(0.7)\"/>\n     </g>\n    </g>\n   </g>\n   <g id=\"line2d_25\">\n    <path d=\"M 199.504698 280.603301 \nL 146.911043 205.549051 \nL 97.825997 125.76839 \nL 51.93445 30.144949 \n\" clip-path=\"url(#pb8dff94c50)\" style=\"fill: none; stroke: #1f77b4; stroke-width: 1.5; stroke-linecap: square\"/>\n    <defs>\n     <path id=\"mb081ac0ad1\" d=\"M -3 3 \nL 3 -3 \nM -3 -3 \nL 3 3 \n\" style=\"stroke: #1f77b4\"/>\n    </defs>\n    <g clip-path=\"url(#pb8dff94c50)\">\n     <use xlink:href=\"#mb081ac0ad1\" x=\"199.504698\" y=\"280.603301\" style=\"fill: #1f77b4; stroke: #1f77b4\"/>\n     <use xlink:href=\"#mb081ac0ad1\" x=\"146.911043\" y=\"205.549051\" style=\"fill: #1f77b4; stroke: #1f77b4\"/>\n     <use xlink:href=\"#mb081ac0ad1\" x=\"97.825997\" y=\"125.76839\" style=\"fill: #1f77b4; stroke: #1f77b4\"/>\n     <use xlink:href=\"#mb081ac0ad1\" x=\"51.93445\" y=\"30.144949\" style=\"fill: #1f77b4; stroke: #1f77b4\"/>\n    </g>\n   </g>\n   <g id=\"line2d_26\">\n    <path d=\"M 199.504698 280.603301 \nL 164.781505 222.296416 \nL 133.239131 174.301842 \nL 104.172093 130.309019 \nL 77.136891 84.405148 \nL 51.93445 30.144949 \n\" clip-path=\"url(#pb8dff94c50)\" style=\"fill: none; stroke: #ff7f0e; stroke-width: 1.5; stroke-linecap: square\"/>\n    <defs>\n     <path id=\"mb14bfebd05\" d=\"M -3 3 \nL 3 -3 \nM -3 -3 \nL 3 3 \n\" style=\"stroke: #ff7f0e\"/>\n    </defs>\n    <g clip-path=\"url(#pb8dff94c50)\">\n     <use xlink:href=\"#mb14bfebd05\" x=\"199.504698\" y=\"280.603301\" style=\"fill: #ff7f0e; stroke: #ff7f0e\"/>\n     <use xlink:href=\"#mb14bfebd05\" x=\"164.781505\" y=\"222.296416\" style=\"fill: #ff7f0e; stroke: #ff7f0e\"/>\n     <use xlink:href=\"#mb14bfebd05\" x=\"133.239131\" y=\"174.301842\" style=\"fill: #ff7f0e; stroke: #ff7f0e\"/>\n     <use xlink:href=\"#mb14bfebd05\" x=\"104.172093\" y=\"130.309019\" style=\"fill: #ff7f0e; stroke: #ff7f0e\"/>\n     <use xlink:href=\"#mb14bfebd05\" x=\"77.136891\" y=\"84.405148\" style=\"fill: #ff7f0e; stroke: #ff7f0e\"/>\n     <use xlink:href=\"#mb14bfebd05\" x=\"51.93445\" y=\"30.144949\" style=\"fill: #ff7f0e; stroke: #ff7f0e\"/>\n    </g>\n   </g>\n   <g id=\"line2d_27\">\n    <path d=\"M 199.504698 280.603301 \nL 171.608037 222.663261 \nL 146.997495 179.84602 \nL 124.858829 146.553028 \nL 104.611297 118.524368 \nL 85.852403 92.171803 \nL 68.329538 64.01694 \nL 51.93445 30.144949 \n\" clip-path=\"url(#pb8dff94c50)\" style=\"fill: none; stroke: #2ca02c; stroke-width: 1.5; stroke-linecap: square\"/>\n    <defs>\n     <path id=\"m2d54ab8214\" d=\"M -3 3 \nL 3 -3 \nM -3 -3 \nL 3 3 \n\" style=\"stroke: #2ca02c\"/>\n    </defs>\n    <g clip-path=\"url(#pb8dff94c50)\">\n     <use xlink:href=\"#m2d54ab8214\" x=\"199.504698\" y=\"280.603301\" style=\"fill: #2ca02c; stroke: #2ca02c\"/>\n     <use xlink:href=\"#m2d54ab8214\" x=\"171.608037\" y=\"222.663261\" style=\"fill: #2ca02c; stroke: #2ca02c\"/>\n     <use xlink:href=\"#m2d54ab8214\" x=\"146.997495\" y=\"179.84602\" style=\"fill: #2ca02c; stroke: #2ca02c\"/>\n     <use xlink:href=\"#m2d54ab8214\" x=\"124.858829\" y=\"146.553028\" style=\"fill: #2ca02c; stroke: #2ca02c\"/>\n     <use xlink:href=\"#m2d54ab8214\" x=\"104.611297\" y=\"118.524368\" style=\"fill: #2ca02c; stroke: #2ca02c\"/>\n     <use xlink:href=\"#m2d54ab8214\" x=\"85.852403\" y=\"92.171803\" style=\"fill: #2ca02c; stroke: #2ca02c\"/>\n     <use xlink:href=\"#m2d54ab8214\" x=\"68.329538\" y=\"64.01694\" style=\"fill: #2ca02c; stroke: #2ca02c\"/>\n     <use xlink:href=\"#m2d54ab8214\" x=\"51.93445\" y=\"30.144949\" style=\"fill: #2ca02c; stroke: #2ca02c\"/>\n    </g>\n   </g>\n   <g id=\"line2d_28\">\n    <path d=\"M 199.504698 280.603301 \nL 175.867754 219.936351 \nL 155.695616 176.935981 \nL 138.125962 145.897107 \nL 122.534855 122.879381 \nL 108.46479 105.090749 \nL 95.577404 90.45274 \nL 83.623669 77.278175 \nL 72.427069 64.009952 \nL 61.877398 48.979298 \nL 51.93445 30.144949 \n\" clip-path=\"url(#pb8dff94c50)\" style=\"fill: none; stroke: #d62728; stroke-width: 1.5; stroke-linecap: square\"/>\n    <defs>\n     <path id=\"m37a013a563\" d=\"M -3 3 \nL 3 -3 \nM -3 -3 \nL 3 3 \n\" style=\"stroke: #d62728\"/>\n    </defs>\n    <g clip-path=\"url(#pb8dff94c50)\">\n     <use xlink:href=\"#m37a013a563\" x=\"199.504698\" y=\"280.603301\" style=\"fill: #d62728; stroke: #d62728\"/>\n     <use xlink:href=\"#m37a013a563\" x=\"175.867754\" y=\"219.936351\" style=\"fill: #d62728; stroke: #d62728\"/>\n     <use xlink:href=\"#m37a013a563\" x=\"155.695616\" y=\"176.935981\" style=\"fill: #d62728; stroke: #d62728\"/>\n     <use xlink:href=\"#m37a013a563\" x=\"138.125962\" y=\"145.897107\" style=\"fill: #d62728; stroke: #d62728\"/>\n     <use xlink:href=\"#m37a013a563\" x=\"122.534855\" y=\"122.879381\" style=\"fill: #d62728; stroke: #d62728\"/>\n     <use xlink:href=\"#m37a013a563\" x=\"108.46479\" y=\"105.090749\" style=\"fill: #d62728; stroke: #d62728\"/>\n     <use xlink:href=\"#m37a013a563\" x=\"95.577404\" y=\"90.45274\" style=\"fill: #d62728; stroke: #d62728\"/>\n     <use xlink:href=\"#m37a013a563\" x=\"83.623669\" y=\"77.278175\" style=\"fill: #d62728; stroke: #d62728\"/>\n     <use xlink:href=\"#m37a013a563\" x=\"72.427069\" y=\"64.009952\" style=\"fill: #d62728; stroke: #d62728\"/>\n     <use xlink:href=\"#m37a013a563\" x=\"61.877398\" y=\"48.979298\" style=\"fill: #d62728; stroke: #d62728\"/>\n     <use xlink:href=\"#m37a013a563\" x=\"51.93445\" y=\"30.144949\" style=\"fill: #d62728; stroke: #d62728\"/>\n    </g>\n   </g>\n   <g id=\"patch_3\">\n    <path d=\"M 44.555937 288.430125 \nL 44.555937 22.318125 \n\" style=\"fill: none; stroke: #000000; stroke-width: 0.8; stroke-linejoin: miter; stroke-linecap: square\"/>\n   </g>\n   <g id=\"patch_4\">\n    <path d=\"M 206.88321 288.430125 \nL 206.88321 22.318125 \n\" style=\"fill: none; stroke: #000000; stroke-width: 0.8; stroke-linejoin: miter; stroke-linecap: square\"/>\n   </g>\n   <g id=\"patch_5\">\n    <path d=\"M 44.555937 288.430125 \nL 206.88321 288.430125 \n\" style=\"fill: none; stroke: #000000; stroke-width: 0.8; stroke-linejoin: miter; stroke-linecap: square\"/>\n   </g>\n   <g id=\"patch_6\">\n    <path d=\"M 44.555937 22.318125 \nL 206.88321 22.318125 \n\" style=\"fill: none; stroke: #000000; stroke-width: 0.8; stroke-linejoin: miter; stroke-linecap: square\"/>\n   </g>\n   <g id=\"text_15\">\n    <!-- Open-loop -->\n    <g transform=\"translate(94.709886 16.318125) scale(0.12 -0.12)\">\n     <defs>\n      <path id=\"DejaVuSans-4f\" d=\"M 2522 4238 \nQ 1834 4238 1429 3725 \nQ 1025 3213 1025 2328 \nQ 1025 1447 1429 934 \nQ 1834 422 2522 422 \nQ 3209 422 3611 934 \nQ 4013 1447 4013 2328 \nQ 4013 3213 3611 3725 \nQ 3209 4238 2522 4238 \nz\nM 2522 4750 \nQ 3503 4750 4090 4092 \nQ 4678 3434 4678 2328 \nQ 4678 1225 4090 567 \nQ 3503 -91 2522 -91 \nQ 1538 -91 948 565 \nQ 359 1222 359 2328 \nQ 359 3434 948 4092 \nQ 1538 4750 2522 4750 \nz\n\" transform=\"scale(0.015625)\"/>\n      <path id=\"DejaVuSans-70\" d=\"M 1159 525 \nL 1159 -1331 \nL 581 -1331 \nL 581 3500 \nL 1159 3500 \nL 1159 2969 \nQ 1341 3281 1617 3432 \nQ 1894 3584 2278 3584 \nQ 2916 3584 3314 3078 \nQ 3713 2572 3713 1747 \nQ 3713 922 3314 415 \nQ 2916 -91 2278 -91 \nQ 1894 -91 1617 61 \nQ 1341 213 1159 525 \nz\nM 3116 1747 \nQ 3116 2381 2855 2742 \nQ 2594 3103 2138 3103 \nQ 1681 3103 1420 2742 \nQ 1159 2381 1159 1747 \nQ 1159 1113 1420 752 \nQ 1681 391 2138 391 \nQ 2594 391 2855 752 \nQ 3116 1113 3116 1747 \nz\n\" transform=\"scale(0.015625)\"/>\n      <path id=\"DejaVuSans-65\" d=\"M 3597 1894 \nL 3597 1613 \nL 953 1613 \nQ 991 1019 1311 708 \nQ 1631 397 2203 397 \nQ 2534 397 2845 478 \nQ 3156 559 3463 722 \nL 3463 178 \nQ 3153 47 2828 -22 \nQ 2503 -91 2169 -91 \nQ 1331 -91 842 396 \nQ 353 884 353 1716 \nQ 353 2575 817 3079 \nQ 1281 3584 2069 3584 \nQ 2775 3584 3186 3129 \nQ 3597 2675 3597 1894 \nz\nM 3022 2063 \nQ 3016 2534 2758 2815 \nQ 2500 3097 2075 3097 \nQ 1594 3097 1305 2825 \nQ 1016 2553 972 2059 \nL 3022 2063 \nz\n\" transform=\"scale(0.015625)\"/>\n      <path id=\"DejaVuSans-6e\" d=\"M 3513 2113 \nL 3513 0 \nL 2938 0 \nL 2938 2094 \nQ 2938 2591 2744 2837 \nQ 2550 3084 2163 3084 \nQ 1697 3084 1428 2787 \nQ 1159 2491 1159 1978 \nL 1159 0 \nL 581 0 \nL 581 3500 \nL 1159 3500 \nL 1159 2956 \nQ 1366 3272 1645 3428 \nQ 1925 3584 2291 3584 \nQ 2894 3584 3203 3211 \nQ 3513 2838 3513 2113 \nz\n\" transform=\"scale(0.015625)\"/>\n      <path id=\"DejaVuSans-2d\" d=\"M 313 2009 \nL 1997 2009 \nL 1997 1497 \nL 313 1497 \nL 313 2009 \nz\n\" transform=\"scale(0.015625)\"/>\n      <path id=\"DejaVuSans-6c\" d=\"M 603 4863 \nL 1178 4863 \nL 1178 0 \nL 603 0 \nL 603 4863 \nz\n\" transform=\"scale(0.015625)\"/>\n      <path id=\"DejaVuSans-6f\" d=\"M 1959 3097 \nQ 1497 3097 1228 2736 \nQ 959 2375 959 1747 \nQ 959 1119 1226 758 \nQ 1494 397 1959 397 \nQ 2419 397 2687 759 \nQ 2956 1122 2956 1747 \nQ 2956 2369 2687 2733 \nQ 2419 3097 1959 3097 \nz\nM 1959 3584 \nQ 2709 3584 3137 3096 \nQ 3566 2609 3566 1747 \nQ 3566 888 3137 398 \nQ 2709 -91 1959 -91 \nQ 1206 -91 779 398 \nQ 353 888 353 1747 \nQ 353 2609 779 3096 \nQ 1206 3584 1959 3584 \nz\n\" transform=\"scale(0.015625)\"/>\n     </defs>\n     <use xlink:href=\"#DejaVuSans-4f\"/>\n     <use xlink:href=\"#DejaVuSans-70\" transform=\"translate(78.710938 0)\"/>\n     <use xlink:href=\"#DejaVuSans-65\" transform=\"translate(142.1875 0)\"/>\n     <use xlink:href=\"#DejaVuSans-6e\" transform=\"translate(203.710938 0)\"/>\n     <use xlink:href=\"#DejaVuSans-2d\" transform=\"translate(267.089844 0)\"/>\n     <use xlink:href=\"#DejaVuSans-6c\" transform=\"translate(303.173828 0)\"/>\n     <use xlink:href=\"#DejaVuSans-6f\" transform=\"translate(330.957031 0)\"/>\n     <use xlink:href=\"#DejaVuSans-6f\" transform=\"translate(392.138672 0)\"/>\n     <use xlink:href=\"#DejaVuSans-70\" transform=\"translate(453.320312 0)\"/>\n    </g>\n   </g>\n   <g id=\"legend_1\">\n    <g id=\"patch_7\">\n     <path d=\"M 133.86446 89.030625 \nL 199.88321 89.030625 \nQ 201.88321 89.030625 201.88321 87.030625 \nL 201.88321 29.318125 \nQ 201.88321 27.318125 199.88321 27.318125 \nL 133.86446 27.318125 \nQ 131.86446 27.318125 131.86446 29.318125 \nL 131.86446 87.030625 \nQ 131.86446 89.030625 133.86446 89.030625 \nz\n\" style=\"fill: #ffffff; opacity: 0.8; stroke: #cccccc; stroke-linejoin: miter\"/>\n    </g>\n    <g id=\"line2d_29\">\n     <path d=\"M 135.86446 35.416562 \nL 145.86446 35.416562 \nL 155.86446 35.416562 \n\" style=\"fill: none; stroke: #1f77b4; stroke-width: 1.5; stroke-linecap: square\"/>\n     <g>\n      <use xlink:href=\"#mb081ac0ad1\" x=\"145.86446\" y=\"35.416562\" style=\"fill: #1f77b4; stroke: #1f77b4\"/>\n     </g>\n    </g>\n    <g id=\"text_16\">\n     <!-- K = 3 -->\n     <g transform=\"translate(163.86446 38.916562) scale(0.1 -0.1)\">\n      <defs>\n       <path id=\"DejaVuSans-4b\" d=\"M 628 4666 \nL 1259 4666 \nL 1259 2694 \nL 3353 4666 \nL 4166 4666 \nL 1850 2491 \nL 4331 0 \nL 3500 0 \nL 1259 2247 \nL 1259 0 \nL 628 0 \nL 628 4666 \nz\n\" transform=\"scale(0.015625)\"/>\n       <path id=\"DejaVuSans-20\" transform=\"scale(0.015625)\"/>\n       <path id=\"DejaVuSans-3d\" d=\"M 678 2906 \nL 4684 2906 \nL 4684 2381 \nL 678 2381 \nL 678 2906 \nz\nM 678 1631 \nL 4684 1631 \nL 4684 1100 \nL 678 1100 \nL 678 1631 \nz\n\" transform=\"scale(0.015625)\"/>\n      </defs>\n      <use xlink:href=\"#DejaVuSans-4b\"/>\n      <use xlink:href=\"#DejaVuSans-20\" transform=\"translate(65.576172 0)\"/>\n      <use xlink:href=\"#DejaVuSans-3d\" transform=\"translate(97.363281 0)\"/>\n      <use xlink:href=\"#DejaVuSans-20\" transform=\"translate(181.152344 0)\"/>\n      <use xlink:href=\"#DejaVuSans-33\" transform=\"translate(212.939453 0)\"/>\n     </g>\n    </g>\n    <g id=\"line2d_30\">\n     <path d=\"M 135.86446 50.094687 \nL 145.86446 50.094687 \nL 155.86446 50.094687 \n\" style=\"fill: none; stroke: #ff7f0e; stroke-width: 1.5; stroke-linecap: square\"/>\n     <g>\n      <use xlink:href=\"#mb14bfebd05\" x=\"145.86446\" y=\"50.094687\" style=\"fill: #ff7f0e; stroke: #ff7f0e\"/>\n     </g>\n    </g>\n    <g id=\"text_17\">\n     <!-- K = 5 -->\n     <g transform=\"translate(163.86446 53.594687) scale(0.1 -0.1)\">\n      <use xlink:href=\"#DejaVuSans-4b\"/>\n      <use xlink:href=\"#DejaVuSans-20\" transform=\"translate(65.576172 0)\"/>\n      <use xlink:href=\"#DejaVuSans-3d\" transform=\"translate(97.363281 0)\"/>\n      <use xlink:href=\"#DejaVuSans-20\" transform=\"translate(181.152344 0)\"/>\n      <use xlink:href=\"#DejaVuSans-35\" transform=\"translate(212.939453 0)\"/>\n     </g>\n    </g>\n    <g id=\"line2d_31\">\n     <path d=\"M 135.86446 64.772812 \nL 145.86446 64.772812 \nL 155.86446 64.772812 \n\" style=\"fill: none; stroke: #2ca02c; stroke-width: 1.5; stroke-linecap: square\"/>\n     <g>\n      <use xlink:href=\"#m2d54ab8214\" x=\"145.86446\" y=\"64.772812\" style=\"fill: #2ca02c; stroke: #2ca02c\"/>\n     </g>\n    </g>\n    <g id=\"text_18\">\n     <!-- K = 7 -->\n     <g transform=\"translate(163.86446 68.272812) scale(0.1 -0.1)\">\n      <use xlink:href=\"#DejaVuSans-4b\"/>\n      <use xlink:href=\"#DejaVuSans-20\" transform=\"translate(65.576172 0)\"/>\n      <use xlink:href=\"#DejaVuSans-3d\" transform=\"translate(97.363281 0)\"/>\n      <use xlink:href=\"#DejaVuSans-20\" transform=\"translate(181.152344 0)\"/>\n      <use xlink:href=\"#DejaVuSans-37\" transform=\"translate(212.939453 0)\"/>\n     </g>\n    </g>\n    <g id=\"line2d_32\">\n     <path d=\"M 135.86446 79.450937 \nL 145.86446 79.450937 \nL 155.86446 79.450937 \n\" style=\"fill: none; stroke: #d62728; stroke-width: 1.5; stroke-linecap: square\"/>\n     <g>\n      <use xlink:href=\"#m37a013a563\" x=\"145.86446\" y=\"79.450937\" style=\"fill: #d62728; stroke: #d62728\"/>\n     </g>\n    </g>\n    <g id=\"text_19\">\n     <!-- K = 10 -->\n     <g transform=\"translate(163.86446 82.950937) scale(0.1 -0.1)\">\n      <use xlink:href=\"#DejaVuSans-4b\"/>\n      <use xlink:href=\"#DejaVuSans-20\" transform=\"translate(65.576172 0)\"/>\n      <use xlink:href=\"#DejaVuSans-3d\" transform=\"translate(97.363281 0)\"/>\n      <use xlink:href=\"#DejaVuSans-20\" transform=\"translate(181.152344 0)\"/>\n      <use xlink:href=\"#DejaVuSans-31\" transform=\"translate(212.939453 0)\"/>\n      <use xlink:href=\"#DejaVuSans-30\" transform=\"translate(276.5625 0)\"/>\n     </g>\n    </g>\n   </g>\n  </g>\n  <g id=\"axes_2\">\n   <g id=\"patch_8\">\n    <path d=\"M 239.348665 288.430125 \nL 401.675937 288.430125 \nL 401.675937 22.318125 \nL 239.348665 22.318125 \nz\n\" style=\"fill: #ffffff\"/>\n   </g>\n   <g id=\"matplotlib.axis_3\">\n    <g id=\"xtick_4\">\n     <g id=\"line2d_33\">\n      <path d=\"M 246.727177 288.430125 \nL 246.727177 22.318125 \n\" clip-path=\"url(#pb10183c170)\" style=\"fill: none; stroke-dasharray: 1.85,0.8; stroke-dashoffset: 0; stroke: #d3d3d3; stroke-width: 0.5\"/>\n     </g>\n     <g id=\"line2d_34\">\n      <g>\n       <use xlink:href=\"#m5889b87de0\" x=\"246.727177\" y=\"288.430125\" style=\"stroke: #000000; stroke-width: 0.8\"/>\n      </g>\n     </g>\n     <g id=\"text_20\">\n      <!-- 0 -->\n      <g transform=\"translate(243.545927 303.028562) scale(0.1 -0.1)\">\n       <use xlink:href=\"#DejaVuSans-30\"/>\n      </g>\n     </g>\n    </g>\n    <g id=\"xtick_5\">\n     <g id=\"line2d_35\">\n      <path d=\"M 305.755276 288.430125 \nL 305.755276 22.318125 \n\" clip-path=\"url(#pb10183c170)\" style=\"fill: none; stroke-dasharray: 1.85,0.8; stroke-dashoffset: 0; stroke: #d3d3d3; stroke-width: 0.5\"/>\n     </g>\n     <g id=\"line2d_36\">\n      <g>\n       <use xlink:href=\"#m5889b87de0\" x=\"305.755276\" y=\"288.430125\" style=\"stroke: #000000; stroke-width: 0.8\"/>\n      </g>\n     </g>\n     <g id=\"text_21\">\n      <!-- 2 -->\n      <g transform=\"translate(302.574026 303.028562) scale(0.1 -0.1)\">\n       <use xlink:href=\"#DejaVuSans-32\"/>\n      </g>\n     </g>\n    </g>\n    <g id=\"xtick_6\">\n     <g id=\"line2d_37\">\n      <path d=\"M 364.783376 288.430125 \nL 364.783376 22.318125 \n\" clip-path=\"url(#pb10183c170)\" style=\"fill: none; stroke-dasharray: 1.85,0.8; stroke-dashoffset: 0; stroke: #d3d3d3; stroke-width: 0.5\"/>\n     </g>\n     <g id=\"line2d_38\">\n      <g>\n       <use xlink:href=\"#m5889b87de0\" x=\"364.783376\" y=\"288.430125\" style=\"stroke: #000000; stroke-width: 0.8\"/>\n      </g>\n     </g>\n     <g id=\"text_22\">\n      <!-- 4 -->\n      <g transform=\"translate(361.602126 303.028562) scale(0.1 -0.1)\">\n       <use xlink:href=\"#DejaVuSans-34\"/>\n      </g>\n     </g>\n    </g>\n    <g id=\"text_23\">\n     <!-- $(x_t)_1$ -->\n     <g transform=\"translate(307.552301 318.226375) scale(0.12 -0.12)\">\n      <defs>\n       <path id=\"DejaVuSans-Oblique-74\" d=\"M 2706 3500 \nL 2619 3053 \nL 1472 3053 \nL 1100 1153 \nQ 1081 1047 1072 975 \nQ 1063 903 1063 863 \nQ 1063 663 1183 572 \nQ 1303 481 1569 481 \nL 2150 481 \nL 2053 0 \nL 1503 0 \nQ 991 0 739 200 \nQ 488 400 488 806 \nQ 488 878 497 964 \nQ 506 1050 525 1153 \nL 897 3053 \nL 409 3053 \nL 500 3500 \nL 978 3500 \nL 1172 4494 \nL 1747 4494 \nL 1556 3500 \nL 2706 3500 \nz\n\" transform=\"scale(0.015625)\"/>\n      </defs>\n      <use xlink:href=\"#DejaVuSans-28\" transform=\"translate(0 0.125)\"/>\n      <use xlink:href=\"#DejaVuSans-Oblique-78\" transform=\"translate(39.013672 0.125)\"/>\n      <use xlink:href=\"#DejaVuSans-Oblique-74\" transform=\"translate(98.193359 -16.28125) scale(0.7)\"/>\n      <use xlink:href=\"#DejaVuSans-29\" transform=\"translate(128.374023 0.125)\"/>\n      <use xlink:href=\"#DejaVuSans-31\" transform=\"translate(168.344727 -16.28125) scale(0.7)\"/>\n     </g>\n    </g>\n   </g>\n   <g id=\"matplotlib.axis_4\">\n    <g id=\"ytick_10\">\n     <g id=\"line2d_39\">\n      <path d=\"M 239.348665 280.603301 \nL 401.675937 280.603301 \n\" clip-path=\"url(#pb10183c170)\" style=\"fill: none; stroke-dasharray: 1.85,0.8; stroke-dashoffset: 0; stroke: #d3d3d3; stroke-width: 0.5\"/>\n     </g>\n     <g id=\"line2d_40\">\n      <g>\n       <use xlink:href=\"#m41f9b2d620\" x=\"239.348665\" y=\"280.603301\" style=\"stroke: #000000; stroke-width: 0.8\"/>\n      </g>\n     </g>\n     <g id=\"text_24\">\n      <!-- −8 -->\n      <g transform=\"translate(217.606477 284.40252) scale(0.1 -0.1)\">\n       <use xlink:href=\"#DejaVuSans-2212\"/>\n       <use xlink:href=\"#DejaVuSans-38\" transform=\"translate(83.789062 0)\"/>\n      </g>\n     </g>\n    </g>\n    <g id=\"ytick_11\">\n     <g id=\"line2d_41\">\n      <path d=\"M 239.348665 249.296007 \nL 401.675937 249.296007 \n\" clip-path=\"url(#pb10183c170)\" style=\"fill: none; stroke-dasharray: 1.85,0.8; stroke-dashoffset: 0; stroke: #d3d3d3; stroke-width: 0.5\"/>\n     </g>\n     <g id=\"line2d_42\">\n      <g>\n       <use xlink:href=\"#m41f9b2d620\" x=\"239.348665\" y=\"249.296007\" style=\"stroke: #000000; stroke-width: 0.8\"/>\n      </g>\n     </g>\n     <g id=\"text_25\">\n      <!-- −7 -->\n      <g transform=\"translate(217.606477 253.095226) scale(0.1 -0.1)\">\n       <use xlink:href=\"#DejaVuSans-2212\"/>\n       <use xlink:href=\"#DejaVuSans-37\" transform=\"translate(83.789062 0)\"/>\n      </g>\n     </g>\n    </g>\n    <g id=\"ytick_12\">\n     <g id=\"line2d_43\">\n      <path d=\"M 239.348665 217.988713 \nL 401.675937 217.988713 \n\" clip-path=\"url(#pb10183c170)\" style=\"fill: none; stroke-dasharray: 1.85,0.8; stroke-dashoffset: 0; stroke: #d3d3d3; stroke-width: 0.5\"/>\n     </g>\n     <g id=\"line2d_44\">\n      <g>\n       <use xlink:href=\"#m41f9b2d620\" x=\"239.348665\" y=\"217.988713\" style=\"stroke: #000000; stroke-width: 0.8\"/>\n      </g>\n     </g>\n     <g id=\"text_26\">\n      <!-- −6 -->\n      <g transform=\"translate(217.606477 221.787932) scale(0.1 -0.1)\">\n       <use xlink:href=\"#DejaVuSans-2212\"/>\n       <use xlink:href=\"#DejaVuSans-36\" transform=\"translate(83.789062 0)\"/>\n      </g>\n     </g>\n    </g>\n    <g id=\"ytick_13\">\n     <g id=\"line2d_45\">\n      <path d=\"M 239.348665 186.681419 \nL 401.675937 186.681419 \n\" clip-path=\"url(#pb10183c170)\" style=\"fill: none; stroke-dasharray: 1.85,0.8; stroke-dashoffset: 0; stroke: #d3d3d3; stroke-width: 0.5\"/>\n     </g>\n     <g id=\"line2d_46\">\n      <g>\n       <use xlink:href=\"#m41f9b2d620\" x=\"239.348665\" y=\"186.681419\" style=\"stroke: #000000; stroke-width: 0.8\"/>\n      </g>\n     </g>\n     <g id=\"text_27\">\n      <!-- −5 -->\n      <g transform=\"translate(217.606477 190.480638) scale(0.1 -0.1)\">\n       <use xlink:href=\"#DejaVuSans-2212\"/>\n       <use xlink:href=\"#DejaVuSans-35\" transform=\"translate(83.789062 0)\"/>\n      </g>\n     </g>\n    </g>\n    <g id=\"ytick_14\">\n     <g id=\"line2d_47\">\n      <path d=\"M 239.348665 155.374125 \nL 401.675937 155.374125 \n\" clip-path=\"url(#pb10183c170)\" style=\"fill: none; stroke-dasharray: 1.85,0.8; stroke-dashoffset: 0; stroke: #d3d3d3; stroke-width: 0.5\"/>\n     </g>\n     <g id=\"line2d_48\">\n      <g>\n       <use xlink:href=\"#m41f9b2d620\" x=\"239.348665\" y=\"155.374125\" style=\"stroke: #000000; stroke-width: 0.8\"/>\n      </g>\n     </g>\n     <g id=\"text_28\">\n      <!-- −4 -->\n      <g transform=\"translate(217.606477 159.173344) scale(0.1 -0.1)\">\n       <use xlink:href=\"#DejaVuSans-2212\"/>\n       <use xlink:href=\"#DejaVuSans-34\" transform=\"translate(83.789062 0)\"/>\n      </g>\n     </g>\n    </g>\n    <g id=\"ytick_15\">\n     <g id=\"line2d_49\">\n      <path d=\"M 239.348665 124.066831 \nL 401.675937 124.066831 \n\" clip-path=\"url(#pb10183c170)\" style=\"fill: none; stroke-dasharray: 1.85,0.8; stroke-dashoffset: 0; stroke: #d3d3d3; stroke-width: 0.5\"/>\n     </g>\n     <g id=\"line2d_50\">\n      <g>\n       <use xlink:href=\"#m41f9b2d620\" x=\"239.348665\" y=\"124.066831\" style=\"stroke: #000000; stroke-width: 0.8\"/>\n      </g>\n     </g>\n     <g id=\"text_29\">\n      <!-- −3 -->\n      <g transform=\"translate(217.606477 127.86605) scale(0.1 -0.1)\">\n       <use xlink:href=\"#DejaVuSans-2212\"/>\n       <use xlink:href=\"#DejaVuSans-33\" transform=\"translate(83.789062 0)\"/>\n      </g>\n     </g>\n    </g>\n    <g id=\"ytick_16\">\n     <g id=\"line2d_51\">\n      <path d=\"M 239.348665 92.759537 \nL 401.675937 92.759537 \n\" clip-path=\"url(#pb10183c170)\" style=\"fill: none; stroke-dasharray: 1.85,0.8; stroke-dashoffset: 0; stroke: #d3d3d3; stroke-width: 0.5\"/>\n     </g>\n     <g id=\"line2d_52\">\n      <g>\n       <use xlink:href=\"#m41f9b2d620\" x=\"239.348665\" y=\"92.759537\" style=\"stroke: #000000; stroke-width: 0.8\"/>\n      </g>\n     </g>\n     <g id=\"text_30\">\n      <!-- −2 -->\n      <g transform=\"translate(217.606477 96.558756) scale(0.1 -0.1)\">\n       <use xlink:href=\"#DejaVuSans-2212\"/>\n       <use xlink:href=\"#DejaVuSans-32\" transform=\"translate(83.789062 0)\"/>\n      </g>\n     </g>\n    </g>\n    <g id=\"ytick_17\">\n     <g id=\"line2d_53\">\n      <path d=\"M 239.348665 61.452243 \nL 401.675937 61.452243 \n\" clip-path=\"url(#pb10183c170)\" style=\"fill: none; stroke-dasharray: 1.85,0.8; stroke-dashoffset: 0; stroke: #d3d3d3; stroke-width: 0.5\"/>\n     </g>\n     <g id=\"line2d_54\">\n      <g>\n       <use xlink:href=\"#m41f9b2d620\" x=\"239.348665\" y=\"61.452243\" style=\"stroke: #000000; stroke-width: 0.8\"/>\n      </g>\n     </g>\n     <g id=\"text_31\">\n      <!-- −1 -->\n      <g transform=\"translate(217.606477 65.251461) scale(0.1 -0.1)\">\n       <use xlink:href=\"#DejaVuSans-2212\"/>\n       <use xlink:href=\"#DejaVuSans-31\" transform=\"translate(83.789062 0)\"/>\n      </g>\n     </g>\n    </g>\n    <g id=\"ytick_18\">\n     <g id=\"line2d_55\">\n      <path d=\"M 239.348665 30.144949 \nL 401.675937 30.144949 \n\" clip-path=\"url(#pb10183c170)\" style=\"fill: none; stroke-dasharray: 1.85,0.8; stroke-dashoffset: 0; stroke: #d3d3d3; stroke-width: 0.5\"/>\n     </g>\n     <g id=\"line2d_56\">\n      <g>\n       <use xlink:href=\"#m41f9b2d620\" x=\"239.348665\" y=\"30.144949\" style=\"stroke: #000000; stroke-width: 0.8\"/>\n      </g>\n     </g>\n     <g id=\"text_32\">\n      <!-- 0 -->\n      <g transform=\"translate(225.986165 33.944167) scale(0.1 -0.1)\">\n       <use xlink:href=\"#DejaVuSans-30\"/>\n      </g>\n     </g>\n    </g>\n   </g>\n   <g id=\"line2d_57\">\n    <path d=\"M 394.297425 280.603301 \nL 341.70377 205.549051 \nL 307.646352 151.15707 \nL 285.676977 112.625536 \nL 271.555654 85.800896 \nL 262.50897 67.382607 \nL 256.731359 54.878127 \nL 253.05238 46.46823 \nL 250.716287 40.857321 \nL 249.236869 37.139716 \nL 248.302378 34.691498 \nL 247.713559 33.087921 \nL 247.343439 32.042665 \nL 247.111335 31.364331 \nL 246.966116 30.925882 \nL 246.875463 30.643536 \nL 246.819 30.46234 \nL 246.783909 30.346432 \nL 246.76215 30.272512 \nL 246.748687 30.225505 \nL 246.740376 30.195694 \n\" clip-path=\"url(#pb10183c170)\" style=\"fill: none; stroke: #1f77b4; stroke-width: 1.5; stroke-linecap: square\"/>\n    <g clip-path=\"url(#pb10183c170)\">\n     <use xlink:href=\"#mb081ac0ad1\" x=\"394.297425\" y=\"280.603301\" style=\"fill: #1f77b4; stroke: #1f77b4\"/>\n     <use xlink:href=\"#mb081ac0ad1\" x=\"341.70377\" y=\"205.549051\" style=\"fill: #1f77b4; stroke: #1f77b4\"/>\n     <use xlink:href=\"#mb081ac0ad1\" x=\"307.646352\" y=\"151.15707\" style=\"fill: #1f77b4; stroke: #1f77b4\"/>\n     <use xlink:href=\"#mb081ac0ad1\" x=\"285.676977\" y=\"112.625536\" style=\"fill: #1f77b4; stroke: #1f77b4\"/>\n     <use xlink:href=\"#mb081ac0ad1\" x=\"271.555654\" y=\"85.800896\" style=\"fill: #1f77b4; stroke: #1f77b4\"/>\n     <use xlink:href=\"#mb081ac0ad1\" x=\"262.50897\" y=\"67.382607\" style=\"fill: #1f77b4; stroke: #1f77b4\"/>\n     <use xlink:href=\"#mb081ac0ad1\" x=\"256.731359\" y=\"54.878127\" style=\"fill: #1f77b4; stroke: #1f77b4\"/>\n     <use xlink:href=\"#mb081ac0ad1\" x=\"253.05238\" y=\"46.46823\" style=\"fill: #1f77b4; stroke: #1f77b4\"/>\n     <use xlink:href=\"#mb081ac0ad1\" x=\"250.716287\" y=\"40.857321\" style=\"fill: #1f77b4; stroke: #1f77b4\"/>\n     <use xlink:href=\"#mb081ac0ad1\" x=\"249.236869\" y=\"37.139716\" style=\"fill: #1f77b4; stroke: #1f77b4\"/>\n     <use xlink:href=\"#mb081ac0ad1\" x=\"248.302378\" y=\"34.691498\" style=\"fill: #1f77b4; stroke: #1f77b4\"/>\n     <use xlink:href=\"#mb081ac0ad1\" x=\"247.713559\" y=\"33.087921\" style=\"fill: #1f77b4; stroke: #1f77b4\"/>\n     <use xlink:href=\"#mb081ac0ad1\" x=\"247.343439\" y=\"32.042665\" style=\"fill: #1f77b4; stroke: #1f77b4\"/>\n     <use xlink:href=\"#mb081ac0ad1\" x=\"247.111335\" y=\"31.364331\" style=\"fill: #1f77b4; stroke: #1f77b4\"/>\n     <use xlink:href=\"#mb081ac0ad1\" x=\"246.966116\" y=\"30.925882\" style=\"fill: #1f77b4; stroke: #1f77b4\"/>\n     <use xlink:href=\"#mb081ac0ad1\" x=\"246.875463\" y=\"30.643536\" style=\"fill: #1f77b4; stroke: #1f77b4\"/>\n     <use xlink:href=\"#mb081ac0ad1\" x=\"246.819\" y=\"30.46234\" style=\"fill: #1f77b4; stroke: #1f77b4\"/>\n     <use xlink:href=\"#mb081ac0ad1\" x=\"246.783909\" y=\"30.346432\" style=\"fill: #1f77b4; stroke: #1f77b4\"/>\n     <use xlink:href=\"#mb081ac0ad1\" x=\"246.76215\" y=\"30.272512\" style=\"fill: #1f77b4; stroke: #1f77b4\"/>\n     <use xlink:href=\"#mb081ac0ad1\" x=\"246.748687\" y=\"30.225505\" style=\"fill: #1f77b4; stroke: #1f77b4\"/>\n     <use xlink:href=\"#mb081ac0ad1\" x=\"246.740376\" y=\"30.195694\" style=\"fill: #1f77b4; stroke: #1f77b4\"/>\n    </g>\n   </g>\n   <g id=\"line2d_58\">\n    <path d=\"M 394.297425 280.603301 \nL 359.574232 222.296416 \nL 333.009042 177.479686 \nL 312.689299 143.060186 \nL 297.149448 116.644545 \nL 285.266928 96.383994 \nL 276.182199 80.852605 \nL 269.237324 68.952008 \nL 263.928816 59.837084 \nL 259.871472 52.858203 \nL 256.770648 47.516413 \nL 254.401004 43.428768 \nL 252.590235 40.301541 \nL 251.206603 37.909554 \nL 250.1494 36.080266 \nL 249.341647 34.681518 \nL 248.724506 33.612122 \nL 248.253011 32.794622 \nL 247.8928 32.169748 \nL 247.617613 31.692153 \nL 247.407385 31.327154 \n\" clip-path=\"url(#pb10183c170)\" style=\"fill: none; stroke: #ff7f0e; stroke-width: 1.5; stroke-linecap: square\"/>\n    <g clip-path=\"url(#pb10183c170)\">\n     <use xlink:href=\"#mb14bfebd05\" x=\"394.297425\" y=\"280.603301\" style=\"fill: #ff7f0e; stroke: #ff7f0e\"/>\n     <use xlink:href=\"#mb14bfebd05\" x=\"359.574232\" y=\"222.296416\" style=\"fill: #ff7f0e; stroke: #ff7f0e\"/>\n     <use xlink:href=\"#mb14bfebd05\" x=\"333.009042\" y=\"177.479686\" style=\"fill: #ff7f0e; stroke: #ff7f0e\"/>\n     <use xlink:href=\"#mb14bfebd05\" x=\"312.689299\" y=\"143.060186\" style=\"fill: #ff7f0e; stroke: #ff7f0e\"/>\n     <use xlink:href=\"#mb14bfebd05\" x=\"297.149448\" y=\"116.644545\" style=\"fill: #ff7f0e; stroke: #ff7f0e\"/>\n     <use xlink:href=\"#mb14bfebd05\" x=\"285.266928\" y=\"96.383994\" style=\"fill: #ff7f0e; stroke: #ff7f0e\"/>\n     <use xlink:href=\"#mb14bfebd05\" x=\"276.182199\" y=\"80.852605\" style=\"fill: #ff7f0e; stroke: #ff7f0e\"/>\n     <use xlink:href=\"#mb14bfebd05\" x=\"269.237324\" y=\"68.952008\" style=\"fill: #ff7f0e; stroke: #ff7f0e\"/>\n     <use xlink:href=\"#mb14bfebd05\" x=\"263.928816\" y=\"59.837084\" style=\"fill: #ff7f0e; stroke: #ff7f0e\"/>\n     <use xlink:href=\"#mb14bfebd05\" x=\"259.871472\" y=\"52.858203\" style=\"fill: #ff7f0e; stroke: #ff7f0e\"/>\n     <use xlink:href=\"#mb14bfebd05\" x=\"256.770648\" y=\"47.516413\" style=\"fill: #ff7f0e; stroke: #ff7f0e\"/>\n     <use xlink:href=\"#mb14bfebd05\" x=\"254.401004\" y=\"43.428768\" style=\"fill: #ff7f0e; stroke: #ff7f0e\"/>\n     <use xlink:href=\"#mb14bfebd05\" x=\"252.590235\" y=\"40.301541\" style=\"fill: #ff7f0e; stroke: #ff7f0e\"/>\n     <use xlink:href=\"#mb14bfebd05\" x=\"251.206603\" y=\"37.909554\" style=\"fill: #ff7f0e; stroke: #ff7f0e\"/>\n     <use xlink:href=\"#mb14bfebd05\" x=\"250.1494\" y=\"36.080266\" style=\"fill: #ff7f0e; stroke: #ff7f0e\"/>\n     <use xlink:href=\"#mb14bfebd05\" x=\"249.341647\" y=\"34.681518\" style=\"fill: #ff7f0e; stroke: #ff7f0e\"/>\n     <use xlink:href=\"#mb14bfebd05\" x=\"248.724506\" y=\"33.612122\" style=\"fill: #ff7f0e; stroke: #ff7f0e\"/>\n     <use xlink:href=\"#mb14bfebd05\" x=\"248.253011\" y=\"32.794622\" style=\"fill: #ff7f0e; stroke: #ff7f0e\"/>\n     <use xlink:href=\"#mb14bfebd05\" x=\"247.8928\" y=\"32.169748\" style=\"fill: #ff7f0e; stroke: #ff7f0e\"/>\n     <use xlink:href=\"#mb14bfebd05\" x=\"247.617613\" y=\"31.692153\" style=\"fill: #ff7f0e; stroke: #ff7f0e\"/>\n     <use xlink:href=\"#mb14bfebd05\" x=\"247.407385\" y=\"31.327154\" style=\"fill: #ff7f0e; stroke: #ff7f0e\"/>\n    </g>\n   </g>\n   <g id=\"line2d_59\">\n    <path d=\"M 394.297425 280.603301 \nL 366.400764 222.663261 \nL 344.021424 179.43133 \nL 325.993452 146.846919 \nL 311.419205 122.045149 \nL 299.601593 102.989067 \nL 289.994952 88.218086 \nL 282.169064 76.675322 \nL 275.782558 67.588617 \nL 270.563033 60.388181 \nL 266.292054 54.64927 \nL 262.79372 50.052049 \nL 259.925874 46.353297 \nL 257.573279 43.366297 \nL 255.642274 40.946434 \nL 254.056577 38.980783 \nL 252.753944 37.380505 \nL 251.683513 36.075242 \nL 250.803668 35.008948 \nL 250.080324 34.136746 \nL 249.485542 33.422543 \n\" clip-path=\"url(#pb10183c170)\" style=\"fill: none; stroke: #2ca02c; stroke-width: 1.5; stroke-linecap: square\"/>\n    <g clip-path=\"url(#pb10183c170)\">\n     <use xlink:href=\"#m2d54ab8214\" x=\"394.297425\" y=\"280.603301\" style=\"fill: #2ca02c; stroke: #2ca02c\"/>\n     <use xlink:href=\"#m2d54ab8214\" x=\"366.400764\" y=\"222.663261\" style=\"fill: #2ca02c; stroke: #2ca02c\"/>\n     <use xlink:href=\"#m2d54ab8214\" x=\"344.021424\" y=\"179.43133\" style=\"fill: #2ca02c; stroke: #2ca02c\"/>\n     <use xlink:href=\"#m2d54ab8214\" x=\"325.993452\" y=\"146.846919\" style=\"fill: #2ca02c; stroke: #2ca02c\"/>\n     <use xlink:href=\"#m2d54ab8214\" x=\"311.419205\" y=\"122.045149\" style=\"fill: #2ca02c; stroke: #2ca02c\"/>\n     <use xlink:href=\"#m2d54ab8214\" x=\"299.601593\" y=\"102.989067\" style=\"fill: #2ca02c; stroke: #2ca02c\"/>\n     <use xlink:href=\"#m2d54ab8214\" x=\"289.994952\" y=\"88.218086\" style=\"fill: #2ca02c; stroke: #2ca02c\"/>\n     <use xlink:href=\"#m2d54ab8214\" x=\"282.169064\" y=\"76.675322\" style=\"fill: #2ca02c; stroke: #2ca02c\"/>\n     <use xlink:href=\"#m2d54ab8214\" x=\"275.782558\" y=\"67.588617\" style=\"fill: #2ca02c; stroke: #2ca02c\"/>\n     <use xlink:href=\"#m2d54ab8214\" x=\"270.563033\" y=\"60.388181\" style=\"fill: #2ca02c; stroke: #2ca02c\"/>\n     <use xlink:href=\"#m2d54ab8214\" x=\"266.292054\" y=\"54.64927\" style=\"fill: #2ca02c; stroke: #2ca02c\"/>\n     <use xlink:href=\"#m2d54ab8214\" x=\"262.79372\" y=\"50.052049\" style=\"fill: #2ca02c; stroke: #2ca02c\"/>\n     <use xlink:href=\"#m2d54ab8214\" x=\"259.925874\" y=\"46.353297\" style=\"fill: #2ca02c; stroke: #2ca02c\"/>\n     <use xlink:href=\"#m2d54ab8214\" x=\"257.573279\" y=\"43.366297\" style=\"fill: #2ca02c; stroke: #2ca02c\"/>\n     <use xlink:href=\"#m2d54ab8214\" x=\"255.642274\" y=\"40.946434\" style=\"fill: #2ca02c; stroke: #2ca02c\"/>\n     <use xlink:href=\"#m2d54ab8214\" x=\"254.056577\" y=\"38.980783\" style=\"fill: #2ca02c; stroke: #2ca02c\"/>\n     <use xlink:href=\"#m2d54ab8214\" x=\"252.753944\" y=\"37.380505\" style=\"fill: #2ca02c; stroke: #2ca02c\"/>\n     <use xlink:href=\"#m2d54ab8214\" x=\"251.683513\" y=\"36.075242\" style=\"fill: #2ca02c; stroke: #2ca02c\"/>\n     <use xlink:href=\"#m2d54ab8214\" x=\"250.803668\" y=\"35.008948\" style=\"fill: #2ca02c; stroke: #2ca02c\"/>\n     <use xlink:href=\"#m2d54ab8214\" x=\"250.080324\" y=\"34.136746\" style=\"fill: #2ca02c; stroke: #2ca02c\"/>\n     <use xlink:href=\"#m2d54ab8214\" x=\"249.485542\" y=\"33.422543\" style=\"fill: #2ca02c; stroke: #2ca02c\"/>\n    </g>\n   </g>\n   <g id=\"line2d_60\">\n    <path d=\"M 394.297425 280.603301 \nL 370.660481 219.936351 \nL 351.343072 176.173752 \nL 335.404787 144.191635 \nL 322.14743 120.486535 \nL 311.044831 102.652873 \nL 301.694365 89.030378 \nL 293.783261 78.465966 \nL 287.064998 70.152759 \nL 281.34263 63.521089 \nL 276.456865 58.164584 \nL 272.27746 53.789929 \nL 268.696906 50.182626 \nL 265.625748 47.183577 \nL 262.989048 44.673005 \nL 260.72368 42.559349 \nL 258.776221 40.771548 \nL 257.1013 39.253651 \nL 255.660264 37.960991 \nL 254.420109 36.857473 \nL 253.3526 35.913602 \n\" clip-path=\"url(#pb10183c170)\" style=\"fill: none; stroke: #d62728; stroke-width: 1.5; stroke-linecap: square\"/>\n    <g clip-path=\"url(#pb10183c170)\">\n     <use xlink:href=\"#m37a013a563\" x=\"394.297425\" y=\"280.603301\" style=\"fill: #d62728; stroke: #d62728\"/>\n     <use xlink:href=\"#m37a013a563\" x=\"370.660481\" y=\"219.936351\" style=\"fill: #d62728; stroke: #d62728\"/>\n     <use xlink:href=\"#m37a013a563\" x=\"351.343072\" y=\"176.173752\" style=\"fill: #d62728; stroke: #d62728\"/>\n     <use xlink:href=\"#m37a013a563\" x=\"335.404787\" y=\"144.191635\" style=\"fill: #d62728; stroke: #d62728\"/>\n     <use xlink:href=\"#m37a013a563\" x=\"322.14743\" y=\"120.486535\" style=\"fill: #d62728; stroke: #d62728\"/>\n     <use xlink:href=\"#m37a013a563\" x=\"311.044831\" y=\"102.652873\" style=\"fill: #d62728; stroke: #d62728\"/>\n     <use xlink:href=\"#m37a013a563\" x=\"301.694365\" y=\"89.030378\" style=\"fill: #d62728; stroke: #d62728\"/>\n     <use xlink:href=\"#m37a013a563\" x=\"293.783261\" y=\"78.465966\" style=\"fill: #d62728; stroke: #d62728\"/>\n     <use xlink:href=\"#m37a013a563\" x=\"287.064998\" y=\"70.152759\" style=\"fill: #d62728; stroke: #d62728\"/>\n     <use xlink:href=\"#m37a013a563\" x=\"281.34263\" y=\"63.521089\" style=\"fill: #d62728; stroke: #d62728\"/>\n     <use xlink:href=\"#m37a013a563\" x=\"276.456865\" y=\"58.164584\" style=\"fill: #d62728; stroke: #d62728\"/>\n     <use xlink:href=\"#m37a013a563\" x=\"272.27746\" y=\"53.789929\" style=\"fill: #d62728; stroke: #d62728\"/>\n     <use xlink:href=\"#m37a013a563\" x=\"268.696906\" y=\"50.182626\" style=\"fill: #d62728; stroke: #d62728\"/>\n     <use xlink:href=\"#m37a013a563\" x=\"265.625748\" y=\"47.183577\" style=\"fill: #d62728; stroke: #d62728\"/>\n     <use xlink:href=\"#m37a013a563\" x=\"262.989048\" y=\"44.673005\" style=\"fill: #d62728; stroke: #d62728\"/>\n     <use xlink:href=\"#m37a013a563\" x=\"260.72368\" y=\"42.559349\" style=\"fill: #d62728; stroke: #d62728\"/>\n     <use xlink:href=\"#m37a013a563\" x=\"258.776221\" y=\"40.771548\" style=\"fill: #d62728; stroke: #d62728\"/>\n     <use xlink:href=\"#m37a013a563\" x=\"257.1013\" y=\"39.253651\" style=\"fill: #d62728; stroke: #d62728\"/>\n     <use xlink:href=\"#m37a013a563\" x=\"255.660264\" y=\"37.960991\" style=\"fill: #d62728; stroke: #d62728\"/>\n     <use xlink:href=\"#m37a013a563\" x=\"254.420109\" y=\"36.857473\" style=\"fill: #d62728; stroke: #d62728\"/>\n     <use xlink:href=\"#m37a013a563\" x=\"253.3526\" y=\"35.913602\" style=\"fill: #d62728; stroke: #d62728\"/>\n    </g>\n   </g>\n   <g id=\"patch_9\">\n    <path d=\"M 239.348665 288.430125 \nL 239.348665 22.318125 \n\" style=\"fill: none; stroke: #000000; stroke-width: 0.8; stroke-linejoin: miter; stroke-linecap: square\"/>\n   </g>\n   <g id=\"patch_10\">\n    <path d=\"M 401.675937 288.430125 \nL 401.675937 22.318125 \n\" style=\"fill: none; stroke: #000000; stroke-width: 0.8; stroke-linejoin: miter; stroke-linecap: square\"/>\n   </g>\n   <g id=\"patch_11\">\n    <path d=\"M 239.348665 288.430125 \nL 401.675937 288.430125 \n\" style=\"fill: none; stroke: #000000; stroke-width: 0.8; stroke-linejoin: miter; stroke-linecap: square\"/>\n   </g>\n   <g id=\"patch_12\">\n    <path d=\"M 239.348665 22.318125 \nL 401.675937 22.318125 \n\" style=\"fill: none; stroke: #000000; stroke-width: 0.8; stroke-linejoin: miter; stroke-linecap: square\"/>\n   </g>\n   <g id=\"text_33\">\n    <!-- Closed-loop -->\n    <g transform=\"translate(285.374801 16.318125) scale(0.12 -0.12)\">\n     <defs>\n      <path id=\"DejaVuSans-43\" d=\"M 4122 4306 \nL 4122 3641 \nQ 3803 3938 3442 4084 \nQ 3081 4231 2675 4231 \nQ 1875 4231 1450 3742 \nQ 1025 3253 1025 2328 \nQ 1025 1406 1450 917 \nQ 1875 428 2675 428 \nQ 3081 428 3442 575 \nQ 3803 722 4122 1019 \nL 4122 359 \nQ 3791 134 3420 21 \nQ 3050 -91 2638 -91 \nQ 1578 -91 968 557 \nQ 359 1206 359 2328 \nQ 359 3453 968 4101 \nQ 1578 4750 2638 4750 \nQ 3056 4750 3426 4639 \nQ 3797 4528 4122 4306 \nz\n\" transform=\"scale(0.015625)\"/>\n      <path id=\"DejaVuSans-73\" d=\"M 2834 3397 \nL 2834 2853 \nQ 2591 2978 2328 3040 \nQ 2066 3103 1784 3103 \nQ 1356 3103 1142 2972 \nQ 928 2841 928 2578 \nQ 928 2378 1081 2264 \nQ 1234 2150 1697 2047 \nL 1894 2003 \nQ 2506 1872 2764 1633 \nQ 3022 1394 3022 966 \nQ 3022 478 2636 193 \nQ 2250 -91 1575 -91 \nQ 1294 -91 989 -36 \nQ 684 19 347 128 \nL 347 722 \nQ 666 556 975 473 \nQ 1284 391 1588 391 \nQ 1994 391 2212 530 \nQ 2431 669 2431 922 \nQ 2431 1156 2273 1281 \nQ 2116 1406 1581 1522 \nL 1381 1569 \nQ 847 1681 609 1914 \nQ 372 2147 372 2553 \nQ 372 3047 722 3315 \nQ 1072 3584 1716 3584 \nQ 2034 3584 2315 3537 \nQ 2597 3491 2834 3397 \nz\n\" transform=\"scale(0.015625)\"/>\n      <path id=\"DejaVuSans-64\" d=\"M 2906 2969 \nL 2906 4863 \nL 3481 4863 \nL 3481 0 \nL 2906 0 \nL 2906 525 \nQ 2725 213 2448 61 \nQ 2172 -91 1784 -91 \nQ 1150 -91 751 415 \nQ 353 922 353 1747 \nQ 353 2572 751 3078 \nQ 1150 3584 1784 3584 \nQ 2172 3584 2448 3432 \nQ 2725 3281 2906 2969 \nz\nM 947 1747 \nQ 947 1113 1208 752 \nQ 1469 391 1925 391 \nQ 2381 391 2643 752 \nQ 2906 1113 2906 1747 \nQ 2906 2381 2643 2742 \nQ 2381 3103 1925 3103 \nQ 1469 3103 1208 2742 \nQ 947 2381 947 1747 \nz\n\" transform=\"scale(0.015625)\"/>\n     </defs>\n     <use xlink:href=\"#DejaVuSans-43\"/>\n     <use xlink:href=\"#DejaVuSans-6c\" transform=\"translate(69.824219 0)\"/>\n     <use xlink:href=\"#DejaVuSans-6f\" transform=\"translate(97.607422 0)\"/>\n     <use xlink:href=\"#DejaVuSans-73\" transform=\"translate(158.789062 0)\"/>\n     <use xlink:href=\"#DejaVuSans-65\" transform=\"translate(210.888672 0)\"/>\n     <use xlink:href=\"#DejaVuSans-64\" transform=\"translate(272.412109 0)\"/>\n     <use xlink:href=\"#DejaVuSans-2d\" transform=\"translate(335.888672 0)\"/>\n     <use xlink:href=\"#DejaVuSans-6c\" transform=\"translate(371.972656 0)\"/>\n     <use xlink:href=\"#DejaVuSans-6f\" transform=\"translate(399.755859 0)\"/>\n     <use xlink:href=\"#DejaVuSans-6f\" transform=\"translate(460.9375 0)\"/>\n     <use xlink:href=\"#DejaVuSans-70\" transform=\"translate(522.119141 0)\"/>\n    </g>\n   </g>\n  </g>\n </g>\n <defs>\n  <clipPath id=\"pb8dff94c50\">\n   <rect x=\"44.555937\" y=\"22.318125\" width=\"162.327273\" height=\"266.112\"/>\n  </clipPath>\n  <clipPath id=\"pb10183c170\">\n   <rect x=\"239.348665\" y=\"22.318125\" width=\"162.327273\" height=\"266.112\"/>\n  </clipPath>\n </defs>\n</svg>\n"
          },
          "metadata": {}
        }
      ]
    },
    {
      "cell_type": "markdown",
      "source": [
        "**Question 2:**\n",
        "\n",
        "Do the open and closed-loop trajectories match? If not, explain in your own words why this is not the case.\n",
        "\n",
        "**Answer 2:**\n",
        "\n",
        "They do not match as the closed-loop trajectory at every time step gets one more step to reach the terminal state $x_K =0$. Thus, it can reoptimize and find a state $x^*$ and input sequence $u^*$ which fulfils the terminal state constraint but at a smaller cost."
      ],
      "metadata": {
        "id": "QXJqawyBToqW"
      }
    },
    {
      "cell_type": "markdown",
      "source": [
        "**Question 3:**\n",
        "\n",
        "Why does it take so long for the closed-loop trajectory for K=10 to converge to zero? Would that be a \"problem\" in a real-life application?\n",
        "\n",
        "**Answer 3:**\n",
        "\n",
        " The system is asymptotically stable due to the terminal state constraint as stated in the Theorem Slide 24 of the MPC lecture.  However, the stability result only hold asymptotically as $T \\to \\infty$. If for a specific application it was inmportant that the state reaches faster this would have to be taken into consideration when desiging the state cost matrix $Q$ (weighting the state more)."
      ],
      "metadata": {
        "id": "egZi6KubRzPl"
      }
    }
  ]
}