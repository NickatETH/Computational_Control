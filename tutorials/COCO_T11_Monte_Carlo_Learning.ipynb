{
 "cells": [
  {
   "cell_type": "markdown",
   "metadata": {
    "id": "HuJwpRzvQfzu"
   },
   "source": [
    "#Environment Settings (do not change)"
   ]
  },
  {
   "cell_type": "markdown",
   "metadata": {
    "id": "PWG9sOzMIBGM"
   },
   "source": [
    "Please do **not** change this part."
   ]
  },
  {
   "cell_type": "code",
   "execution_count": null,
   "metadata": {
    "colab": {
     "base_uri": "https://localhost:8080/"
    },
    "id": "vOSpQvM3sXIP",
    "outputId": "cca35c7b-0112-4e9d-b40c-079cc4874678"
   },
   "outputs": [
    {
     "name": "stdout",
     "output_type": "stream",
     "text": [
      "Collecting gymnasium\n",
      "  Using cached gymnasium-1.1.1-py3-none-any.whl.metadata (9.4 kB)\n",
      "Requirement already satisfied: numpy>=1.21.0 in /opt/conda/lib/python3.12/site-packages (from gymnasium) (2.2.4)\n",
      "Requirement already satisfied: cloudpickle>=1.2.0 in /opt/conda/lib/python3.12/site-packages (from gymnasium) (3.1.1)\n",
      "Requirement already satisfied: typing-extensions>=4.3.0 in /opt/conda/lib/python3.12/site-packages (from gymnasium) (4.13.2)\n",
      "Collecting farama-notifications>=0.0.1 (from gymnasium)\n",
      "  Using cached Farama_Notifications-0.0.4-py3-none-any.whl.metadata (558 bytes)\n",
      "Using cached gymnasium-1.1.1-py3-none-any.whl (965 kB)\n",
      "Using cached Farama_Notifications-0.0.4-py3-none-any.whl (2.5 kB)\n",
      "Installing collected packages: farama-notifications, gymnasium\n",
      "Successfully installed farama-notifications-0.0.4 gymnasium-1.1.1\n",
      "Requirement already satisfied: gymnasium[other] in /opt/conda/lib/python3.12/site-packages (1.1.1)\n",
      "Requirement already satisfied: numpy>=1.21.0 in /opt/conda/lib/python3.12/site-packages (from gymnasium[other]) (2.2.4)\n",
      "Requirement already satisfied: cloudpickle>=1.2.0 in /opt/conda/lib/python3.12/site-packages (from gymnasium[other]) (3.1.1)\n",
      "Requirement already satisfied: typing-extensions>=4.3.0 in /opt/conda/lib/python3.12/site-packages (from gymnasium[other]) (4.13.2)\n",
      "Requirement already satisfied: farama-notifications>=0.0.1 in /opt/conda/lib/python3.12/site-packages (from gymnasium[other]) (0.0.4)\n",
      "Collecting moviepy>=1.0.0 (from gymnasium[other])\n",
      "  Using cached moviepy-2.1.2-py3-none-any.whl.metadata (6.9 kB)\n",
      "Requirement already satisfied: matplotlib>=3.0 in /opt/conda/lib/python3.12/site-packages (from gymnasium[other]) (3.10.1)\n",
      "Collecting opencv-python>=3.0 (from gymnasium[other])\n",
      "  Using cached opencv_python-4.11.0.86-cp37-abi3-manylinux_2_17_x86_64.manylinux2014_x86_64.whl.metadata (20 kB)\n",
      "Requirement already satisfied: seaborn>=0.13 in /opt/conda/lib/python3.12/site-packages (from gymnasium[other]) (0.13.2)\n",
      "Requirement already satisfied: contourpy>=1.0.1 in /opt/conda/lib/python3.12/site-packages (from matplotlib>=3.0->gymnasium[other]) (1.3.1)\n",
      "Requirement already satisfied: cycler>=0.10 in /opt/conda/lib/python3.12/site-packages (from matplotlib>=3.0->gymnasium[other]) (0.12.1)\n",
      "Requirement already satisfied: fonttools>=4.22.0 in /opt/conda/lib/python3.12/site-packages (from matplotlib>=3.0->gymnasium[other]) (4.57.0)\n",
      "Requirement already satisfied: kiwisolver>=1.3.1 in /opt/conda/lib/python3.12/site-packages (from matplotlib>=3.0->gymnasium[other]) (1.4.8)\n",
      "Requirement already satisfied: packaging>=20.0 in /opt/conda/lib/python3.12/site-packages (from matplotlib>=3.0->gymnasium[other]) (24.2)\n",
      "Requirement already satisfied: pillow>=8 in /opt/conda/lib/python3.12/site-packages (from matplotlib>=3.0->gymnasium[other]) (11.1.0)\n",
      "Requirement already satisfied: pyparsing>=2.3.1 in /opt/conda/lib/python3.12/site-packages (from matplotlib>=3.0->gymnasium[other]) (3.2.3)\n",
      "Requirement already satisfied: python-dateutil>=2.7 in /opt/conda/lib/python3.12/site-packages (from matplotlib>=3.0->gymnasium[other]) (2.9.0.post0)\n",
      "Requirement already satisfied: decorator<6.0,>=4.0.2 in /opt/conda/lib/python3.12/site-packages (from moviepy>=1.0.0->gymnasium[other]) (5.2.1)\n",
      "Requirement already satisfied: imageio<3.0,>=2.5 in /opt/conda/lib/python3.12/site-packages (from moviepy>=1.0.0->gymnasium[other]) (2.37.0)\n",
      "Collecting imageio_ffmpeg>=0.2.0 (from moviepy>=1.0.0->gymnasium[other])\n",
      "  Using cached imageio_ffmpeg-0.6.0-py3-none-manylinux2014_x86_64.whl.metadata (1.5 kB)\n",
      "Collecting proglog<=1.0.0 (from moviepy>=1.0.0->gymnasium[other])\n",
      "  Using cached proglog-0.1.11-py3-none-any.whl.metadata (794 bytes)\n",
      "Collecting python-dotenv>=0.10 (from moviepy>=1.0.0->gymnasium[other])\n",
      "  Using cached python_dotenv-1.1.0-py3-none-any.whl.metadata (24 kB)\n",
      "Collecting pillow>=8 (from matplotlib>=3.0->gymnasium[other])\n",
      "  Using cached pillow-10.4.0-cp312-cp312-manylinux_2_28_x86_64.whl.metadata (9.2 kB)\n",
      "Requirement already satisfied: pandas>=1.2 in /opt/conda/lib/python3.12/site-packages (from seaborn>=0.13->gymnasium[other]) (2.2.3)\n",
      "Requirement already satisfied: pytz>=2020.1 in /opt/conda/lib/python3.12/site-packages (from pandas>=1.2->seaborn>=0.13->gymnasium[other]) (2025.2)\n",
      "Requirement already satisfied: tzdata>=2022.7 in /opt/conda/lib/python3.12/site-packages (from pandas>=1.2->seaborn>=0.13->gymnasium[other]) (2025.2)\n",
      "Requirement already satisfied: tqdm in /opt/conda/lib/python3.12/site-packages (from proglog<=1.0.0->moviepy>=1.0.0->gymnasium[other]) (4.67.1)\n",
      "Requirement already satisfied: six>=1.5 in /opt/conda/lib/python3.12/site-packages (from python-dateutil>=2.7->matplotlib>=3.0->gymnasium[other]) (1.17.0)\n",
      "Using cached moviepy-2.1.2-py3-none-any.whl (126 kB)\n",
      "Using cached opencv_python-4.11.0.86-cp37-abi3-manylinux_2_17_x86_64.manylinux2014_x86_64.whl (63.0 MB)\n",
      "Using cached imageio_ffmpeg-0.6.0-py3-none-manylinux2014_x86_64.whl (29.5 MB)\n",
      "Using cached pillow-10.4.0-cp312-cp312-manylinux_2_28_x86_64.whl (4.5 MB)\n",
      "Using cached proglog-0.1.11-py3-none-any.whl (7.8 kB)\n",
      "Using cached python_dotenv-1.1.0-py3-none-any.whl (20 kB)\n",
      "Installing collected packages: python-dotenv, proglog, pillow, opencv-python, imageio_ffmpeg, moviepy\n",
      "  Attempting uninstall: pillow\n",
      "    Found existing installation: pillow 11.1.0\n",
      "    Uninstalling pillow-11.1.0:\n",
      "      Successfully uninstalled pillow-11.1.0\n",
      "Successfully installed imageio_ffmpeg-0.6.0 moviepy-2.1.2 opencv-python-4.11.0.86 pillow-10.4.0 proglog-0.1.11 python-dotenv-1.1.0\n",
      "Requirement already satisfied: gymnasium[toy-text] in /opt/conda/lib/python3.12/site-packages (1.1.1)\n",
      "Requirement already satisfied: numpy>=1.21.0 in /opt/conda/lib/python3.12/site-packages (from gymnasium[toy-text]) (2.2.4)\n",
      "Requirement already satisfied: cloudpickle>=1.2.0 in /opt/conda/lib/python3.12/site-packages (from gymnasium[toy-text]) (3.1.1)\n",
      "Requirement already satisfied: typing-extensions>=4.3.0 in /opt/conda/lib/python3.12/site-packages (from gymnasium[toy-text]) (4.13.2)\n",
      "Requirement already satisfied: farama-notifications>=0.0.1 in /opt/conda/lib/python3.12/site-packages (from gymnasium[toy-text]) (0.0.4)\n",
      "Collecting pygame>=2.1.3 (from gymnasium[toy-text])\n",
      "  Using cached pygame-2.6.1-cp312-cp312-manylinux_2_17_x86_64.manylinux2014_x86_64.whl.metadata (12 kB)\n",
      "Using cached pygame-2.6.1-cp312-cp312-manylinux_2_17_x86_64.manylinux2014_x86_64.whl (14.0 MB)\n",
      "Installing collected packages: pygame\n",
      "Successfully installed pygame-2.6.1\n"
     ]
    }
   ],
   "source": [
    "# This will clean all variables\n",
    "!pip install gymnasium\n",
    "!pip install gymnasium[other]\n",
    "!pip install gymnasium[toy-text]\n",
    "\n",
    "%reset -f\n",
    "\n",
    "import numpy as np\n",
    "\n",
    "if not hasattr(np, 'bool8'):\n",
    "    np.bool8 = np.bool_\n",
    "\n",
    "from typing import List, Tuple\n",
    "import gym\n",
    "\n",
    "# Install necessary things to display videos\n",
    "!apt-get install -y xvfb x11-utils\n",
    "!pip install pyvirtualdisplay==0.2.*\n",
    "\n",
    "from gym.wrappers.monitoring.video_recorder import VideoRecorder\n",
    "from base64 import b64encode\n",
    "from IPython.display import HTML\n",
    "from pyvirtualdisplay import Display\n",
    "\n",
    "virtual_display = Display(visible=0, size=(1400, 900))\n",
    "virtual_display.start()\n",
    "\n",
    "def render_mp4(videopath: str) -> str:\n",
    "  \"\"\"\n",
    "  Gets a string containing a b4-encoded version of the MP4 video\n",
    "  at the specified path.\n",
    "  \"\"\"\n",
    "  mp4 = open(videopath, 'rb').read()\n",
    "  base64_encoded_mp4 = b64encode(mp4).decode()\n",
    "  return f'<video width=400 controls><source src=\"data:video/mp4;' \\\n",
    "         f'base64,{base64_encoded_mp4}\" type=\"video/mp4\"></video>'"
   ]
  },
  {
   "cell_type": "markdown",
   "metadata": {
    "id": "afa7Ngm0QuSU"
   },
   "source": [
    "# Basics"
   ]
  },
  {
   "cell_type": "markdown",
   "metadata": {
    "id": "xt0rrPLuQ8kL"
   },
   "source": [
    "Setup environment:"
   ]
  },
  {
   "cell_type": "code",
   "execution_count": null,
   "metadata": {
    "colab": {
     "base_uri": "https://localhost:8080/"
    },
    "id": "-8A5Vd-hQ0KH",
    "outputId": "6710a1ff-0d12-4b93-ceaf-f457a51b1bed"
   },
   "outputs": [
    {
     "name": "stderr",
     "output_type": "stream",
     "text": [
      "/usr/local/lib/python3.11/dist-packages/gym/core.py:317: DeprecationWarning: \u001b[33mWARN: Initializing wrapper in old step API which returns one bool instead of two. It is recommended to set `new_step_api=True` to use new step API. This will be the default behaviour in future.\u001b[0m\n",
      "  deprecation(\n",
      "/usr/local/lib/python3.11/dist-packages/gym/wrappers/step_api_compatibility.py:39: DeprecationWarning: \u001b[33mWARN: Initializing environment in old step API which returns one bool instead of two. It is recommended to set `new_step_api=True` to use new step API. This will be the default behaviour in future.\u001b[0m\n",
      "  deprecation(\n"
     ]
    }
   ],
   "source": [
    "# Discount factor (in [0,1))\n",
    "gamma = 0.95\n",
    "\n",
    "# Simulation\n",
    "n_episodes = 200\n",
    "max_length_episode = 100\n",
    "\n",
    "# Decide whether to generate a video or not\n",
    "generate_video = True # leave it to True (or delete the rendering)\n",
    "video_name = 'FrozenLake'\n",
    "n_episodes_video = 2 # episode which end up in the video\n",
    "\n",
    "# Environment\n",
    "env = gym.make('FrozenLake-v1', map_name=\"4x4\", is_slippery=True, render_mode='rgb_array')\n",
    "\n",
    "# The tutorial will be on FrozenLake, but feel free to play with other enviroments too\n",
    "#env = gym.make('Taxi-v3', render_mode='rgb_array')\n",
    "#env = gym.make('CliffWalking-v0', render_mode='rgb_array')"
   ]
  },
  {
   "cell_type": "markdown",
   "metadata": {
    "id": "47a_QewIWRcz"
   },
   "source": [
    "States and actions (for the environment FrozenLake, 4x4):\n",
    "\n",
    "*   The state is the position on the 4x4 grid (i.e., between 0 and 15);\n",
    "*   The action is left (0), down (1), right (2), up (3).\n",
    "\n",
    "\n"
   ]
  },
  {
   "cell_type": "code",
   "execution_count": null,
   "metadata": {
    "colab": {
     "base_uri": "https://localhost:8080/"
    },
    "id": "ZSnoAYuaVMCX",
    "outputId": "13ec682d-f4e6-4aa2-d905-9de3025f9ac2"
   },
   "outputs": [
    {
     "data": {
      "text/plain": [
       "Discrete(4)"
      ]
     },
     "execution_count": 3,
     "metadata": {},
     "output_type": "execute_result"
    }
   ],
   "source": [
    "env.action_space"
   ]
  },
  {
   "cell_type": "code",
   "execution_count": null,
   "metadata": {
    "colab": {
     "base_uri": "https://localhost:8080/"
    },
    "id": "kd21IRa8AiKo",
    "outputId": "594451b5-6d5b-43ac-a490-7f64c6ddaacd"
   },
   "outputs": [
    {
     "data": {
      "text/plain": [
       "4"
      ]
     },
     "execution_count": 4,
     "metadata": {},
     "output_type": "execute_result"
    }
   ],
   "source": [
    "env.action_space.n"
   ]
  },
  {
   "cell_type": "code",
   "execution_count": null,
   "metadata": {
    "colab": {
     "base_uri": "https://localhost:8080/"
    },
    "id": "2bThY6qpWU0l",
    "outputId": "956aa76b-daa2-4a32-b5bf-c22cff6fb24b"
   },
   "outputs": [
    {
     "data": {
      "text/plain": [
       "Discrete(16)"
      ]
     },
     "execution_count": 5,
     "metadata": {},
     "output_type": "execute_result"
    }
   ],
   "source": [
    "env.observation_space"
   ]
  },
  {
   "cell_type": "code",
   "execution_count": null,
   "metadata": {
    "colab": {
     "base_uri": "https://localhost:8080/"
    },
    "id": "-NXt_7P6Akjh",
    "outputId": "4840b496-59e4-4b10-8eb8-67cd95cd04a0"
   },
   "outputs": [
    {
     "data": {
      "text/plain": [
       "16"
      ]
     },
     "execution_count": 6,
     "metadata": {},
     "output_type": "execute_result"
    }
   ],
   "source": [
    "env.observation_space.n"
   ]
  },
  {
   "cell_type": "markdown",
   "metadata": {
    "id": "9jQlin-jWxkn"
   },
   "source": [
    "Probability matrix, for instance here the probabilities when at state 0 and action 1 is played."
   ]
  },
  {
   "cell_type": "code",
   "execution_count": null,
   "metadata": {
    "colab": {
     "base_uri": "https://localhost:8080/"
    },
    "id": "6JPMAEYYW4H4",
    "outputId": "fd7804cd-00d4-4eb2-bd8d-d12d8a383e15"
   },
   "outputs": [
    {
     "data": {
      "text/plain": [
       "[(0.3333333333333333, 0, 0.0, False),\n",
       " (0.3333333333333333, 4, 0.0, False),\n",
       " (0.3333333333333333, 1, 0.0, False)]"
      ]
     },
     "execution_count": 7,
     "metadata": {},
     "output_type": "execute_result"
    }
   ],
   "source": [
    "env.P[0][1] # p_state, state, reward of that transition, done (ignore the last output)"
   ]
  },
  {
   "cell_type": "markdown",
   "metadata": {
    "id": "xVlS_2se6JZ7"
   },
   "source": [
    "We start with the semantics: For us, a policy is Python list of length $n_\\mathrm{states}$ and each entry of this list is a vector of size $n_\\mathrm{actions}$. To sample an action at a given state, which will be helpful later, the following function can be used.\n",
    "\n",
    "*Note*: this is not the most efficient way, just for illustration purposes."
   ]
  },
  {
   "cell_type": "code",
   "execution_count": null,
   "metadata": {
    "id": "1dobfoV83SiY"
   },
   "outputs": [],
   "source": [
    "def sample_action(policy: List[np.ndarray], state: int) -> int:\n",
    "  return np.random.choice(np.arange(start=0, stop=env.action_space.n), size=1, p=policy[state])[0]"
   ]
  },
  {
   "cell_type": "markdown",
   "metadata": {
    "id": "xcoxF1pd3Vr6"
   },
   "source": [
    "We start with a simply random policy. We will later experiment other policies.\n",
    "\n",
    "For us, a policy is list of arrays. In particular:\n",
    "- `pi` is list whose dimension is the number of states;\n",
    "- `pi[s]` is numpy array whose dimension is the number of actions which represents a probability distribution over the action space;\n",
    "- `pi[s][a]` is the probability of playing action `a` when at state `s`.\n",
    "\n",
    "\n"
   ]
  },
  {
   "cell_type": "code",
   "execution_count": null,
   "metadata": {
    "id": "WYhwJPIuXiDZ"
   },
   "outputs": [],
   "source": [
    "pi_random = []\n",
    "for s in range(env.observation_space.n):\n",
    "  probability_actions = np.ones(env.action_space.n)/env.action_space.n\n",
    "  pi_random.append(probability_actions)"
   ]
  },
  {
   "cell_type": "markdown",
   "metadata": {
    "id": "jDt2FnLW6Foe"
   },
   "source": [
    "Check your result by inspecting the probability distribution at the first state.  "
   ]
  },
  {
   "cell_type": "code",
   "execution_count": null,
   "metadata": {
    "colab": {
     "base_uri": "https://localhost:8080/"
    },
    "id": "cyfcLELQYEQy",
    "outputId": "6e9ec159-7c48-470a-8cda-46e6894315bb"
   },
   "outputs": [
    {
     "data": {
      "text/plain": [
       "array([0.25, 0.25, 0.25, 0.25])"
      ]
     },
     "execution_count": 10,
     "metadata": {},
     "output_type": "execute_result"
    }
   ],
   "source": [
    "pi_random[0]"
   ]
  },
  {
   "cell_type": "markdown",
   "metadata": {
    "id": "ZVWJdIb633j1"
   },
   "source": [
    "Finally, we test our sampling method."
   ]
  },
  {
   "cell_type": "code",
   "execution_count": null,
   "metadata": {
    "colab": {
     "base_uri": "https://localhost:8080/"
    },
    "id": "cR2vV6zaaOS4",
    "outputId": "cd49cfa0-0878-4532-8f4f-7d86e6ed9354"
   },
   "outputs": [
    {
     "data": {
      "text/plain": [
       "np.int64(0)"
      ]
     },
     "execution_count": 11,
     "metadata": {},
     "output_type": "execute_result"
    }
   ],
   "source": [
    "sample_action(policy=pi_random,\n",
    "              state=1)"
   ]
  },
  {
   "cell_type": "markdown",
   "metadata": {
    "id": "FjmaUKnVYd4k"
   },
   "source": [
    "#Simulation environment\n",
    "We now write a function that simulates a policy."
   ]
  },
  {
   "cell_type": "code",
   "execution_count": null,
   "metadata": {
    "id": "LnhYAw3PYypo"
   },
   "outputs": [],
   "source": [
    "def simulate_environment(policy:List[np.ndarray], sim_video_name: str) -> float:\n",
    "  # Setup video\n",
    "  if generate_video:\n",
    "    video = VideoRecorder(env, sim_video_name)\n",
    "\n",
    "  total_reward = 0.0\n",
    "\n",
    "  for e in range(n_episodes):\n",
    "    reward_episode = 0.0\n",
    "\n",
    "    # Do video or not\n",
    "    do_video = generate_video and e <= n_episodes_video-1\n",
    "\n",
    "    # Reset\n",
    "    observation = env.reset()\n",
    "    if do_video:\n",
    "      video.capture_frame()\n",
    "\n",
    "    # Simulate an episode\n",
    "    for t in range(max_length_episode):\n",
    "      action = sample_action(policy=policy,\n",
    "                             state=observation)\n",
    "      observation, reward, done, _ = env.step(action)\n",
    "      if do_video:\n",
    "        video.capture_frame()\n",
    "      # Compute reward\n",
    "      reward_episode += gamma**t * reward\n",
    "\n",
    "      if done:\n",
    "        break\n",
    "\n",
    "    # Increase reward\n",
    "    total_reward += reward_episode\n",
    "\n",
    "  env.close()\n",
    "  if generate_video:\n",
    "    video.close()\n",
    "\n",
    "  return total_reward/n_episodes"
   ]
  },
  {
   "cell_type": "markdown",
   "metadata": {
    "id": "u0wXXmMlcaRo"
   },
   "source": [
    "We can now simulate our random policy. The simulations parameters are listed at the top of the file."
   ]
  },
  {
   "cell_type": "code",
   "execution_count": null,
   "metadata": {
    "colab": {
     "base_uri": "https://localhost:8080/"
    },
    "id": "wgFL5xsbb9C1",
    "outputId": "19d10c35-42fa-4b88-f4de-a32e84541d03"
   },
   "outputs": [
    {
     "name": "stderr",
     "output_type": "stream",
     "text": [
      "/usr/local/lib/python3.11/dist-packages/gym/wrappers/monitoring/video_recorder.py:101: DeprecationWarning: \u001b[33mWARN: <class 'gym.wrappers.monitoring.video_recorder.VideoRecorder'> is marked as deprecated and will be removed in the future.\u001b[0m\n",
      "  logger.deprecation(\n",
      "/usr/local/lib/python3.11/dist-packages/pygame/pkgdata.py:25: DeprecationWarning: pkg_resources is deprecated as an API. See https://setuptools.pypa.io/en/latest/pkg_resources.html\n",
      "  from pkg_resources import resource_stream, resource_exists\n",
      "/usr/local/lib/python3.11/dist-packages/pkg_resources/__init__.py:3154: DeprecationWarning: Deprecated call to `pkg_resources.declare_namespace('google')`.\n",
      "Implementing implicit namespace packages (as specified in PEP 420) is preferred to `pkg_resources.declare_namespace`. See https://setuptools.pypa.io/en/latest/references/keywords.html#keyword-namespace-packages\n",
      "  declare_namespace(pkg)\n",
      "/usr/local/lib/python3.11/dist-packages/pkg_resources/__init__.py:3154: DeprecationWarning: Deprecated call to `pkg_resources.declare_namespace('google.cloud')`.\n",
      "Implementing implicit namespace packages (as specified in PEP 420) is preferred to `pkg_resources.declare_namespace`. See https://setuptools.pypa.io/en/latest/references/keywords.html#keyword-namespace-packages\n",
      "  declare_namespace(pkg)\n",
      "/usr/local/lib/python3.11/dist-packages/pkg_resources/__init__.py:3154: DeprecationWarning: Deprecated call to `pkg_resources.declare_namespace('sphinxcontrib')`.\n",
      "Implementing implicit namespace packages (as specified in PEP 420) is preferred to `pkg_resources.declare_namespace`. See https://setuptools.pypa.io/en/latest/references/keywords.html#keyword-namespace-packages\n",
      "  declare_namespace(pkg)\n"
     ]
    },
    {
     "name": "stdout",
     "output_type": "stream",
     "text": [
      "Average reward: 0.015904804691404775\n"
     ]
    }
   ],
   "source": [
    "average_reward_random = simulate_environment(policy=pi_random,\n",
    "                                             sim_video_name=video_name + '_random_policy.mp4')\n",
    "print('Average reward: ' + str(average_reward_random))"
   ]
  },
  {
   "cell_type": "markdown",
   "metadata": {
    "id": "P-lGrtX3PfxT"
   },
   "source": [
    "Display video:"
   ]
  },
  {
   "cell_type": "code",
   "execution_count": null,
   "metadata": {
    "colab": {
     "base_uri": "https://localhost:8080/",
     "height": 421
    },
    "id": "j4lWsRI_RWZ2",
    "outputId": "d1713385-6deb-439b-8876-d3a0ea3ce913"
   },
   "outputs": [
    {
     "data": {
      "text/html": [
       "<video width=400 controls><source src=\"data:video/mp4;base64,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\" type=\"video/mp4\"></video>"
      ],
      "text/plain": [
       "<IPython.core.display.HTML object>"
      ]
     },
     "execution_count": 14,
     "metadata": {},
     "output_type": "execute_result"
    }
   ],
   "source": [
    "HTML(render_mp4(video_name +  '_random_policy.mp4'))"
   ]
  },
  {
   "cell_type": "markdown",
   "metadata": {
    "id": "Oc5s6D8sQZQj"
   },
   "source": [
    "#Value function of a policy"
   ]
  },
  {
   "cell_type": "markdown",
   "metadata": {
    "id": "YUmU4p1TWlo8"
   },
   "source": [
    "Now, we can write a function that computes the value/cost-to-go of a given policy. We will do it in three ways:\n",
    "\n",
    "1.   Solving the (linear) Bellman equation:\n",
    "$$V^\\pi(x)=\\sum_{a}\\pi(x,a)\\left(R_x^a+\\sum_{x'}P_{xx'}^aV^\\pi(x')\\right);$$\n",
    "2.   Using the contractivity \"Bellman equation\" (see more next time): Update $V_t^\\pi$ to $V_{t+1}^\\pi$ via\n",
    "$$V_{t+1}^\\pi(x)=\\sum_a\\pi(x,a)\\left(R_x^a+\\sum_{x'}P_{xx'}^aV_t^\\pi(x')\\right);$$\n",
    "note that you also need to define an initial condition and an adequate stopping  criterium;\n",
    "3.   Via numerical simulations.\n",
    "\n",
    "*Note*: This is not the optimal value/cost-to-go, but just the reward/cost incurred when using the policy $\\pi$. Next time, we will look into methods to compute the optimal policy $\\pi^\\ast$.\n",
    "\n",
    "First, though, we write a function that computes the expected reward $R_x^a$ and the probability vector $P_{xx'}^a$ when playing action $a$ at state $x$.\n",
    "\n",
    "\n",
    "\n",
    "\n"
   ]
  },
  {
   "cell_type": "code",
   "execution_count": null,
   "metadata": {
    "id": "t8ZLdebQ5gY7"
   },
   "outputs": [],
   "source": [
    "def get_reward_probability_vector_state_action(state: int, action: int) -> Tuple[float, np.ndarray]:\n",
    "  expected_reward = 0.0\n",
    "  probability_vector = np.zeros(env.observation_space.n)\n",
    "\n",
    "  # Extract info\n",
    "  output = env.P[state][action]\n",
    "  for o in output:\n",
    "    p_next_state = o[0]\n",
    "    next_state = o[1]\n",
    "    reward = o[2]\n",
    "\n",
    "    # Reward\n",
    "    expected_reward += p_next_state*reward\n",
    "\n",
    "    # Probability vector\n",
    "    probability_vector[next_state] += p_next_state\n",
    "\n",
    "  return expected_reward, probability_vector"
   ]
  },
  {
   "cell_type": "markdown",
   "metadata": {
    "id": "mrKuFTjW5g10"
   },
   "source": [
    "We can now start with 1. We split the task in two pieces:\n",
    "\n",
    "\n",
    "1.   Implement a function `get_reward_probability_matrix` that outputs the reward vector (numpy array whose dimension is the number of states) whose entry $x$ is\n",
    "$$\\sum_{a}\\pi(x,a)R_x^a$$\n",
    "and the probability matrix (two-dimensional numpy array whose dimension is the number of states) whose entry $(x,x')$ is\n",
    "$$\\sum_{a}\\pi(x,a)P_{xx'}^a.$$\n",
    "2.   Use these two quantities to solve the linear equation. The output should be $V(x)$ as a numpy array (whose dimension is the number of states).\n",
    "\n",
    "*Hint:* Use the function `get_reward_probability_vector_state_action` you wrote above.\n"
   ]
  },
  {
   "cell_type": "code",
   "execution_count": null,
   "metadata": {
    "colab": {
     "base_uri": "https://localhost:8080/"
    },
    "id": "-STlLKNOVN6q",
    "outputId": "dd9a515e-2453-457f-8a2a-1bb06b026cc1"
   },
   "outputs": [
    {
     "name": "stdout",
     "output_type": "stream",
     "text": [
      "[ 7.76738424e-03  6.86813641e-03  1.42829484e-02  6.46133382e-03\n",
      "  1.03018709e-02 -9.88877520e-17  3.25263116e-02 -2.00772939e-16\n",
      "  2.53070433e-02  7.09470575e-02  1.22669943e-01  6.53039237e-16\n",
      "  3.05773300e-16  1.50747467e-01  4.13031652e-01  0.00000000e+00]\n"
     ]
    }
   ],
   "source": [
    "def get_reward_probability_matrix(policy: List[np.ndarray]) -> Tuple[np.ndarray, np.ndarray]:\n",
    "  expected_reward = np.zeros(env.observation_space.n)\n",
    "  probability_matrix = np.zeros((env.observation_space.n, env.observation_space.n))\n",
    "\n",
    "  for state in range(env.observation_space.n):\n",
    "    for action in range(env.action_space.n):\n",
    "      # Probability of playing that action\n",
    "      p_action = policy[state][action]\n",
    "      # Reward and probability vector\n",
    "      expected_reward_s_a, p_vector_s_a = get_reward_probability_vector_state_action(state=state,\n",
    "                                                                                     action=action)\n",
    "      # Reward\n",
    "      expected_reward[state] += p_action*expected_reward_s_a\n",
    "      # Probability matrix\n",
    "      probability_matrix[state, :] += p_action*p_vector_s_a\n",
    "  return expected_reward, probability_matrix\n",
    "\n",
    "def compute_value_policy(policy: List[np.ndarray]) -> np.ndarray:\n",
    "  r, p = get_reward_probability_matrix(policy=policy)\n",
    "  return np.linalg.solve(np.eye(env.observation_space.n) - gamma*p, r)\n",
    "\n",
    "value_random_policy = compute_value_policy(pi_random)\n",
    "print(value_random_policy)"
   ]
  },
  {
   "cell_type": "markdown",
   "metadata": {
    "id": "uYcwXKwlxwAr"
   },
   "source": [
    "We now use 2.:  "
   ]
  },
  {
   "cell_type": "code",
   "execution_count": null,
   "metadata": {
    "colab": {
     "base_uri": "https://localhost:8080/"
    },
    "id": "7f6tUe1fxvIM",
    "outputId": "1c11d52d-08f2-4baf-ae1b-fda08eab5c60"
   },
   "outputs": [
    {
     "name": "stdout",
     "output_type": "stream",
     "text": [
      "The iteration converged at t=40.\n",
      "\n",
      "[0.00776406 0.00686578 0.01428087 0.00645973 0.01029992 0.\n",
      " 0.03252549 0.         0.02530589 0.07094636 0.12266933 0.\n",
      " 0.         0.15074695 0.41303116 0.        ]\n"
     ]
    }
   ],
   "source": [
    "def compute_value_policy_iterative(policy: List[np.ndarray]) ->  np.ndarray:\n",
    "  value_pi = np.zeros(env.observation_space.n)\n",
    "  for t in range(1000):\n",
    "    value_pi_new = np.zeros(env.observation_space.n)\n",
    "    for state in range(env.observation_space.n):\n",
    "      for action in range(env.action_space.n):\n",
    "        expected_reward_action, probability_vector = get_reward_probability_vector_state_action(state=state,\n",
    "                                                                                                action=action)\n",
    "        value_pi_new[state] += policy[state][action]*(expected_reward_action + gamma*np.dot(probability_vector, value_pi))\n",
    "    # Check if to stop\n",
    "    if np.max(np.abs(value_pi - value_pi_new)) <= 1e-6:\n",
    "      print('The iteration converged at t=' + str(t+1) + '.\\n')\n",
    "      break\n",
    "    value_pi = value_pi_new.copy()\n",
    "  return value_pi_new\n",
    "\n",
    "value_iterative_random_policy = compute_value_policy_iterative(pi_random)\n",
    "print(value_iterative_random_policy)"
   ]
  },
  {
   "cell_type": "markdown",
   "metadata": {
    "id": "0SgNGyLtV5kg"
   },
   "source": [
    "Finally, we check the value at the first cell and check that your result numerically (use the simulation done above):"
   ]
  },
  {
   "cell_type": "code",
   "execution_count": null,
   "metadata": {
    "colab": {
     "base_uri": "https://localhost:8080/"
    },
    "id": "KTdoUixcV7ws",
    "outputId": "eca7a70d-1ec1-45c7-a9d9-ce6bdb4b6213"
   },
   "outputs": [
    {
     "name": "stdout",
     "output_type": "stream",
     "text": [
      "0.015904804691404775\n"
     ]
    }
   ],
   "source": [
    "# Print value at the starting cell (note: for other environment it might not be the first cell)\n",
    "print(average_reward_random)"
   ]
  },
  {
   "cell_type": "markdown",
   "metadata": {
    "id": "P92zlJuSYC08"
   },
   "source": [
    "#Policy Iteration"
   ]
  },
  {
   "cell_type": "markdown",
   "metadata": {
    "id": "JmYmor2-ahGG"
   },
   "source": [
    "Write a function that computes the greedy policy. It consists of two ingredients:\n",
    "\n",
    "*   A function compute_bellman_operator that evaluates\n",
    "$$\\max_{u\\in U}R_x^u + \\gamma\\sum_{x'} P_{xx'}^u V(x')$$\n",
    "for a given state $x$. This is also the Q function evaluated at $x$ and $u$.\n",
    "\n",
    "*   A second function compute_greedy_policy that computes\n",
    "$$\\arg\\max_{\\pi}\\sum_{u}\\pi(x,u)\\left(R_x^u + \\gamma\\sum_{x'} P_{xx'}^u V(x')\\right)$$\n",
    "Here, note that the minimum always is a deterministic policy.\n",
    "\n",
    "*Hints:*\n",
    "- You should reuse the functions coded last time (see code above).\n",
    "- You may find the functions `np.max()` and `np.argmax()` useful.\n",
    "- Recall that a policy a list of numpy arrays (see above). Stick to this formalism also for this exercise."
   ]
  },
  {
   "cell_type": "code",
   "execution_count": null,
   "metadata": {
    "id": "h0GCCKhwao2j"
   },
   "outputs": [],
   "source": [
    "def compute_bellman_operator(state: int, value_function: np.ndarray) -> Tuple[float, int]:\n",
    "  candidates = np.zeros(env.action_space.n)\n",
    "  for action in range(env.action_space.n):\n",
    "    expected_reward_action, probability_vector = get_reward_probability_vector_state_action(state=state,\n",
    "                                                                                            action=action)\n",
    "    candidates[action] = expected_reward_action + gamma*np.dot(probability_vector, value_function)\n",
    "  return np.max(candidates), np.argmax(candidates) # since it is a reward, we maximize\n",
    "\n",
    "def compute_greedy_policy(value_function: np.ndarray) -> List[np.ndarray]:\n",
    "  pi_greedy = []\n",
    "  for state in range(env.observation_space.n):\n",
    "    _,  best_action = compute_bellman_operator(state=state,\n",
    "                                               value_function=value_function)\n",
    "    stochastic_policy = np.zeros(env.action_space.n) # here we could also focus on deterministic policies\n",
    "    stochastic_policy[best_action] = 1.0\n",
    "    pi_greedy.append(stochastic_policy)\n",
    "  return pi_greedy"
   ]
  },
  {
   "cell_type": "markdown",
   "metadata": {
    "id": "N1oAmCVYapOb"
   },
   "source": [
    "We can now implement policy iteration. We initialize the algorithm with the random policy and stop at convergence (or when a given number of iterations is reached)."
   ]
  },
  {
   "cell_type": "code",
   "execution_count": null,
   "metadata": {
    "colab": {
     "base_uri": "https://localhost:8080/"
    },
    "id": "6UqXnvysYG_6",
    "outputId": "26c04241-5b81-47b3-9bf7-be9c9188587f"
   },
   "outputs": [
    {
     "name": "stdout",
     "output_type": "stream",
     "text": [
      "Policy iteration converged at t=2.\n",
      "\n",
      "0.18047157839720157\n"
     ]
    }
   ],
   "source": [
    "# Maximum number of iterations\n",
    "max_number_iterations = 100 # will converge in finitely many steps anyway\n",
    "tol = 1e-5\n",
    "\n",
    "# Initialize with random policy\n",
    "pi = pi_random.copy()\n",
    "value = compute_value_policy(policy=pi)\n",
    "\n",
    "for t in range(max_number_iterations):\n",
    "  pi_new = compute_greedy_policy(value_function=value)\n",
    "  value_new = compute_value_policy(policy=pi_new)\n",
    "  # Check if converged (we compare the value since the pi^ast might not be unique)\n",
    "  if np.max(np.abs(value  - value_new)) <= tol:\n",
    "    print('Policy iteration converged at t=' + str(t+1) + '.\\n')\n",
    "    break\n",
    "  # Update policy\n",
    "  pi = pi_new.copy()\n",
    "  value = value_new.copy()\n",
    "\n",
    "# Final result\n",
    "pi_policy_iteration = pi\n",
    "value_policy_iteration = compute_value_policy(policy=pi_policy_iteration)\n",
    "\n",
    "# Print value at the starting cell\n",
    "print(value_policy_iteration[0])"
   ]
  },
  {
   "cell_type": "markdown",
   "metadata": {
    "id": "7F-yGPFG2grl"
   },
   "source": [
    "Simulate policy:"
   ]
  },
  {
   "cell_type": "code",
   "execution_count": null,
   "metadata": {
    "colab": {
     "base_uri": "https://localhost:8080/"
    },
    "id": "OXjzNygC2jjU",
    "outputId": "f4dd48b1-5f26-4c5b-8eaf-16cf9d56131b"
   },
   "outputs": [
    {
     "name": "stderr",
     "output_type": "stream",
     "text": [
      "/usr/local/lib/python3.11/dist-packages/gym/wrappers/monitoring/video_recorder.py:101: DeprecationWarning: \u001b[33mWARN: <class 'gym.wrappers.monitoring.video_recorder.VideoRecorder'> is marked as deprecated and will be removed in the future.\u001b[0m\n",
      "  logger.deprecation(\n"
     ]
    },
    {
     "name": "stdout",
     "output_type": "stream",
     "text": [
      "Average reward: 0.1840808029549534\n"
     ]
    }
   ],
   "source": [
    "average_reward_policy_iteration = simulate_environment(policy=pi_policy_iteration,\n",
    "                                                       sim_video_name=video_name + '_policy_iteration.mp4')\n",
    "print('Average reward: ' + str(average_reward_policy_iteration))"
   ]
  },
  {
   "cell_type": "markdown",
   "metadata": {
    "id": "Fw24ZCN62v1c"
   },
   "source": [
    "Display video:"
   ]
  },
  {
   "cell_type": "code",
   "execution_count": null,
   "metadata": {
    "colab": {
     "base_uri": "https://localhost:8080/",
     "height": 421
    },
    "id": "9m7Qa-LW2xG1",
    "outputId": "e30a8042-e4c4-4c1d-829f-c89a91880203"
   },
   "outputs": [
    {
     "data": {
      "text/html": [
       "<video width=400 controls><source src=\"data:video/mp4;base64,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\" type=\"video/mp4\"></video>"
      ],
      "text/plain": [
       "<IPython.core.display.HTML object>"
      ]
     },
     "execution_count": 22,
     "metadata": {},
     "output_type": "execute_result"
    }
   ],
   "source": [
    "HTML(render_mp4(video_name + '_policy_iteration.mp4'))"
   ]
  },
  {
   "cell_type": "markdown",
   "metadata": {
    "id": "t8livCFxbK-5"
   },
   "source": [
    "#Value Iteration"
   ]
  },
  {
   "cell_type": "markdown",
   "metadata": {
    "id": "KUwThQKMeAeg"
   },
   "source": [
    "We now perform value iteration. We run the algortihm for at most a maximum number of iterations and we stop when the difference between the value functions of consecutive steps (measured via $\\|\\cdot\\|_\\infty$) is smaller than some given tolerance.\n",
    "\n",
    "*Hints:* You should reuse the functions coded last time (see code above)."
   ]
  },
  {
   "cell_type": "code",
   "execution_count": null,
   "metadata": {
    "colab": {
     "base_uri": "https://localhost:8080/"
    },
    "id": "mTyik9glbM7F",
    "outputId": "b40f12f9-9ba6-4846-e022-28c937ce8c48"
   },
   "outputs": [
    {
     "name": "stdout",
     "output_type": "stream",
     "text": [
      "Value iteration converged at t=100.\n",
      "\n",
      "0.18035744556439995\n"
     ]
    }
   ],
   "source": [
    "# Maximum number of iterations\n",
    "max_number_iterations = 1000\n",
    "tol = 1e-5\n",
    "\n",
    "# Initial guess for the value function\n",
    "value = np.zeros(env.observation_space.n)\n",
    "\n",
    "for t in range(max_number_iterations):\n",
    "  value_new = np.zeros(env.observation_space.n)\n",
    "  for state in range(env.observation_space.n):\n",
    "    value_new[state], _ = compute_bellman_operator(state=state,\n",
    "                                                   value_function=value)\n",
    "  # Check if to stop\n",
    "  if np.max(np.abs(value - value_new)) <= tol:\n",
    "    print('Value iteration converged at t=' + str(t+1) + '.\\n')\n",
    "    break\n",
    "  value = value_new.copy()\n",
    "\n",
    "# Final result\n",
    "value_value_iteration = value_new\n",
    "pi_value_iteration = compute_greedy_policy(value_function=value_value_iteration)\n",
    "\n",
    "# Print value at the starting cell\n",
    "print(value_value_iteration[0])"
   ]
  },
  {
   "cell_type": "markdown",
   "metadata": {
    "id": "lAw7gcdZaN7a"
   },
   "source": [
    "Simulate policy"
   ]
  },
  {
   "cell_type": "code",
   "execution_count": null,
   "metadata": {
    "colab": {
     "base_uri": "https://localhost:8080/"
    },
    "id": "xpFgdeunbe3j",
    "outputId": "72459687-a350-40ce-a6d0-c7cfb80b2952"
   },
   "outputs": [
    {
     "name": "stderr",
     "output_type": "stream",
     "text": [
      "/usr/local/lib/python3.10/dist-packages/gym/wrappers/monitoring/video_recorder.py:101: DeprecationWarning: \u001b[33mWARN: <class 'gym.wrappers.monitoring.video_recorder.VideoRecorder'> is marked as deprecated and will be removed in the future.\u001b[0m\n",
      "  logger.deprecation(\n"
     ]
    },
    {
     "name": "stdout",
     "output_type": "stream",
     "text": [
      "Average reward: 0.19477372778548158\n"
     ]
    }
   ],
   "source": [
    "average_reward_value_iteration = simulate_environment(policy=pi_value_iteration,\n",
    "                                                      sim_video_name=video_name + '_value_iteration.mp4')\n",
    "print('Average reward: ' + str(average_reward_value_iteration))"
   ]
  },
  {
   "cell_type": "markdown",
   "metadata": {
    "id": "GWh_CSCc3qJy"
   },
   "source": [
    "Display video"
   ]
  },
  {
   "cell_type": "code",
   "execution_count": null,
   "metadata": {
    "colab": {
     "base_uri": "https://localhost:8080/",
     "height": 475
    },
    "id": "zFyJHqpV3rvN",
    "outputId": "29ea9ebc-2952-47cd-d36a-e84a8f51a7c2"
   },
   "outputs": [
    {
     "name": "stderr",
     "output_type": "stream",
     "text": [
      "/usr/local/lib/python3.10/dist-packages/ipykernel/ipkernel.py:283: DeprecationWarning: `should_run_async` will not call `transform_cell` automatically in the future. Please pass the result to `transformed_cell` argument and any exception that happen during thetransform in `preprocessing_exc_tuple` in IPython 7.17 and above.\n",
      "  and should_run_async(code)\n"
     ]
    },
    {
     "data": {
      "text/html": [
       "<video width=400 controls><source src=\"data:video/mp4;base64,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\" type=\"video/mp4\"></video>"
      ],
      "text/plain": [
       "<IPython.core.display.HTML object>"
      ]
     },
     "execution_count": 25,
     "metadata": {},
     "output_type": "execute_result"
    }
   ],
   "source": [
    "HTML(render_mp4(video_name + '_value_iteration.mp4'))"
   ]
  },
  {
   "cell_type": "markdown",
   "metadata": {
    "id": "K2RR97M40HU9"
   },
   "source": [
    "#Monte-Carlo learning"
   ]
  },
  {
   "cell_type": "markdown",
   "metadata": {
    "id": "LUnPJg-M1h5w"
   },
   "source": [
    "We start with some basic functions. Our first function should output the value function given the Q function and current policy.\n",
    "\n",
    "*Note:* This is simply consistency between value and Q functions."
   ]
  },
  {
   "cell_type": "code",
   "execution_count": null,
   "metadata": {
    "id": "RDbbxX5f1q5N"
   },
   "outputs": [],
   "source": [
    "def value_function_from_Q_function(Q_function: np.ndarray, policy: List[np.ndarray]) -> np.ndarray:\n",
    "  # INSERT YOUR CODE HERE: compute the value function given the policy and the Q_function\n",
    "  return None"
   ]
  },
  {
   "cell_type": "markdown",
   "metadata": {
    "id": "3LNnwWqK00aG"
   },
   "source": [
    "Second, we write a function that computes the greedy policy given the Q function.\n",
    "\n",
    "*Note:* Use the function `compute_greedy_policy` from above as well as the consistency between value function and Q function in `value_function_from_Q_function`."
   ]
  },
  {
   "cell_type": "code",
   "execution_count": null,
   "metadata": {
    "id": "QL4FEZFn1HHm"
   },
   "outputs": [],
   "source": [
    "def compute_greedy_policy_from_Q_function(Q_function: np.ndarray, policy: List[np.ndarray]) -> List[np.ndarray]:\n",
    "  # INSERT YOUR CODE HERE: compute the greedy policy\n",
    "  return None"
   ]
  },
  {
   "cell_type": "markdown",
   "metadata": {
    "id": "uCDRa5Aw0rTB"
   },
   "source": [
    "Third, we now implement a function that sample with some exploration. This  is the equivalent to the $ɛ$-greedy policy."
   ]
  },
  {
   "cell_type": "code",
   "execution_count": null,
   "metadata": {
    "id": "izsWk3q70Kbt"
   },
   "outputs": [],
   "source": [
    "def sample_action_eps_greedy(policy: List[np.ndarray], state: int, eps: float) -> int:\n",
    "  # INSERT YOUR CODE HERE\n",
    "  return None"
   ]
  },
  {
   "cell_type": "markdown",
   "metadata": {
    "id": "FUg7nODf3E1_"
   },
   "source": [
    "Fourth, we estimate Q function from experiments.\n",
    "\n",
    "*Note:* This function will work only if all state-action pairs are visited. In FrozenLake, we will never visit state-action pair of cells corresponding to the water (since as soon as we get there the experiment in terminated), so be careful there."
   ]
  },
  {
   "cell_type": "code",
   "execution_count": null,
   "metadata": {
    "id": "FVj-w81b3HCq"
   },
   "outputs": [],
   "source": [
    "def compute_Q_function_from_experiments(n_experiments: int, policy: List[np.ndarray], eps: float) -> np.ndarray:\n",
    "  sum_future_rewards = np.zeros((env.observation_space.n, env.action_space.n)) # sum of all future rewards across all experiments (will then normalize to get the Q function)\n",
    "  count_visited = np.zeros((env.observation_space.n, env.action_space.n)) # number of times a state-action pair is visited, across all experiments\n",
    "  for _ in range(n_experiments):\n",
    "    # Create vectors to save state, action, and reward (this will reset for a new experiment)\n",
    "    state_vec, action_vec, reward_vec = [], [], []\n",
    "\n",
    "    # Reset\n",
    "    observation = env.reset()\n",
    "\n",
    "    # Simulate an episode and update Q_function\n",
    "    for t in range(max_length_episode):\n",
    "      action = sample_action_eps_greedy(policy=policy,\n",
    "                                        state=observation,\n",
    "                                        eps=eps)\n",
    "      observation_new, reward, done, _ = env.step(action)\n",
    "\n",
    "      # Collect data\n",
    "      state_vec.append(observation)\n",
    "      action_vec.append(action)\n",
    "      reward_vec.append(reward)\n",
    "\n",
    "      # Update\n",
    "      observation = observation_new\n",
    "\n",
    "      if done:\n",
    "        break\n",
    "\n",
    "    # Transform into arrays\n",
    "    state_vec = np.asarray(state_vec)\n",
    "    action_vec = np.asarray(action_vec)\n",
    "    reward_vec = np.asarray(reward_vec)\n",
    "\n",
    "    # Update sum_future_rewards and count_visited\n",
    "    # INSERT YOUR CODE HERE\n",
    "  env.close()\n",
    "\n",
    "  # Get Q_function - we need to be careful with zero elements\n",
    "  # INSERT YOUR CODE HERE\n",
    "\n",
    "  return Q_function"
   ]
  },
  {
   "cell_type": "markdown",
   "metadata": {
    "id": "TewlN_JS6f-Y"
   },
   "source": [
    "With all these ingredients, we can now run some model-free reinforcement learning."
   ]
  },
  {
   "cell_type": "code",
   "execution_count": null,
   "metadata": {
    "id": "LuxZcoN66ixG"
   },
   "outputs": [],
   "source": [
    "# Parameters\n",
    "number_iterations = 10 # number of iterations of model-free RL\n",
    "n_experiments = 10 # number of experiments used to estimate the Q function at each iteration\n",
    "exploration_eps = 0.05 # eps for the greedy strategy\n",
    "\n",
    "# Initialize with random policy\n",
    "pi = pi_random.copy()\n",
    "Q_function = compute_Q_function_from_experiments(n_experiments=n_experiments,\n",
    "                                                 policy=pi,\n",
    "                                                 eps=exploration_eps)\n",
    "\n",
    "for t in range(number_iterations):\n",
    "  # Greedy policy\n",
    "  pi_new = compute_greedy_policy_from_Q_function(Q_function=Q_function,\n",
    "                                                 policy=pi)\n",
    "  # Estimate Q-function, note that we have some exploration here\n",
    "  Q_function_new = compute_Q_function_from_experiments(n_experiments=n_experiments,\n",
    "                                                       policy=pi_new,\n",
    "                                                       eps=exploration_eps)\n",
    "  # Update policy\n",
    "  pi = pi_new.copy()\n",
    "  Q_function = Q_function_new.copy()\n",
    "\n",
    "# Final result\n",
    "pi_rl = pi\n",
    "Q_function_rl = compute_Q_function_from_experiments(n_experiments=n_experiments,\n",
    "                                                    policy=pi_rl,\n",
    "                                                    eps=0.0) # no exploration here\n",
    "value_rl = value_function_from_Q_function(Q_function=Q_function_rl,\n",
    "                                          policy=pi_rl)\n",
    "\n",
    "# Print value at the starting cell\n",
    "print(value_rl[0])"
   ]
  },
  {
   "cell_type": "markdown",
   "metadata": {
    "id": "x5BZZDmACW55"
   },
   "source": [
    "Simulate policy:"
   ]
  },
  {
   "cell_type": "code",
   "execution_count": null,
   "metadata": {
    "id": "IWTp9H1v7zWi"
   },
   "outputs": [],
   "source": [
    "average_reward_rl = simulate_environment(policy=pi_rl,\n",
    "                                         sim_video_name=video_name + '_rl.mp4')\n",
    "print('Average reward: ' + str(average_reward_rl))"
   ]
  },
  {
   "cell_type": "markdown",
   "metadata": {
    "id": "j15K56Al78qt"
   },
   "source": [
    "Display video:"
   ]
  },
  {
   "cell_type": "code",
   "execution_count": null,
   "metadata": {
    "id": "rQxOw86K79i6"
   },
   "outputs": [],
   "source": [
    "HTML(render_mp4(video_name + '_rl.mp4'))"
   ]
  },
  {
   "cell_type": "markdown",
   "metadata": {
    "id": "HPezTfPsCz8d"
   },
   "source": [
    "Check correctness by comparing to policy iteration (which has access to the exact model).\n",
    "\n",
    "Note that the error in the holes is irrelevant.  "
   ]
  },
  {
   "cell_type": "code",
   "execution_count": null,
   "metadata": {
    "id": "Eoasy4GsCzk6"
   },
   "outputs": [],
   "source": [
    "for s in range(env.observation_space.n):\n",
    "  print('Error in the policy at state ' + str(s) + ': ' + str(np.max(np.abs(pi_rl[s] - pi_policy_iteration[s]))))\n",
    "  print('Error in the value  at state ' + str(s) + ': ' + str(np.max(np.abs(value_rl[s] - value_policy_iteration[s]))))"
   ]
  },
  {
   "cell_type": "code",
   "execution_count": null,
   "metadata": {
    "id": "T_pbLAbQGaQj"
   },
   "outputs": [],
   "source": []
  }
 ],
 "metadata": {
  "colab": {
   "provenance": []
  },
  "kernelspec": {
   "display_name": "Python 3 (ipykernel)",
   "language": "python",
   "name": "python3"
  },
  "language_info": {
   "codemirror_mode": {
    "name": "ipython",
    "version": 3
   },
   "file_extension": ".py",
   "mimetype": "text/x-python",
   "name": "python",
   "nbconvert_exporter": "python",
   "pygments_lexer": "ipython3",
   "version": "3.12.10"
  }
 },
 "nbformat": 4,
 "nbformat_minor": 4
}
