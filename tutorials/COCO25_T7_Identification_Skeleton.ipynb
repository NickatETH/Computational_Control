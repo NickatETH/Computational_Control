{
 "cells": [
  {
   "cell_type": "markdown",
   "id": "e78a925e",
   "metadata": {
    "id": "e78a925e"
   },
   "source": [
    "# Computational control - Tutorial 7: Identification\n",
    "\n",
    "In this tutorial, we illustrate how to identify a linear time-invariant system via its impulse response. We use the Kalman-Ho algorithm, a foundational technique in system identification (first presented [here](https://www.degruyter.com/document/doi/10.1524/auto.1966.14.112.545/html)).\n"
   ]
  },
  {
   "cell_type": "markdown",
   "id": "0c4a3c4f",
   "metadata": {
    "id": "0c4a3c4f"
   },
   "source": [
    "### Package imports"
   ]
  },
  {
   "cell_type": "code",
   "execution_count": 28,
   "id": "c215bfbb",
   "metadata": {
    "id": "c215bfbb"
   },
   "outputs": [],
   "source": [
    "import numpy  as np                        # For linear algebra\n",
    "np.set_printoptions(precision=1)           # Set nice printing format"
   ]
  },
  {
   "cell_type": "markdown",
   "id": "62618b39",
   "metadata": {
    "id": "62618b39"
   },
   "source": [
    "### Problem setup\n",
    "\n",
    "Consider a linear time-invariant system described by the equations\n",
    "\n",
    "$$\n",
    "\\begin{align}\n",
    "x_{t+1} &= A x_t + B u_t ,\\\\\n",
    "y_{t}   &= C x_t + D u_t,\n",
    "\\end{align}\n",
    "$$\n",
    "\n",
    "with $x_t \\in \\mathbb{R}^n$, $u_t \\in \\mathbb{R}^m$, $y_t \\in \\mathbb{R}^p$  and constant matrices $A \\in \\mathbb{R}^{n\\times n}$, $B \\in \\mathbb{R}^{n\\times m}$, $C \\in \\mathbb{R}^{p\\times n}$, and $D \\in \\mathbb{R}^{p\\times m}$.\n",
    "\n",
    "\n",
    "For illustration, we focus on the specific linear system defined by the matrices\n",
    "\n",
    "$$\n",
    "\\begin{align}\n",
    "A =\n",
    "\\begin{bmatrix}\n",
    "1 & 0 \\\\\n",
    "0 & 2\n",
    "\\end{bmatrix}, \\quad\n",
    "B =  I , \\quad\n",
    "C =  I, \\quad\n",
    "D = 0 .\n",
    "\\end{align}\n",
    "$$\n"
   ]
  },
  {
   "cell_type": "code",
   "execution_count": 29,
   "id": "f7691927",
   "metadata": {
    "id": "f7691927"
   },
   "outputs": [],
   "source": [
    "# System parameters\n",
    "A = np.array([[1.0, 0.0],                  # A - State-space matrix\n",
    "              [0.0, 2.0]])                 #\n",
    "B = np.eye(2)                              # B - State-space matrix\n",
    "C = np.eye(2)                              # C - State-space matrix\n",
    "D = np.zeros([2,2])                        # D - State-space matrix\n",
    "\n",
    "# Integer invariants\n",
    "n = A.shape[0]                             # n = number of states\n",
    "m = B.shape[1]                             # m = number of inputs\n",
    "p = C.shape[0]                             # p = number of output"
   ]
  },
  {
   "cell_type": "markdown",
   "id": "9c74ce33",
   "metadata": {
    "id": "9c74ce33"
   },
   "source": [
    "### Data collection\n",
    "\n",
    "The Kalman-Ho algorithm requires the sequence of Markov parameters to determine the system matrices $A,B,C,D$ from the impulse response of the system.\n",
    "\n",
    "The _Markov parameters_ are defined as\n",
    "\n",
    "$$\n",
    " G_t =\n",
    "\\left \\{\n",
    "\\begin{array}[rcl]\n",
    "\\, D, &\\text{ for } t=0,\\\\\n",
    "CA^{t-1}B , &\\text{ for } t=1, 2, \\ldots, T .\n",
    "\\end{array}\n",
    "\\right.\n",
    "$$\n",
    "\n",
    "The sequence can be obtained directly from the response of the system to a (matrix) _unit impulse_ of length $T+1$, defined as\n",
    "\n",
    "$$\n",
    "u_t =\n",
    "\\left \\{\n",
    "\\begin{array}[rcl]\n",
    "\\, I &\\text{ for } t=0\\\\\n",
    "\\mathbb{0} &\\text{ for } t=1, 2, \\ldots, T\n",
    "\\end{array}\n",
    "\\right.\n",
    "$$\n",
    "\n",
    "starting from zero initial conditions. In the following script, we select $T=8.$\n",
    "\n",
    "\n",
    "Next, you are asked to perform the following:\n",
    "\n",
    "1. **Record the impulse response**: Apply a (matrix) unit impulse sequence $u_t$ of length $T+1$ defined as above to the system and collect the output $y_t$ into a list called 'impulse_response'.\n",
    "\n",
    "2. **Determine the feedthrough term**: Set $D_{\\text{estimate}} = y_0$ to determine the feedthrough term.\n",
    "\n",
    "3. **Define a list of Markov parameters**: Collect the output responses\n",
    " $ y_1, y_2, y_3, \\ldots, y_{T-1} $ (excluding the first and last elements) into a list of Markov parameters called 'markov_parameters'.\n",
    "\n",
    "4. **Construct a list of shifted Markov parameters**: Collect the output responses  $y_2, y_3, y_4, \\ldots, y_{T}$ (by shifting by one time step forward) and define a list called 'markov_parameters_shifted'.\n",
    "\n",
    "You may find useful the following methods:\n",
    "\n",
    " - `.append(x) ` (to add x to a list)\n",
    " - `.pop(0)` (to obtain and simultaneously remove the first element of a list)\n",
    "\n",
    "\n"
   ]
  },
  {
   "cell_type": "code",
   "execution_count": 30,
   "id": "cab53974",
   "metadata": {
    "colab": {
     "base_uri": "https://localhost:8080/"
    },
    "id": "cab53974",
    "outputId": "817e32b0-74ee-47ed-c24e-9a654fcef542"
   },
   "outputs": [
    {
     "name": "stdout",
     "output_type": "stream",
     "text": [
      "\n",
      " Markov parameters:\n",
      "\n",
      "[[1. 0.]\n",
      " [0. 1.]]\n",
      "[[1. 0.]\n",
      " [0. 2.]]\n",
      "[[1. 0.]\n",
      " [0. 4.]]\n",
      "[[1. 0.]\n",
      " [0. 8.]]\n",
      "[[ 1.  0.]\n",
      " [ 0. 16.]]\n",
      "[[ 1.  0.]\n",
      " [ 0. 32.]]\n",
      "[[ 1.  0.]\n",
      " [ 0. 64.]]\n",
      "\n",
      " Markov parameters (shifted):\n",
      "\n",
      "[[1. 0.]\n",
      " [0. 2.]]\n",
      "[[1. 0.]\n",
      " [0. 4.]]\n",
      "[[1. 0.]\n",
      " [0. 8.]]\n",
      "[[ 1.  0.]\n",
      " [ 0. 16.]]\n",
      "[[ 1.  0.]\n",
      " [ 0. 32.]]\n",
      "[[ 1.  0.]\n",
      " [ 0. 64.]]\n",
      "[[  1.   0.]\n",
      " [  0. 128.]]\n"
     ]
    }
   ],
   "source": [
    "# Data collection parameters\n",
    "T = 8                                            # Length of unit impulse\n",
    "impulse = [np.eye(m)]+[np.zeros((m,m))]*T        # Unit impulse (of length T+1)\n",
    "x = np.zeros((n,n))                              # Initial condition (zero)\n",
    "\n",
    "# Data collection\n",
    "markov_parameters = []                           # Impulse response\n",
    "impulse_response = []                            # Markov parameters\n",
    "markov_parameters_shifted = []                   # Shifted Markov parameters\n",
    "\n",
    "\n",
    "##################################################\n",
    "#       Please implement the following           #\n",
    "##################################################\n",
    "# 1. Collect data from system using \"impulse\"    #\n",
    "# 2. Estimate the feedthrough term (D matrix)    #\n",
    "# 3. Define a list of Markov parameters          #\n",
    "# 4. Define a list of shifted Markov parameters  #\n",
    "##################################################\n",
    "\n",
    "for t in range(T+1):\n",
    "    u = impulse[t]\n",
    "    y = C @ x + D @ u\n",
    "    x = A @ x + B @ u\n",
    "    impulse_response.append(y)\n",
    "\n",
    "D_estimate = impulse_response[0]\n",
    "impulse_response.pop(0)\n",
    "\n",
    "markov_parameters = impulse_response[:-1]\n",
    "markov_parameters_shifted = impulse_response[1:]\n",
    "\n",
    "\n",
    "\n",
    "# Print results\n",
    "print(\"\\n Markov parameters:\\n\")                 # Print Markov parameters ...\n",
    "print(*markov_parameters, sep='\\n')              #\n",
    "print(\"\\n Markov parameters (shifted):\\n\")       # ... and their shifts\n",
    "print(*markov_parameters_shifted, sep='\\n')      #"
   ]
  },
  {
   "cell_type": "markdown",
   "id": "bXhbITC7KZQk",
   "metadata": {
    "id": "bXhbITC7KZQk"
   },
   "source": [
    "### Hankel matrices\n",
    "\n",
    "The Kalman-Ho algorithm uses the sequence of Markov parameters to construct a Hankel matrix and a shifted Hankel matrix. These matrices, in turn, are then used to determine the system matrices.\n",
    "\n",
    "The _Hankel matrix_ is defined as\n",
    "\n",
    "$$\n",
    "{H}_{k,\\ell}\n",
    "=\n",
    "\\begin{bmatrix}\n",
    "G_{1}   & G_{2} & \\cdots & G_{\\ell} \\\\\n",
    "G_{2}   & G_{3} & \\cdots & G_{\\ell+1} \\\\\n",
    "\\vdots  & \\vdots  & \\ddots & \\vdots    \\\\\n",
    "G_{k}   & G_{k+1} & \\cdots & G_{k+\\ell-1}\n",
    "\\end{bmatrix}\n",
    "$$\n",
    "\n",
    "and the _shifted Hankel matrix_ is defined as\n",
    "\n",
    "$$\n",
    "{H}_{k,\\ell}^{\\uparrow}\n",
    "=\n",
    "\\begin{bmatrix}\n",
    "G_{2}   & G_{3} & \\cdots & G_{\\ell+1} \\\\\n",
    "G_{3}   & G_{4} & \\cdots & G_{\\ell+2} \\\\\n",
    "\\vdots  & \\vdots  & \\ddots & \\vdots    \\\\\n",
    "G_{k+1}   & G_{k+2} & \\cdots & G_{k+\\ell}\n",
    "\\end{bmatrix}\n",
    "$$\n",
    "\n",
    "where $k$ and $\\ell$ are positive integers such that $k+\\ell\\le T.$ In this script, we select $k=3$ and $\\ell=5$.\n",
    "\n",
    "Next, you are asked to perform the following:\n",
    "\n",
    "1. **Construct Hankel matrix**: Arrange the Markov parameters collected in the list 'markov_parameters' into a Hankel matrix named 'Hankel'.\n",
    "\n",
    "2. **Construct the shifted Hankel matrix**: Similarly, arrange the Markov parameters collected in the list 'markov_parameters_shifted' into a Hankel matrix named 'Hankel_shifted'."
   ]
  },
  {
   "cell_type": "code",
   "execution_count": 35,
   "id": "ueBSZOqHKfxg",
   "metadata": {
    "colab": {
     "base_uri": "https://localhost:8080/"
    },
    "id": "ueBSZOqHKfxg",
    "outputId": "bf3db440-550d-452d-d0f3-7f1a5c38d64d"
   },
   "outputs": [
    {
     "name": "stdout",
     "output_type": "stream",
     "text": [
      "Hankel = \n",
      " [[ 1.  0.  1.  0.  1.  0.  1.  0.  1.  0.]\n",
      " [ 0.  1.  0.  2.  0.  4.  0.  8.  0. 16.]\n",
      " [ 1.  0.  1.  0.  1.  0.  1.  0.  1.  0.]\n",
      " [ 0.  2.  0.  4.  0.  8.  0. 16.  0. 32.]\n",
      " [ 1.  0.  1.  0.  1.  0.  1.  0.  1.  0.]\n",
      " [ 0.  4.  0.  8.  0. 16.  0. 32.  0. 64.]]\n",
      "Hankel_shifted = \n",
      " [[  1.   0.   1.   0.   1.   0.   1.   0.   1.   0.]\n",
      " [  0.   2.   0.   4.   0.   8.   0.  16.   0.  32.]\n",
      " [  1.   0.   1.   0.   1.   0.   1.   0.   1.   0.]\n",
      " [  0.   4.   0.   8.   0.  16.   0.  32.   0.  64.]\n",
      " [  1.   0.   1.   0.   1.   0.   1.   0.   1.   0.]\n",
      " [  0.   8.   0.  16.   0.  32.   0.  64.   0. 128.]]\n"
     ]
    }
   ],
   "source": [
    "# Hankel matrices - parameters\n",
    "k = 3                                            # Number of block rows\n",
    "l = 5                                            # Number of block columns\n",
    "\n",
    "if (k+l<T+1):\n",
    "  Hankel = np.empty((p*k,m*l))                   # Hankel matrix\n",
    "  Hankel_shifted = np.empty((p*k,m*l))           # Shifted Hankel matrix\n",
    "else:\n",
    "    raise Exception('Need more data')            # Need more data\n",
    "\n",
    "##################################################\n",
    "#       Please implement the following           #\n",
    "##################################################\n",
    "# 1. Construct the Hankel matrix                 #\n",
    "# 2. Construct the shifted Hankel matrix         #\n",
    "##################################################\n",
    "\n",
    "for i in range(k):\n",
    "  for j in range(l):\n",
    "    Hankel[i*p:(i+1)*p,j*m:(j+1)*m] = \\\n",
    "            markov_parameters[i+j]               # Define Hankel matrix\n",
    "\n",
    "for i in range(k):\n",
    "  for j in range(l):\n",
    "    Hankel_shifted[i*p:(i+1)*p,j*m:(j+1)*m] = \\\n",
    "              markov_parameters_shifted[i+j]     # Define shifted Hankel matrix\n",
    " \n",
    "\n",
    "\n",
    "\n",
    "    \n",
    "\n",
    "\n",
    "# Print results\n",
    "print(\"Hankel = \\n\",Hankel)                      # Print Hankel matrix\n",
    "print(\"Hankel_shifted = \\n\",Hankel_shifted)      # Print shifted Hankel matrix"
   ]
  },
  {
   "cell_type": "markdown",
   "id": "dE3t1NEO2HBC",
   "metadata": {
    "id": "dE3t1NEO2HBC"
   },
   "source": [
    "### State space dimension\n",
    "\n",
    "The Kalman-Ho algorithm requires an estimate of the dimension of the system ($n$). The state space dimension can be retrieved directly by computing the rank of the Hankel matrix."
   ]
  },
  {
   "cell_type": "code",
   "execution_count": 36,
   "id": "pMBPBePe2EqI",
   "metadata": {
    "colab": {
     "base_uri": "https://localhost:8080/"
    },
    "id": "pMBPBePe2EqI",
    "outputId": "d96c573b-9fd0-4171-cdb5-1826897d9970"
   },
   "outputs": [
    {
     "name": "stdout",
     "output_type": "stream",
     "text": [
      "rank(Hankel) =  2 \n",
      "\n"
     ]
    }
   ],
   "source": [
    "# Estimate state space dimension\n",
    "N = np.linalg.matrix_rank(Hankel)\n",
    "print(\"rank(Hankel) = \",N,\"\\n\")"
   ]
  },
  {
   "cell_type": "markdown",
   "id": "ega2rSGrLudu",
   "metadata": {
    "id": "ega2rSGrLudu"
   },
   "source": [
    "### Kalman-Ho algorithm\n",
    "\n",
    "We now have all the main ingredients to implement the Kalman-Ho algorithm.\n",
    "\n",
    "Recall that the algorithm involves the following steps:\n",
    "\n",
    "1. Computing a **thin** Singular Value Decomposition (SVD) of the Hankel matrix\n",
    " $${H}_{k,\\ell} = U_1 \\Sigma_1 V_1^{\\mathsf{T}}.$$\n",
    "2. Computing the observability matrix as\n",
    " $$\\mathbf{O}_k = U_1 \\Sigma_1^{1/2} $$\n",
    " and the controllability matrix as\n",
    " $$\\mathbf{C}_\\ell = \\Sigma_1^{1/2} V_1^{\\mathsf{T}}.$$\n",
    "3. Computing the system matrices as\n",
    "$$\n",
    "\\begin{align}\n",
    "A &= \\mathbf{O}_k^{\\dagger}{H}_{k,\\ell}^{\\uparrow}\\mathbf{C}_\\ell^{\\dagger} \\\\\n",
    "B &= \\text{first } m \\text{ columns of } \\mathbf{C}_\\ell \\\\\n",
    "C &= \\text{first } p \\text{ rows of } \\mathbf{O}_k \\\\\n",
    "D &= G_0 \\\\\n",
    "\\end{align}\n",
    "$$\n",
    "where $M^{\\dagger}$ is the Moore-Penrose inverse of the matrix $M$.\n",
    "\n",
    "\n",
    "Next, you are asked to implement the Kalman-Ho algorithm. You may find useful the following functions/methods:\n",
    "\n",
    " - `np.linalg.svd` (to compute SVD roots)\n",
    " - `np.sqrt` (to compute square roots)\n",
    " - `np.linalg.pinv` (to compute the Moore-Penrose inverse)\n",
    " - `.round(decimals=12)` (to round \"small\" numbers)\n",
    "\n",
    "\n",
    "\n",
    "\n"
   ]
  },
  {
   "cell_type": "code",
   "execution_count": 41,
   "id": "LHCy0s3WL_hK",
   "metadata": {
    "colab": {
     "base_uri": "https://localhost:8080/"
    },
    "id": "LHCy0s3WL_hK",
    "outputId": "c865c0e3-6e7e-408d-9dcf-6328dd60ce34"
   },
   "outputs": [
    {
     "name": "stdout",
     "output_type": "stream",
     "text": [
      "\n",
      " A_estimate:\n",
      "\n",
      "[2. 0.]\n",
      "[0. 1.]\n",
      "\n",
      " B_estimate:\n",
      "\n",
      "[2.9e-17 5.0e-01]\n",
      "[0.9 0. ]\n",
      "\n",
      " C_estimate:\n",
      "\n",
      "[0.  1.1]\n",
      "[2. 0.]\n",
      "\n",
      " D_estimate:\n",
      "\n",
      "[0. 0.]\n",
      "[0. 0.]\n"
     ]
    }
   ],
   "source": [
    "## Kalman-Ho algorithm\n",
    "from scipy.linalg import sqrtm\n",
    "\n",
    "##################################################\n",
    "#       Please implement the following           #\n",
    "##################################################\n",
    "# 1. Compute thin SVD of the Hankel matrix       #\n",
    "# 2. Define observability/controllability matrix #\n",
    "# 3. Compute A,B,C,D matrices                    #\n",
    "##################################################\n",
    "\n",
    "U, S, V = np.linalg.svd(Hankel, full_matrices=False)\n",
    "S = S[0:N]\n",
    "Lambda_half = np.diag(np.sqrt(S))\n",
    "U = U[:,0:N]\n",
    "V = V[0:n,:]\n",
    "\n",
    "O = U @ Lambda_half\n",
    "\n",
    "C = Lambda_half @ V\n",
    "\n",
    "C_estimate = O[:2, :2]\n",
    "\n",
    "B_estimate = C[:2, :2]\n",
    "\n",
    "A_estimate = (np.linalg.pinv(O) @ Hankel_shifted @ np.linalg.pinv(C)).round(decimals=12)\n",
    "\n",
    "\n",
    "# Print results\n",
    "print(\"\\n A_estimate:\\n\")                 # Print system matrices\n",
    "print(*A_estimate, sep='\\n')              #\n",
    "print(\"\\n B_estimate:\\n\")                 #\n",
    "print(*B_estimate, sep='\\n')              #\n",
    "print(\"\\n C_estimate:\\n\")                 #\n",
    "print(*C_estimate, sep='\\n')              #\n",
    "print(\"\\n D_estimate:\\n\")                 #\n",
    "print(*D_estimate, sep='\\n')              #"
   ]
  },
  {
   "cell_type": "markdown",
   "id": "ll65PLBzuE5J",
   "metadata": {
    "id": "ll65PLBzuE5J"
   },
   "source": [
    "### Question\n",
    "Are the system matrices identical to those used for data generation? Does it matter?"
   ]
  },
  {
   "cell_type": "markdown",
   "id": "47c5f40c-c59e-4382-88bf-8381449792c7",
   "metadata": {},
   "source": [
    "They are not the same, but transformed by a simmilarity transformation. \n",
    "However, it does not matter, as it has the samit input/output behaviour"
   ]
  },
  {
   "cell_type": "code",
   "execution_count": null,
   "id": "aa97ac72-e076-444a-9387-66a19c4f21f6",
   "metadata": {},
   "outputs": [],
   "source": []
  }
 ],
 "metadata": {
  "colab": {
   "provenance": []
  },
  "kernelspec": {
   "display_name": "Python 3 (ipykernel)",
   "language": "python",
   "name": "python3"
  },
  "language_info": {
   "codemirror_mode": {
    "name": "ipython",
    "version": 3
   },
   "file_extension": ".py",
   "mimetype": "text/x-python",
   "name": "python",
   "nbconvert_exporter": "python",
   "pygments_lexer": "ipython3",
   "version": "3.12.10"
  }
 },
 "nbformat": 4,
 "nbformat_minor": 5
}
