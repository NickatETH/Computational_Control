{
 "cells": [
  {
   "cell_type": "markdown",
   "metadata": {
    "id": "HuJwpRzvQfzu"
   },
   "source": [
    "## Environment Settings (do not change)"
   ]
  },
  {
   "cell_type": "markdown",
   "metadata": {
    "id": "PWG9sOzMIBGM"
   },
   "source": [
    "Please do **not** change this part."
   ]
  },
  {
   "cell_type": "code",
   "execution_count": null,
   "metadata": {},
   "outputs": [],
   "source": [
    "!pip install gymnasium\n",
    "!pip install gymnasium[other]\n",
    "!pip install gymnasium[toy-text]"
   ]
  },
  {
   "cell_type": "code",
   "execution_count": 4,
   "metadata": {
    "colab": {
     "base_uri": "https://localhost:8080/"
    },
    "id": "vOSpQvM3sXIP",
    "outputId": "1c302dd3-fb83-4660-eec7-04c0ed0eec21"
   },
   "outputs": [],
   "source": [
    "import numpy as np\n",
    "from typing import List, Tuple\n",
    "import gymnasium as gym\n",
    "\n",
    "from gymnasium.wrappers import RecordVideo\n",
    "from base64 import b64encode\n",
    "from IPython.display import HTML\n",
    "\n",
    "def render_mp4(videopath: str) -> str:\n",
    "  \"\"\"\n",
    "  Gets a string containing a b4-encoded version of the MP4 video\n",
    "  at the specified path.\n",
    "  \"\"\"\n",
    "  mp4 = open(videopath, 'rb').read()\n",
    "  base64_encoded_mp4 = b64encode(mp4).decode()\n",
    "  return f'<video width=400 controls><source src=\"data:video/mp4;' \\\n",
    "         f'base64,{base64_encoded_mp4}\" type=\"video/mp4\"></video>'"
   ]
  },
  {
   "cell_type": "markdown",
   "metadata": {
    "id": "afa7Ngm0QuSU"
   },
   "source": [
    "## Basics"
   ]
  },
  {
   "cell_type": "markdown",
   "metadata": {
    "id": "xt0rrPLuQ8kL"
   },
   "source": [
    "Setup environment:"
   ]
  },
  {
   "cell_type": "code",
   "execution_count": 5,
   "metadata": {
    "colab": {
     "base_uri": "https://localhost:8080/"
    },
    "id": "-8A5Vd-hQ0KH",
    "outputId": "25ea74a6-ede3-4226-a623-ffeebdf84237"
   },
   "outputs": [],
   "source": [
    "# Discount factor (in [0,1))\n",
    "gamma = 0.95\n",
    "\n",
    "# Simulation\n",
    "n_episodes = 200\n",
    "max_length_episode = 100\n",
    "\n",
    "# Decide whether to generate a video or not\n",
    "generate_video = True # leave it to True (or delete the rendering)\n",
    "video_dir = 'vid'\n",
    "video_name = 'FrozenLake'\n",
    "n_episodes_video = 2 # episode which end up in the video\n",
    "\n",
    "# Environment\n",
    "env = gym.make('FrozenLake-v1', map_name=\"4x4\", is_slippery=True, render_mode='rgb_array')\n",
    "\n",
    "# The tutorial will be on FrozenLake, but feel free to play with other enviroments too\n",
    "#env = gym.make('Taxi-v3', render_mode='rgb_array')\n",
    "#env = gym.make('CliffWalking-v0', render_mode='rgb_array')"
   ]
  },
  {
   "cell_type": "markdown",
   "metadata": {
    "id": "47a_QewIWRcz"
   },
   "source": [
    "States and actions (for the environment FrozenLake, 4x4):\n",
    "\n",
    "*   The state is the position on the 4x4 grid (i.e., between 0 and 15);\n",
    "*   The action is left (0), down (1), right (2), up (3).\n",
    "\n",
    "\n"
   ]
  },
  {
   "cell_type": "code",
   "execution_count": 6,
   "metadata": {
    "colab": {
     "base_uri": "https://localhost:8080/"
    },
    "id": "ZSnoAYuaVMCX",
    "outputId": "ff59e08f-e0c2-43c6-856d-d8a31632f220"
   },
   "outputs": [
    {
     "data": {
      "text/plain": [
       "Discrete(4)"
      ]
     },
     "execution_count": 6,
     "metadata": {},
     "output_type": "execute_result"
    }
   ],
   "source": [
    "env.action_space"
   ]
  },
  {
   "cell_type": "code",
   "execution_count": 7,
   "metadata": {
    "colab": {
     "base_uri": "https://localhost:8080/"
    },
    "id": "kd21IRa8AiKo",
    "outputId": "d5e6498a-1bb3-4072-9bc6-26d96ef6e3ac"
   },
   "outputs": [
    {
     "data": {
      "text/plain": [
       "np.int64(4)"
      ]
     },
     "execution_count": 7,
     "metadata": {},
     "output_type": "execute_result"
    }
   ],
   "source": [
    "env.action_space.n"
   ]
  },
  {
   "cell_type": "code",
   "execution_count": 8,
   "metadata": {
    "colab": {
     "base_uri": "https://localhost:8080/"
    },
    "id": "2bThY6qpWU0l",
    "outputId": "58de1c94-c0f1-4e9b-92b5-0564a6fc5c6b"
   },
   "outputs": [
    {
     "data": {
      "text/plain": [
       "Discrete(16)"
      ]
     },
     "execution_count": 8,
     "metadata": {},
     "output_type": "execute_result"
    }
   ],
   "source": [
    "env.observation_space"
   ]
  },
  {
   "cell_type": "code",
   "execution_count": 9,
   "metadata": {
    "colab": {
     "base_uri": "https://localhost:8080/"
    },
    "id": "-NXt_7P6Akjh",
    "outputId": "6307c43c-2e34-4455-e397-cc98bf08f1b4"
   },
   "outputs": [
    {
     "data": {
      "text/plain": [
       "np.int64(16)"
      ]
     },
     "execution_count": 9,
     "metadata": {},
     "output_type": "execute_result"
    }
   ],
   "source": [
    "env.observation_space.n"
   ]
  },
  {
   "cell_type": "markdown",
   "metadata": {
    "id": "9jQlin-jWxkn"
   },
   "source": [
    "Probability matrix, for instance here the probabilities when at state 0 and action 1 is played."
   ]
  },
  {
   "cell_type": "code",
   "execution_count": 10,
   "metadata": {
    "colab": {
     "base_uri": "https://localhost:8080/"
    },
    "id": "6JPMAEYYW4H4",
    "outputId": "3f2e0d49-b703-4727-9fac-24edfedea612"
   },
   "outputs": [
    {
     "data": {
      "text/plain": [
       "[(0.3333333333333333, 2, 0.0, False),\n",
       " (0.3333333333333333, 7, 0.0, True),\n",
       " (0.3333333333333333, 3, 0.0, False)]"
      ]
     },
     "execution_count": 10,
     "metadata": {},
     "output_type": "execute_result"
    }
   ],
   "source": [
    "env.unwrapped.P[3][1] # p_state, state, reward of that transition, done (ignore the last output)"
   ]
  },
  {
   "cell_type": "markdown",
   "metadata": {
    "id": "knkzoEQlXglM"
   },
   "source": [
    "## Our First Policy: A Random Policy"
   ]
  },
  {
   "cell_type": "markdown",
   "metadata": {
    "id": "xVlS_2se6JZ7"
   },
   "source": [
    "We start with the semantics: For us, a policy is Python list of length $n_\\mathrm{states}$ and each entry of this list is a vector of size $n_\\mathrm{actions}$. To sample an action at a given state, which will be helpful later, the following function can be used.\n",
    "\n",
    "*Note*: this is not the most efficient way, just for illustration purposes."
   ]
  },
  {
   "cell_type": "code",
   "execution_count": 11,
   "metadata": {
    "id": "1dobfoV83SiY"
   },
   "outputs": [],
   "source": [
    "def sample_action(policy: List[np.ndarray], state: int) -> int:\n",
    "  if isinstance(state, tuple):\n",
    "    state = state[0]\n",
    "  return np.random.choice(np.arange(start=0, stop=env.action_space.n), size=1, p=policy[state])[0]"
   ]
  },
  {
   "cell_type": "markdown",
   "metadata": {
    "id": "xcoxF1pd3Vr6"
   },
   "source": [
    "We start with a simply random policy. We will later experiment other policies.\n",
    "\n",
    "For us, a policy is list of arrays. In particular:\n",
    "- `pi` is list whose dimension is the number of states;\n",
    "- `pi[s]` is numpy array whose dimension is the number of actions which represents a probability distribution over the action space;\n",
    "- `pi[s][a]` is the probability of playing action `a` when at state `s`.\n",
    "\n",
    "\n"
   ]
  },
  {
   "cell_type": "code",
   "execution_count": 12,
   "metadata": {
    "id": "WYhwJPIuXiDZ"
   },
   "outputs": [],
   "source": [
    "pi_random = []\n",
    "for x in range(env.observation_space.n):\n",
    "  probability_actions = np.ones(env.action_space.n)/env.action_space.n\n",
    "  pi_random.append(probability_actions)"
   ]
  },
  {
   "cell_type": "markdown",
   "metadata": {
    "id": "jDt2FnLW6Foe"
   },
   "source": [
    "Check your result by inspecting the probability distribution at the first state.  "
   ]
  },
  {
   "cell_type": "code",
   "execution_count": 13,
   "metadata": {
    "colab": {
     "base_uri": "https://localhost:8080/"
    },
    "id": "cyfcLELQYEQy",
    "outputId": "6d9bb464-ae55-4ed5-84b8-9da3d732e236"
   },
   "outputs": [
    {
     "data": {
      "text/plain": [
       "array([0.25, 0.25, 0.25, 0.25])"
      ]
     },
     "execution_count": 13,
     "metadata": {},
     "output_type": "execute_result"
    }
   ],
   "source": [
    "pi_random[0]"
   ]
  },
  {
   "cell_type": "markdown",
   "metadata": {
    "id": "ZVWJdIb633j1"
   },
   "source": [
    "Finally, we test our sampling method."
   ]
  },
  {
   "cell_type": "code",
   "execution_count": 14,
   "metadata": {
    "colab": {
     "base_uri": "https://localhost:8080/"
    },
    "id": "cR2vV6zaaOS4",
    "outputId": "e211609d-2ee4-42ee-e5f5-e136b7eb1bb3"
   },
   "outputs": [
    {
     "data": {
      "text/plain": [
       "np.int64(1)"
      ]
     },
     "execution_count": 14,
     "metadata": {},
     "output_type": "execute_result"
    }
   ],
   "source": [
    "sample_action(policy=pi_random,\n",
    "              state=1)"
   ]
  },
  {
   "cell_type": "markdown",
   "metadata": {
    "id": "FjmaUKnVYd4k"
   },
   "source": [
    "## Simulation environment\n",
    "We now write a function that simulates a policy."
   ]
  },
  {
   "cell_type": "code",
   "execution_count": 15,
   "metadata": {
    "id": "LnhYAw3PYypo"
   },
   "outputs": [],
   "source": [
    "def simulate_environment(env, policy:List[np.ndarray], sim_video_name: str) -> float:\n",
    "  # Setup video\n",
    "  if generate_video:\n",
    "    env = RecordVideo(env, video_dir, name_prefix=sim_video_name, episode_trigger=lambda e: e < n_episodes_video)\n",
    "\n",
    "  total_reward = 0.0\n",
    "\n",
    "  for e in range(n_episodes):\n",
    "    reward_episode = 0.0\n",
    "\n",
    "    # Reset\n",
    "    observation = env.reset()\n",
    "\n",
    "    # Simulate an episode\n",
    "    for t in range(max_length_episode):\n",
    "      action = sample_action(policy=policy,\n",
    "                             state=observation)\n",
    "      observation, reward, terminated, _, _ = env.step(action)\n",
    "\n",
    "      # Compute reward\n",
    "      reward_episode += gamma**t * reward\n",
    "\n",
    "      if terminated:\n",
    "        break\n",
    "\n",
    "    # Increase reward\n",
    "    total_reward += reward_episode\n",
    "\n",
    "  env.close()\n",
    "\n",
    "  return total_reward/n_episodes"
   ]
  },
  {
   "cell_type": "markdown",
   "metadata": {
    "id": "u0wXXmMlcaRo"
   },
   "source": [
    "We can now simulate our random policy. The simulations parameters are listed at the top of the file."
   ]
  },
  {
   "cell_type": "code",
   "execution_count": 16,
   "metadata": {
    "colab": {
     "base_uri": "https://localhost:8080/"
    },
    "id": "wgFL5xsbb9C1",
    "outputId": "aa594ee7-5674-4438-a4e0-53ae3ef0df45"
   },
   "outputs": [
    {
     "name": "stderr",
     "output_type": "stream",
     "text": [
      "/opt/conda/lib/python3.12/site-packages/gymnasium/wrappers/rendering.py:296: UserWarning: \u001b[33mWARN: Overwriting existing videos at /home/jovyan/coco2025_jupytercontent.git/tutorials/vid folder (try specifying a different `video_folder` for the `RecordVideo` wrapper if this is not desired)\u001b[0m\n",
      "  logger.warn(\n",
      "error: XDG_RUNTIME_DIR is invalid or not set in the environment.\n",
      "ALSA lib confmisc.c:855:(parse_card) cannot find card '0'\n",
      "ALSA lib conf.c:5204:(_snd_config_evaluate) function snd_func_card_inum returned error: No such file or directory\n",
      "ALSA lib confmisc.c:422:(snd_func_concat) error evaluating strings\n",
      "ALSA lib conf.c:5204:(_snd_config_evaluate) function snd_func_concat returned error: No such file or directory\n",
      "ALSA lib confmisc.c:1342:(snd_func_refer) error evaluating name\n",
      "ALSA lib conf.c:5204:(_snd_config_evaluate) function snd_func_refer returned error: No such file or directory\n",
      "ALSA lib conf.c:5727:(snd_config_expand) Evaluate error: No such file or directory\n",
      "ALSA lib pcm.c:2721:(snd_pcm_open_noupdate) Unknown PCM default\n"
     ]
    },
    {
     "name": "stdout",
     "output_type": "stream",
     "text": [
      "Average reward: 0.0024383748955776477\n"
     ]
    }
   ],
   "source": [
    "average_reward_random = simulate_environment(\n",
    "    env,\n",
    "    policy=pi_random,\n",
    "    sim_video_name=video_name + '_random_policy')\n",
    "print('Average reward: ' + str(average_reward_random))"
   ]
  },
  {
   "cell_type": "markdown",
   "metadata": {
    "id": "P-lGrtX3PfxT"
   },
   "source": [
    "Display video:"
   ]
  },
  {
   "cell_type": "code",
   "execution_count": 17,
   "metadata": {
    "colab": {
     "base_uri": "https://localhost:8080/",
     "height": 475
    },
    "id": "j4lWsRI_RWZ2",
    "outputId": "e5cd8984-57be-471e-9369-9cf9a7674360"
   },
   "outputs": [
    {
     "data": {
      "text/html": [
       "<video width=400 controls><source src=\"data:video/mp4;base64,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\" type=\"video/mp4\"></video>"
      ],
      "text/plain": [
       "<IPython.core.display.HTML object>"
      ]
     },
     "metadata": {},
     "output_type": "display_data"
    },
    {
     "data": {
      "text/html": [
       "<video width=400 controls><source src=\"data:video/mp4;base64,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\" type=\"video/mp4\"></video>"
      ],
      "text/plain": [
       "<IPython.core.display.HTML object>"
      ]
     },
     "metadata": {},
     "output_type": "display_data"
    }
   ],
   "source": [
    "for episode in range(n_episodes_video):\n",
    "    vid = HTML(render_mp4(f'{video_dir}/{video_name}_random_policy-episode-{episode}.mp4'))\n",
    "    display(vid)"
   ]
  },
  {
   "cell_type": "markdown",
   "metadata": {
    "id": "Oc5s6D8sQZQj"
   },
   "source": [
    "## Value function of a policy"
   ]
  },
  {
   "cell_type": "markdown",
   "metadata": {
    "id": "YUmU4p1TWlo8"
   },
   "source": [
    "Now, we can write a function that computes the value/cost-to-go of a given policy. We will do it in three ways:\n",
    "\n",
    "1.   Solving the (linear) Bellman equation:\n",
    "$$V^\\pi(x)=\\sum_{u}\\pi(x,u)\\left(R_x^u+\\sum_{x'}P_{xx'}^uV^\\pi(x')\\right);$$\n",
    "\n",
    "2.   Using the contractivity \"Bellman equation\": Update $V_t^\\pi$ to $V_{t+1}^\\pi$ via\n",
    "$$V_{t+1}^\\pi(x)=\\sum_u\\pi(x,u)\\left(R_x^u+\\sum_{x'}P_{xx'}^uV_t^\\pi(x')\\right);$$\n",
    "note that you also need to define an initial condition and an adequate stopping  criterium;\n",
    "\n",
    "3.   Via numerical simulations.\n",
    "\n",
    "*Note*: This is not the optimal value/cost-to-go, but just the reward/cost incurred when using the policy $\\pi$. After that, we will look into methods to compute the optimal policy $\\pi^\\ast$.\n",
    "\n",
    "First, let's write a function that computes the expected reward $R_x^u$ and the probability vector $P_{xx'}^u$ when playing action $u$ at state $x$.\n",
    "\n",
    "\n",
    "\n",
    "\n"
   ]
  },
  {
   "cell_type": "code",
   "execution_count": null,
   "metadata": {
    "id": "t8ZLdebQ5gY7"
   },
   "outputs": [],
   "source": [
    "def get_reward_probability_vector_state_action(state: int, action: int) -> Tuple[float, np.ndarray]:\n",
    "  expected_reward = 0.0\n",
    "  probability_vector = np.zeros(env.observation_space.n)\n",
    "\n",
    "  # Extract info\n",
    "  output = env.unwrapped.P[state][action]\n",
    "  for o in output:\n",
    "    p_next_state = o[0]\n",
    "    next_state = o[1]\n",
    "    reward = o[2]\n",
    "\n",
    "    # Reward\n",
    "    expected_reward += p_next_state*reward\n",
    "\n",
    "    # Probability vector\n",
    "    probability_vector[next_state] += p_next_state\n",
    "\n",
    "  return expected_reward, probability_vector"
   ]
  },
  {
   "cell_type": "markdown",
   "metadata": {
    "id": "mrKuFTjW5g10"
   },
   "source": [
    "We can now start with 1. We split the task in two pieces:\n",
    "\n",
    "\n",
    "1.   Implement a function `get_reward_probability_matrix` that outputs the reward vector (numpy array whose dimension is the number of states) whose entry $x$ is\n",
    "$$\\sum_{u}\\pi(x,u)R_x^u$$\n",
    "and the probability matrix (two-dimensional numpy array whose dimension is the number of states) whose entry $(x,x')$ is\n",
    "$$\\sum_{u}\\pi(x,u)P_{xx'}^u.$$\n",
    "2.   Use these two quantities to solve the linear equation. The output should be $V(x)$ as a numpy array (whose dimension is the number of states).\n",
    "\n",
    "*Hint:* Use the function `get_reward_probability_vector_state_action` you wrote above.\n",
    "\n"
   ]
  },
  {
   "cell_type": "code",
   "execution_count": null,
   "metadata": {
    "colab": {
     "base_uri": "https://localhost:8080/"
    },
    "id": "-STlLKNOVN6q",
    "outputId": "87d61c83-0265-486b-bcb0-9853fd17255f"
   },
   "outputs": [],
   "source": [
    "def get_reward_probability_matrix(policy: List[np.ndarray]) -> Tuple[np.ndarray, np.ndarray]:\n",
    "  expected_reward = np.zeros(env.observation_space.n)\n",
    "  probability_matrix = np.zeros((env.observation_space.n, env.observation_space.n))\n",
    "\n",
    "  for state in range(env.observation_space.n):\n",
    "    for action in range(env.action_space.n):\n",
    "      # Probability of playing that action\n",
    "      p_action = policy[state][action]\n",
    "      # Reward and probability vector\n",
    "      expected_reward_x_u, p_vector_x_u = get_reward_probability_vector_state_action(state=state,\n",
    "                                                                                     action=action)\n",
    "      # Reward\n",
    "      expected_reward[state] += p_action*expected_reward_x_u\n",
    "      # Probability matrix\n",
    "      probability_matrix[state, :] += p_action*p_vector_x_u\n",
    "  return expected_reward, probability_matrix\n",
    "\n",
    "def compute_value_policy(policy: List[np.ndarray]) -> np.ndarray:\n",
    "  r, p = get_reward_probability_matrix(policy=policy)\n",
    "  return np.linalg.solve(np.eye(env.observation_space.n) - gamma*p, r)\n",
    "\n",
    "value_random_policy = compute_value_policy(pi_random)\n",
    "print(value_random_policy)"
   ]
  },
  {
   "cell_type": "markdown",
   "metadata": {
    "id": "uYcwXKwlxwAr"
   },
   "source": [
    "We now use 2.\n",
    "\n",
    "*Hint:* You can start with a zero initial condition."
   ]
  },
  {
   "cell_type": "code",
   "execution_count": null,
   "metadata": {
    "colab": {
     "base_uri": "https://localhost:8080/"
    },
    "id": "7f6tUe1fxvIM",
    "outputId": "fde2ae47-0603-447c-a8dc-61d5eb71f4aa"
   },
   "outputs": [],
   "source": [
    "def compute_value_policy_iterative(policy: List[np.ndarray]) ->  np.ndarray:\n",
    "  value_pi = np.zeros(env.observation_space.n)\n",
    "  for t in range(1000):\n",
    "    value_pi_new = np.zeros(env.observation_space.n)\n",
    "    for state in range(env.observation_space.n):\n",
    "      for action in range(env.action_space.n):\n",
    "        expected_reward_action, probability_vector = get_reward_probability_vector_state_action(state=state,\n",
    "                                                                                                action=action)\n",
    "        value_pi_new[state] += policy[state][action]*(expected_reward_action + gamma*np.dot(probability_vector, value_pi))\n",
    "    # Check if to stop\n",
    "    if np.max(np.abs(value_pi - value_pi_new)) <= 1e-6:\n",
    "      print('The iteration converged at t=' + str(t+1) + '.\\n')\n",
    "      break\n",
    "    value_pi = value_pi_new.copy()\n",
    "  return value_pi_new\n",
    "\n",
    "value_iterative_random_policy = compute_value_policy_iterative(pi_random)\n",
    "print(value_iterative_random_policy)"
   ]
  },
  {
   "cell_type": "markdown",
   "metadata": {
    "id": "0SgNGyLtV5kg"
   },
   "source": [
    "Finally, we check the value at the first cell and check your result numerically (use the simulation done above)"
   ]
  },
  {
   "cell_type": "code",
   "execution_count": null,
   "metadata": {
    "colab": {
     "base_uri": "https://localhost:8080/"
    },
    "id": "KTdoUixcV7ws",
    "outputId": "0f97a13d-6d65-4485-95c8-e6195ed8c9e6"
   },
   "outputs": [],
   "source": [
    "# Print value at the starting cell (note: for other environment it might not be the first cell)\n",
    "print(average_reward_random)"
   ]
  },
  {
   "cell_type": "markdown",
   "metadata": {
    "id": "9pMeTtP_26KR"
   },
   "source": [
    "## Optimal policies"
   ]
  },
  {
   "cell_type": "markdown",
   "metadata": {
    "id": "WOxpnKX13IVx"
   },
   "source": [
    "Now, we look into methods to find the optimal policy. In the lecture, you learned about the two main algorithms: Value iteration and policy iteration."
   ]
  },
  {
   "cell_type": "markdown",
   "metadata": {},
   "source": [
    "First, we need a function that computes the greedy policy. It consists of two ingredients:\n",
    "\n",
    "*   A function that evaluates\n",
    "$$x\\mapsto\\max_{u\\in U}R_x^u + \\gamma\\sum_{x'} P_{xx'}^u V(x')$$\n",
    "\n",
    "*   A second function that computes\n",
    "$$\\arg\\max_{\\pi}\\sum_{u}\\pi(x,u)\\left(R_x^u + \\gamma\\sum_{x'} P_{xx'}^u V(x')\\right)$$\n",
    "Here, note that the minimum always is a deterministic policy.\n"
   ]
  },
  {
   "cell_type": "code",
   "execution_count": null,
   "metadata": {},
   "outputs": [],
   "source": [
    "def compute_bellman_operator(state: int, value_function: np.ndarray) -> Tuple[float, int]:\n",
    "  candidates = np.zeros(env.action_space.n)\n",
    "  for action in range(env.action_space.n):\n",
    "    expected_reward_action, probability_vector = get_reward_probability_vector_state_action(state=state,\n",
    "                                                                                            action=action)\n",
    "    candidates[action] = expected_reward_action + gamma*np.dot(probability_vector, value_function)\n",
    "  return np.max(candidates), np.argmax(candidates) # since it is a reward, we maximize\n",
    "\n",
    "def compute_greedy_policy(value_function: np.ndarray) -> List[np.ndarray]:\n",
    "  pi_greedy = []\n",
    "  for state in range(env.observation_space.n):\n",
    "    _,  best_action = compute_bellman_operator(state=state,\n",
    "                                               value_function=value_function)\n",
    "    stochastic_policy = np.zeros(env.action_space.n) # here we could also focus on deterministic policies\n",
    "    stochastic_policy[best_action] = 1.0\n",
    "    pi_greedy.append(stochastic_policy)\n",
    "  return pi_greedy"
   ]
  },
  {
   "cell_type": "markdown",
   "metadata": {
    "id": "t8livCFxbK-5"
   },
   "source": [
    "### Value Iteration"
   ]
  },
  {
   "cell_type": "markdown",
   "metadata": {
    "id": "KUwThQKMeAeg"
   },
   "source": [
    "We now perform value iteration. We run the algortihm for at most a maximum number of iterations and we stop when the difference between the value functions of consecutive steps (measured via $\\|\\cdot\\|_\\infty$) is smaller than some given tolerance."
   ]
  },
  {
   "cell_type": "code",
   "execution_count": null,
   "metadata": {
    "colab": {
     "base_uri": "https://localhost:8080/"
    },
    "id": "mTyik9glbM7F",
    "outputId": "fdc290a7-5d95-4f0a-b61d-ed0e14406949"
   },
   "outputs": [],
   "source": [
    "# Maximum number of iterations\n",
    "max_number_iterations = 1000\n",
    "tol = 1e-5\n",
    "\n",
    "# Initial guess for the value function\n",
    "value = np.zeros(env.observation_space.n)\n",
    "\n",
    "for t in range(max_number_iterations):\n",
    "  value_new = np.zeros(env.observation_space.n)\n",
    "  for state in range(env.observation_space.n):\n",
    "    value_new[state], _ = compute_bellman_operator(state=state,\n",
    "                                                   value_function=value)\n",
    "  # Check if to stop\n",
    "  if np.max(np.abs(value - value_new)) <= tol:\n",
    "    print('Value iteration converged at t=' + str(t+1) + '.\\n')\n",
    "    break\n",
    "  value = value_new.copy()\n",
    "\n",
    "# Final result\n",
    "value_value_iteration = value_new\n",
    "pi_value_iteration = compute_greedy_policy(value_function=value_value_iteration)\n",
    "\n",
    "# Print value at the starting cell\n",
    "print(value_value_iteration[0])"
   ]
  },
  {
   "cell_type": "markdown",
   "metadata": {
    "id": "lAw7gcdZaN7a"
   },
   "source": [
    "Simulate policy"
   ]
  },
  {
   "cell_type": "code",
   "execution_count": null,
   "metadata": {
    "colab": {
     "base_uri": "https://localhost:8080/"
    },
    "id": "xpFgdeunbe3j",
    "outputId": "a344cf3a-ef2a-48f5-a980-b7881b39f2e7"
   },
   "outputs": [],
   "source": [
    "average_reward_value_iteration = simulate_environment(env,\n",
    "                                                      policy=pi_value_iteration,\n",
    "                                                      sim_video_name=video_name + '_value_iteration')\n",
    "print('Average reward: ' + str(average_reward_value_iteration))"
   ]
  },
  {
   "cell_type": "markdown",
   "metadata": {
    "id": "GWh_CSCc3qJy"
   },
   "source": [
    "Display video"
   ]
  },
  {
   "cell_type": "code",
   "execution_count": null,
   "metadata": {
    "colab": {
     "base_uri": "https://localhost:8080/",
     "height": 475
    },
    "id": "zFyJHqpV3rvN",
    "outputId": "2db4ad86-5ada-417d-9d8b-afbdee370e6d"
   },
   "outputs": [],
   "source": [
    "for episode in range(n_episodes_video):\n",
    "    vid = HTML(render_mp4(f'{video_dir}/{video_name}_value_iteration-episode-{episode}.mp4'))\n",
    "    display(vid)"
   ]
  },
  {
   "cell_type": "markdown",
   "metadata": {
    "id": "P92zlJuSYC08"
   },
   "source": [
    "### BONUS: Policy Iteration\n",
    "\n",
    "If you have time left, try to implement policy iteration to obtain an optimal policy."
   ]
  },
  {
   "cell_type": "markdown",
   "metadata": {
    "id": "N1oAmCVYapOb"
   },
   "source": [
    "We can now implement policy iteration. We initialize the algorithm with the random policy and stop at convergence (or when a given number of iterations is reached)."
   ]
  },
  {
   "cell_type": "code",
   "execution_count": null,
   "metadata": {
    "colab": {
     "base_uri": "https://localhost:8080/"
    },
    "id": "6UqXnvysYG_6",
    "outputId": "b556b0ed-93a6-400d-a26f-34d64b745f93"
   },
   "outputs": [],
   "source": [
    "# Maximum number of iterations\n",
    "max_number_iterations = 100 # will converge in finitely many steps anyway\n",
    "tol = 1e-5\n",
    "\n",
    "# Initialize with random policy\n",
    "pi = pi_random.copy()\n",
    "value = compute_value_policy(policy=pi)\n",
    "\n",
    "for t in range(max_number_iterations):\n",
    "  pi_new = compute_greedy_policy(value_function=value)\n",
    "  value_new = compute_value_policy(policy=pi_new)\n",
    "  # Check if converged (we compare the value since the pi^ast might not be unique)\n",
    "  if np.max(np.abs(value  - value_new)) <= tol:\n",
    "    print('Policy iteration converged at t=' + str(t+1) + '.\\n')\n",
    "    break\n",
    "  # Update policy\n",
    "  pi = pi_new.copy()\n",
    "  value = value_new.copy()\n",
    "\n",
    "# Final result\n",
    "pi_policy_iteration = pi\n",
    "value_policy_iteration = compute_value_policy(policy=pi_policy_iteration)\n",
    "\n",
    "# Print value at the starting cell\n",
    "print(value_policy_iteration[0])"
   ]
  },
  {
   "cell_type": "markdown",
   "metadata": {
    "id": "7F-yGPFG2grl"
   },
   "source": [
    "Simulate policy"
   ]
  },
  {
   "cell_type": "code",
   "execution_count": null,
   "metadata": {
    "colab": {
     "base_uri": "https://localhost:8080/"
    },
    "id": "OXjzNygC2jjU",
    "outputId": "2819f04d-a077-497c-dec4-d4e998e912af"
   },
   "outputs": [],
   "source": [
    "average_reward_policy_iteration = simulate_environment(env,\n",
    "                                                       policy=pi_policy_iteration,\n",
    "                                                       sim_video_name=video_name + '_policy_iteration')\n",
    "print('Average reward: ' + str(average_reward_policy_iteration))"
   ]
  },
  {
   "cell_type": "markdown",
   "metadata": {
    "id": "Fw24ZCN62v1c"
   },
   "source": [
    "Display video"
   ]
  },
  {
   "cell_type": "code",
   "execution_count": null,
   "metadata": {
    "colab": {
     "base_uri": "https://localhost:8080/",
     "height": 475
    },
    "id": "9m7Qa-LW2xG1",
    "outputId": "8994507d-1413-4b75-f10d-ba4928966240",
    "scrolled": true
   },
   "outputs": [],
   "source": [
    "for episode in range(n_episodes_video):\n",
    "    vid = HTML(render_mp4(f'{video_dir}/{video_name}_policy_iteration-episode-{episode}.mp4'))\n",
    "    display(vid)"
   ]
  }
 ],
 "metadata": {
  "colab": {
   "collapsed_sections": [
    "HuJwpRzvQfzu"
   ],
   "provenance": []
  },
  "kernelspec": {
   "display_name": "Python 3 (ipykernel)",
   "language": "python",
   "name": "python3"
  },
  "language_info": {
   "codemirror_mode": {
    "name": "ipython",
    "version": 3
   },
   "file_extension": ".py",
   "mimetype": "text/x-python",
   "name": "python",
   "nbconvert_exporter": "python",
   "pygments_lexer": "ipython3",
   "version": "3.12.10"
  }
 },
 "nbformat": 4,
 "nbformat_minor": 4
}
