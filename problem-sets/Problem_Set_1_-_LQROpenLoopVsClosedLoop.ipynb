{
 "cells": [
  {
   "cell_type": "code",
   "execution_count": 62,
   "metadata": {
    "id": "ie-IPyVGZbg4"
   },
   "outputs": [],
   "source": [
    "import numpy as np\n",
    "import cvxpy as cp\n",
    "import scipy\n",
    "from matplotlib import pyplot as plt"
   ]
  },
  {
   "cell_type": "markdown",
   "metadata": {
    "id": "EXsyaxHdZ6Zn"
   },
   "source": [
    "Define the problem matrices"
   ]
  },
  {
   "cell_type": "code",
   "execution_count": 63,
   "metadata": {
    "id": "xsPFqrTqZ3Gf"
   },
   "outputs": [],
   "source": [
    "n = 3\n",
    "m = 2\n",
    "T = 10\n",
    "\n",
    "np.random.seed(seed=0)\n",
    "\n",
    "A  = np.array([[0.88, 0.2, 0.49], [1.12,  0.94, -0.49], [0.48,-0.08, -0.05]])\n",
    "B  = np.array([[0.28, 0.36], [0.3, 0.27], [0.21, 0.33]])\n",
    "\n",
    "Q = np.diag(np.random.rand(n))\n",
    "S = np.diag(np.random.rand(n))\n",
    "R = np.diag(np.random.rand(m)) + 0.1*np.eye(m)\n",
    "\n",
    "initial_condition = 10*np.round(np.random.rand(n)-0.5, decimals=2)  # round to prevent numerical instabilities"
   ]
  },
  {
   "cell_type": "markdown",
   "metadata": {
    "id": "VMnXYEN8Z58C"
   },
   "source": [
    "Solve problem directly using a solve for constrained optimization and compare with closed form solution; one can use sparse matrices for a more efficient implementation."
   ]
  },
  {
   "cell_type": "code",
   "execution_count": 64,
   "metadata": {
    "colab": {
     "base_uri": "https://localhost:8080/"
    },
    "id": "EgVa0HjjZx37",
    "outputId": "6b525508-45b9-4360-c468-1c7e137b8f02"
   },
   "outputs": [
    {
     "name": "stdout",
     "output_type": "stream",
     "text": [
      "Difference QP - analytic: 1.877812141892754e-13\n"
     ]
    }
   ],
   "source": [
    "Q_tilde = scipy.linalg.block_diag(np.kron(np.eye(T-1), Q), S)\n",
    "R_tilde = np.kron(np.eye(T), R)\n",
    "\n",
    "# l\n",
    "l = np.zeros(n*T)\n",
    "Ax0 = np.matmul(A, initial_condition)\n",
    "for t in range(T):\n",
    "  l[t*n:(t+1)*n] = Ax0\n",
    "  Ax0 = np.matmul(A, Ax0)\n",
    "\n",
    "# L\n",
    "L = np.zeros((n*T, m*T))\n",
    "ApowerB = B\n",
    "for t in range(T):\n",
    "  L += np.kron(np.eye(N=T, M=T, k=-t), ApowerB)\n",
    "  ApowerB = np.matmul(A, ApowerB)\n",
    "\n",
    "# matrices of the QP\n",
    "c = np.matmul(np.matmul(initial_condition.T, Q), initial_condition) + np.matmul(np.matmul(l.T, Q_tilde), l)\n",
    "f = np.matmul(np.matmul(L.T, Q_tilde), l)\n",
    "F = R_tilde + np.matmul(np.matmul(L.T, Q_tilde), L)\n",
    "F = 0.5*(F.T + F) # ensure symmetric, even in the presence of numerical errors\n",
    "\n",
    "# solve as QP (use CVXPY just not to interact with the solver, can call the solve directly)\n",
    "u = cp.Variable(m*T)\n",
    "prob = cp.Problem(cp.Minimize(cp.quad_form(u, F) + (2*f.T) @ u + c))\n",
    "\n",
    "prob.solve(solver=cp.OSQP, verbose=False)\n",
    "\n",
    "optimal_input_qp = u.value\n",
    "\n",
    "# analytic\n",
    "optimal_input_analytic = -np.linalg.solve(F, f)\n",
    "cost_batch = np.matmul(optimal_input_analytic.T, np.matmul(F, optimal_input_analytic)) + 2.0*np.matmul(f.T, optimal_input_analytic) + c\n",
    "\n",
    "print('Difference QP - analytic: ' + str(np.mean(np.abs(optimal_input_analytic-optimal_input_qp))))"
   ]
  },
  {
   "cell_type": "markdown",
   "metadata": {
    "id": "NXofzoIQZz-C"
   },
   "source": [
    "We now implement the problem directly used CVXPY."
   ]
  },
  {
   "cell_type": "code",
   "execution_count": 65,
   "metadata": {
    "colab": {
     "base_uri": "https://localhost:8080/"
    },
    "id": "C0MWew94ZyA-",
    "outputId": "b5b48577-e381-4242-d22d-9b5562ba9125"
   },
   "outputs": [
    {
     "name": "stdout",
     "output_type": "stream",
     "text": [
      "Difference analytic - CVXPY: 4.8516399231424144e-14\n",
      "\n",
      "Cost batch approach: 64.54736801086256\n"
     ]
    }
   ],
   "source": [
    "u = cp.Variable((m, T))\n",
    "x = cp.Variable((n, T+1))\n",
    "objective = 0\n",
    "constraints = [x[:, 0] == initial_condition]\n",
    "for t in range(T):\n",
    "    objective += cp.quad_form(x[:, t], Q) + cp.quad_form(u[:, t], R)\n",
    "    constraints += [x[:, t+1] == A@x[:, t] + B@u[:, t]]\n",
    "objective += cp.quad_form(x[:,T], S)\n",
    "prob = cp.Problem(cp.Minimize(objective), constraints)\n",
    "\n",
    "prob.solve(solver=cp.OSQP, verbose=False)\n",
    "\n",
    "optimal_input_cvx = u.value.T.reshape(-1)\n",
    "\n",
    "print('Difference analytic - CVXPY: ' + str(np.mean(np.abs(optimal_input_cvx-optimal_input_analytic))))\n",
    "\n",
    "print('\\nCost batch approach: ' + str(cost_batch))"
   ]
  },
  {
   "cell_type": "markdown",
   "metadata": {
    "id": "bqEnh_-Yn3kh"
   },
   "source": [
    "Compute LQR controller"
   ]
  },
  {
   "cell_type": "code",
   "execution_count": 66,
   "metadata": {
    "colab": {
     "base_uri": "https://localhost:8080/"
    },
    "id": "hBFWeqHrbb2G",
    "outputId": "b6329d5c-6bdd-4b29-989c-d22a21291854"
   },
   "outputs": [
    {
     "name": "stdout",
     "output_type": "stream",
     "text": [
      "Cost recursive approach: 64.54736801087094\n"
     ]
    }
   ],
   "source": [
    "def P_new_lqr(P_old: np.ndarray) -> np.ndarray:\n",
    "  P = Q + \\\n",
    "    np.matmul(np.matmul(A.T, P_old), A) - \\\n",
    "    np.matmul(np.matmul(np.matmul(np.matmul(A.T, P_old), B),\n",
    "                        np.linalg.inv(R + np.matmul(np.matmul(B.T, P_old), B))),\n",
    "              np.matmul(B.T, np.matmul(P_old, A)))\n",
    "  return P\n",
    "\n",
    "def get_controller_from_P(P: np.ndarray) -> np.ndarray:\n",
    "  K = - np.matmul(np.linalg.inv(R + np.matmul(np.matmul(B.T, P), B)),\n",
    "                  np.matmul(B.T, np.matmul(P, A)))\n",
    "  return K\n",
    "  \n",
    "K = []\n",
    "P = S\n",
    "for t in range(T): \n",
    "  K.append(get_controller_from_P(P).copy())\n",
    "  P = P_new_lqr(P)\n",
    "\n",
    "cost_recursive = np.matmul(initial_condition.T, np.matmul(P, initial_condition))\n",
    "\n",
    "print('Cost recursive approach: ' + str(cost_recursive))"
   ]
  },
  {
   "cell_type": "markdown",
   "metadata": {
    "id": "kB2oRLS-obRw"
   },
   "source": [
    "Run simulations\n"
   ]
  },
  {
   "cell_type": "code",
   "execution_count": 67,
   "metadata": {
    "colab": {
     "base_uri": "https://localhost:8080/",
     "height": 281
    },
    "id": "N0G6XRMWoaVb",
    "outputId": "d6aa37f4-5fff-4b3b-df8f-3973cb247d3f"
   },
   "outputs": [
    {
     "data": {
      "text/plain": [
       "(0.0, 10.0)"
      ]
     },
     "execution_count": 67,
     "metadata": {},
     "output_type": "execute_result"
    },
    {
     "data": {
      "image/png": "[encoded data removed]",
      "text/plain": [
       "<Figure size 432x288 with 1 Axes>"
      ]
     },
     "metadata": {
      "needs_background": "light"
     },
     "output_type": "display_data"
    }
   ],
   "source": [
    "horizon = T\n",
    "\n",
    "x1 = np.zeros((n, horizon+1))\n",
    "x2 = np.zeros((n, horizon+1))\n",
    "\n",
    "x1[:, 0] = initial_condition\n",
    "x2[:, 0] = initial_condition\n",
    "\n",
    "noise = False  # set to True to have noise\n",
    "\n",
    "for t in range(horizon):\n",
    "  noise_realization = noise*np.random.randn(n)\n",
    "  x1[:, t+1] = np.matmul(A, x1[:, t]) + np.matmul(B, optimal_input_analytic[t*m:(t+1)*m]) + noise_realization\n",
    "  x2[:, t+1] = np.matmul(A + np.matmul(B, K[T-1-t]), x2[:, t]) + noise_realization\n",
    "\n",
    "plt.plot(x1.T, linewidth=5, color='red')\n",
    "plt.plot(x2.T, linewidth=2, color='blue')\n",
    "plt.xlim((0, T))"
   ]
  },
  {
   "cell_type": "markdown",
   "metadata": {
    "id": "vqH77WLZsQgL"
   },
   "source": [
    "Define the constraints"
   ]
  },
  {
   "cell_type": "code",
   "execution_count": 68,
   "metadata": {
    "id": "bzNDunrfsQ3f"
   },
   "outputs": [],
   "source": [
    "r = 1 # be careful, problem might become infeasible\n",
    "p = 1\n",
    "\n",
    "G = np.round(np.random.randn(r, n), decimals=2)\n",
    "g = np.round(np.random.randn(r), decimals=2)\n",
    "\n",
    "H = np.round(np.random.randn(p, m), decimals=2)\n",
    "h = np.round(np.random.randn(p), decimals=2)\n",
    "\n",
    "# make sure initial condition  satisfies the constraints\n",
    "g += (np.matmul(G, initial_condition) - g)"
   ]
  },
  {
   "cell_type": "markdown",
   "metadata": {
    "id": "04AHIqtnr73c"
   },
   "source": [
    "Implement constraints as in b)"
   ]
  },
  {
   "cell_type": "code",
   "execution_count": 69,
   "metadata": {
    "id": "DLCxeg9CkSkJ"
   },
   "outputs": [],
   "source": [
    "# construct matrices\n",
    "h_tilde = np.kron(np.ones(T), h)\n",
    "H_tilde = np.kron(np.eye(T), H)\n",
    "g_tilde = np.kron(np.ones(T), g)\n",
    "G_tilde = np.kron(np.eye(T), G)\n",
    "\n",
    "# solve as QP (use CVXPY just not to interact with the solver, can call the solve directly)\n",
    "u = cp.Variable(m*T)\n",
    "prob = cp.Problem(cp.Minimize(cp.quad_form(u, F)+ 2.0*(f.T@u) + c),  [G_tilde@L@u <= g_tilde-G_tilde@l, H_tilde@u <= h_tilde]) \n",
    "\n",
    "prob.solve(solver=cp.OSQP, verbose=False)\n",
    "\n",
    "optimal_input_qp_constraints = u.value"
   ]
  },
  {
   "cell_type": "markdown",
   "metadata": {
    "id": "BKgq7IIur-Xx"
   },
   "source": [
    "Implement constraints in cvxpy"
   ]
  },
  {
   "cell_type": "code",
   "execution_count": 70,
   "metadata": {
    "colab": {
     "base_uri": "https://localhost:8080/"
    },
    "id": "0wIliOagkX9-",
    "outputId": "2f74fee2-c1c3-46e2-eb29-2432026384ac"
   },
   "outputs": [
    {
     "name": "stdout",
     "output_type": "stream",
     "text": [
      "Difference QP - CVXPY: 1.9650228753470556e-06\n"
     ]
    }
   ],
   "source": [
    "u = cp.Variable((m, T))\n",
    "x = cp.Variable((n, T+1))\n",
    "objective = 0\n",
    "constraints = [x[:, 0] == initial_condition]\n",
    "for t in range(T):\n",
    "    objective += cp.quad_form(x[:, t], Q) + cp.quad_form(u[:, t], R)\n",
    "    constraints += [x[:, t+1] == A@x[:, t] + B@u[:, t]]\n",
    "    constraints += [G@x[:, t] <= g]\n",
    "    constraints += [H@u[:, t] <= h]\n",
    "objective += cp.quad_form(x[:,T], S)\n",
    "constraints += [G@x[:, T] <= g]\n",
    "prob = cp.Problem(cp.Minimize(objective), constraints)\n",
    "\n",
    "prob.solve(solver=cp.OSQP, verbose=False)\n",
    "\n",
    "optimal_input_cvx_constraints = u.value.T.reshape(-1)\n",
    "\n",
    "print('Difference QP - CVXPY: ' + str(np.sum(np.abs(optimal_input_cvx_constraints-optimal_input_qp_constraints))))"
   ]
  }
 ],
 "metadata": {
  "colab": {
   "provenance": []
  },
  "kernelspec": {
   "display_name": "Python 3 (ipykernel)",
   "language": "python",
   "name": "python3"
  },
  "language_info": {
   "codemirror_mode": {
    "name": "ipython",
    "version": 3
   },
   "file_extension": ".py",
   "mimetype": "text/x-python",
   "name": "python",
   "nbconvert_exporter": "python",
   "pygments_lexer": "ipython3",
   "version": "3.12.9"
  }
 },
 "nbformat": 4,
 "nbformat_minor": 4
}
